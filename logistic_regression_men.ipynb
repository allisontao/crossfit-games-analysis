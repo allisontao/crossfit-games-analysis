{
 "cells": [
  {
   "cell_type": "markdown",
   "metadata": {},
   "source": [
    "# Logistic Regression - Male Athletes"
   ]
  },
  {
   "cell_type": "code",
   "execution_count": 4,
   "metadata": {},
   "outputs": [],
   "source": [
    "# Data Imports\n",
    "import numpy as np\n",
    "import pandas as pd\n",
    "\n",
    "\n",
    "# Math\n",
    "import math\n",
    "\n",
    "# Plot imports\n",
    "import matplotlib.pyplot as plt\n",
    "import seaborn as sns\n",
    "sns.set_style('whitegrid')\n",
    "%matplotlib inline\n",
    "\n",
    "# Machine Learning Imports\n",
    "from sklearn.linear_model import LogisticRegression\n",
    "from sklearn.model_selection import train_test_split\n",
    "\n",
    "# For evaluating our ML results\n",
    "from sklearn import metrics\n",
    "\n",
    "# Dataset Import\n",
    "import statsmodels.api as sm"
   ]
  },
  {
   "cell_type": "code",
   "execution_count": 5,
   "metadata": {
    "scrolled": true
   },
   "outputs": [
    {
     "name": "stderr",
     "output_type": "stream",
     "text": [
      "/Users/allisontao/anaconda3/lib/python3.8/site-packages/IPython/core/interactiveshell.py:3146: DtypeWarning: Columns (27) have mixed types.Specify dtype option on import or set low_memory=False.\n",
      "  has_raised = await self.run_ast_nodes(code_ast.body, cell_name,\n"
     ]
    }
   ],
   "source": [
    "# Reading csv files\n",
    "games_women = pd.read_csv('athletes-women.csv')\n",
    "games_men = pd.read_csv('athletes-men.csv')\n",
    "athletes = pd.read_csv('athletes-all.csv')\n",
    "\n",
    "# athletes who made it into the games\n",
    "games_all = pd.concat([games_women, games_men])\n",
    "games_women = games_women.drop(columns = ['rank', 'latitude', 'longitude', 'name', 'region'])\n",
    "games_men = games_men.drop(columns = ['rank', 'latitude', 'longitude', 'name', 'region'])"
   ]
  },
  {
   "cell_type": "code",
   "execution_count": 6,
   "metadata": {},
   "outputs": [],
   "source": [
    "df = athletes.merge(games_all.drop_duplicates(), on=['athlete_id'],\n",
    "                   how='left', indicator=True)"
   ]
  },
  {
   "cell_type": "code",
   "execution_count": 7,
   "metadata": {},
   "outputs": [],
   "source": [
    "# taking only the columns we want\n",
    "df_all = df[['athlete_id', 'age_x', 'gender', 'height_x', 'weight_x', 'fran_x', 'run5k_x', 'pullups_x', '_merge', 'train', 'experience', 'schedule', 'howlong_x', 'run400_x', 'candj_x', 'snatch_x', 'deadlift_x', 'backsq_x']]\n",
    "df_all = df_all.dropna()\n",
    "\n",
    "df_all_men = df_all.loc[df_all['gender'] == 'Male']"
   ]
  },
  {
   "cell_type": "code",
   "execution_count": 8,
   "metadata": {},
   "outputs": [
    {
     "name": "stderr",
     "output_type": "stream",
     "text": [
      "<ipython-input-8-6b737b4a4228>:4: SettingWithCopyWarning: \n",
      "A value is trying to be set on a copy of a slice from a DataFrame.\n",
      "Try using .loc[row_indexer,col_indexer] = value instead\n",
      "\n",
      "See the caveats in the documentation: https://pandas.pydata.org/pandas-docs/stable/user_guide/indexing.html#returning-a-view-versus-a-copy\n",
      "  not_make['howlong_x'] = not_make['howlong_x'].str.slice(0, 6)\n",
      "<ipython-input-8-6b737b4a4228>:10: SettingWithCopyWarning: \n",
      "A value is trying to be set on a copy of a slice from a DataFrame.\n",
      "Try using .loc[row_indexer,col_indexer] = value instead\n",
      "\n",
      "See the caveats in the documentation: https://pandas.pydata.org/pandas-docs/stable/user_guide/indexing.html#returning-a-view-versus-a-copy\n",
      "  not_make[\"howlong\"] = np.select(conditions, choices)\n",
      "<ipython-input-8-6b737b4a4228>:12: SettingWithCopyWarning: \n",
      "A value is trying to be set on a copy of a slice from a DataFrame.\n",
      "Try using .loc[row_indexer,col_indexer] = value instead\n",
      "\n",
      "See the caveats in the documentation: https://pandas.pydata.org/pandas-docs/stable/user_guide/indexing.html#returning-a-view-versus-a-copy\n",
      "  not_make['coach'] = np.where(not_make['train'].str.contains(\"have a coach\"), 1, 0)\n",
      "<ipython-input-8-6b737b4a4228>:13: SettingWithCopyWarning: \n",
      "A value is trying to be set on a copy of a slice from a DataFrame.\n",
      "Try using .loc[row_indexer,col_indexer] = value instead\n",
      "\n",
      "See the caveats in the documentation: https://pandas.pydata.org/pandas-docs/stable/user_guide/indexing.html#returning-a-view-versus-a-copy\n",
      "  not_make['certification'] = np.where(not_make['experience'].str.contains(\"Level 1\"), 1, 0)\n",
      "<ipython-input-8-6b737b4a4228>:14: SettingWithCopyWarning: \n",
      "A value is trying to be set on a copy of a slice from a DataFrame.\n",
      "Try using .loc[row_indexer,col_indexer] = value instead\n",
      "\n",
      "See the caveats in the documentation: https://pandas.pydata.org/pandas-docs/stable/user_guide/indexing.html#returning-a-view-versus-a-copy\n",
      "  not_make['multiple'] = np.where(not_make['schedule'].str.contains(\"multiple workouts\"), 1, 0)\n"
     ]
    }
   ],
   "source": [
    "# ones who have not made it who have stats filled out, temp while cleaning up\n",
    "def make_columns_numeric(df):    \n",
    "    not_make = df.loc[df['_merge'] == 'left_only']\n",
    "    not_make['howlong_x'] = not_make['howlong_x'].str.slice(0, 6)\n",
    "\n",
    "    col         = 'howlong_x'\n",
    "    conditions  = [ not_make[col].str.contains(\"Less\"), not_make[col].str.contains(\"6-12\"), not_make[col].str.contains(\"1-2\"), not_make[col].str.contains(\"2-4\"), not_make[col].str.contains(\"4+\") ]\n",
    "    choices     = [0,1,2,3,4]\n",
    "\n",
    "    not_make[\"howlong\"] = np.select(conditions, choices)\n",
    "\n",
    "    not_make['coach'] = np.where(not_make['train'].str.contains(\"have a coach\"), 1, 0)\n",
    "    not_make['certification'] = np.where(not_make['experience'].str.contains(\"Level 1\"), 1, 0)\n",
    "    not_make['multiple'] = np.where(not_make['schedule'].str.contains(\"multiple workouts\"), 1, 0)\n",
    "\n",
    "    return not_make\n",
    "\n",
    "not_make_men = make_columns_numeric(df_all_men)\n"
   ]
  },
  {
   "cell_type": "code",
   "execution_count": 9,
   "metadata": {},
   "outputs": [
    {
     "name": "stderr",
     "output_type": "stream",
     "text": [
      "/Users/allisontao/anaconda3/lib/python3.8/site-packages/pandas/core/frame.py:4296: SettingWithCopyWarning: \n",
      "A value is trying to be set on a copy of a slice from a DataFrame\n",
      "\n",
      "See the caveats in the documentation: https://pandas.pydata.org/pandas-docs/stable/user_guide/indexing.html#returning-a-view-versus-a-copy\n",
      "  return super().rename(\n"
     ]
    }
   ],
   "source": [
    "#not_in_games will contain all athletes that did not make it, with stats, with cleaned up columns\n",
    "not_in_games_men = not_make_men[['athlete_id', 'age_x', 'height_x', 'weight_x', 'fran_x', 'run5k_x', 'pullups_x', 'run400_x', 'candj_x', 'snatch_x', 'deadlift_x', 'backsq_x','howlong','coach','certification','multiple']]\n",
    "not_in_games_men.rename(columns={\"age_x\": \"age\",'height_x': 'height', 'weight_x':'weight', 'fran_x':'fran', 'run5k_x':'run5k','pullups_x':'pullups', 'run400_x':'run400', 'candj_x':'candj', 'snatch_x':'snatch', 'deadlift_x':'deadlift', 'backsq_x':'backsq'}, inplace = True)"
   ]
  },
  {
   "cell_type": "code",
   "execution_count": 10,
   "metadata": {},
   "outputs": [
    {
     "data": {
      "text/html": [
       "<div>\n",
       "<style scoped>\n",
       "    .dataframe tbody tr th:only-of-type {\n",
       "        vertical-align: middle;\n",
       "    }\n",
       "\n",
       "    .dataframe tbody tr th {\n",
       "        vertical-align: top;\n",
       "    }\n",
       "\n",
       "    .dataframe thead th {\n",
       "        text-align: right;\n",
       "    }\n",
       "</style>\n",
       "<table border=\"1\" class=\"dataframe\">\n",
       "  <thead>\n",
       "    <tr style=\"text-align: right;\">\n",
       "      <th></th>\n",
       "      <th>athlete_id</th>\n",
       "      <th>age</th>\n",
       "      <th>height</th>\n",
       "      <th>weight</th>\n",
       "      <th>fran</th>\n",
       "      <th>run5k</th>\n",
       "      <th>pullups</th>\n",
       "      <th>run400</th>\n",
       "      <th>candj</th>\n",
       "      <th>snatch</th>\n",
       "      <th>deadlift</th>\n",
       "      <th>backsq</th>\n",
       "      <th>howlong</th>\n",
       "      <th>coach</th>\n",
       "      <th>certification</th>\n",
       "      <th>multiple</th>\n",
       "    </tr>\n",
       "  </thead>\n",
       "  <tbody>\n",
       "    <tr>\n",
       "      <th>min</th>\n",
       "      <td>86.0</td>\n",
       "      <td>18.0</td>\n",
       "      <td>55.0</td>\n",
       "      <td>101.0</td>\n",
       "      <td>115.0</td>\n",
       "      <td>784.0</td>\n",
       "      <td>0.0</td>\n",
       "      <td>43.0</td>\n",
       "      <td>0.0</td>\n",
       "      <td>0.0</td>\n",
       "      <td>0.0</td>\n",
       "      <td>0.0</td>\n",
       "      <td>0</td>\n",
       "      <td>0</td>\n",
       "      <td>0</td>\n",
       "      <td>0</td>\n",
       "    </tr>\n",
       "    <tr>\n",
       "      <th>max</th>\n",
       "      <td>623866.0</td>\n",
       "      <td>56.0</td>\n",
       "      <td>82.0</td>\n",
       "      <td>300.0</td>\n",
       "      <td>600.0</td>\n",
       "      <td>3562.0</td>\n",
       "      <td>100.0</td>\n",
       "      <td>180.0</td>\n",
       "      <td>428.0</td>\n",
       "      <td>500.0</td>\n",
       "      <td>717.0</td>\n",
       "      <td>675.0</td>\n",
       "      <td>4</td>\n",
       "      <td>1</td>\n",
       "      <td>1</td>\n",
       "      <td>1</td>\n",
       "    </tr>\n",
       "  </tbody>\n",
       "</table>\n",
       "</div>"
      ],
      "text/plain": [
       "     athlete_id   age  height  weight   fran   run5k  pullups  run400  candj  \\\n",
       "min        86.0  18.0    55.0   101.0  115.0   784.0      0.0    43.0    0.0   \n",
       "max    623866.0  56.0    82.0   300.0  600.0  3562.0    100.0   180.0  428.0   \n",
       "\n",
       "     snatch  deadlift  backsq  howlong  coach  certification  multiple  \n",
       "min     0.0       0.0     0.0        0      0              0         0  \n",
       "max   500.0     717.0   675.0        4      1              1         1  "
      ]
     },
     "execution_count": 10,
     "metadata": {},
     "output_type": "execute_result"
    }
   ],
   "source": [
    "#Min and Max of men\n",
    "not_in_games_men2 = not_in_games_men.loc[(not_in_games_men[\"age\"] >= 18) & (not_in_games_men[\"height\"] <= 100) & (not_in_games_men[\"height\"] >= 50) & (not_in_games_men[\"weight\"] <= 300) & (not_in_games_men[\"weight\"] >= 100) &(not_in_games_men[\"fran\"] <= 600) & (not_in_games_men[\"fran\"] >= 113) & (not_in_games_men[\"run400\"] <= 180) & (not_in_games_men[\"run400\"] >= 43) & (not_in_games_men[\"run5k\"] <= 3600) & (not_in_games_men[\"run5k\"] >= 769) & (not_in_games_men[\"pullups\"] <= 100) &(not_in_games_men[\"backsq\"] <= 1157) &(not_in_games_men[\"deadlift\"] <= 1105)]\n",
    "not_in_games_men2.agg([min, max])\n",
    "\n"
   ]
  },
  {
   "cell_type": "code",
   "execution_count": 11,
   "metadata": {},
   "outputs": [
    {
     "name": "stderr",
     "output_type": "stream",
     "text": [
      "<ipython-input-11-0ae7fbd47e18>:2: SettingWithCopyWarning: \n",
      "A value is trying to be set on a copy of a slice from a DataFrame.\n",
      "Try using .loc[row_indexer,col_indexer] = value instead\n",
      "\n",
      "See the caveats in the documentation: https://pandas.pydata.org/pandas-docs/stable/user_guide/indexing.html#returning-a-view-versus-a-copy\n",
      "  not_in_games_men2['in_games'] = 0\n"
     ]
    }
   ],
   "source": [
    "games_men['in_games'] = 1\n",
    "not_in_games_men2['in_games'] = 0"
   ]
  },
  {
   "cell_type": "code",
   "execution_count": 12,
   "metadata": {},
   "outputs": [],
   "source": [
    "df_men = not_in_games_men2.append(games_men)\n",
    "\n",
    "# Drop ID column\n",
    "df_men = df_men.drop(['athlete_id'],axis=1)"
   ]
  },
  {
   "cell_type": "markdown",
   "metadata": {},
   "source": [
    "# Histograms"
   ]
  },
  {
   "cell_type": "code",
   "execution_count": 13,
   "metadata": {
    "scrolled": true
   },
   "outputs": [
    {
     "data": {
      "text/html": [
       "<div>\n",
       "<style scoped>\n",
       "    .dataframe tbody tr th:only-of-type {\n",
       "        vertical-align: middle;\n",
       "    }\n",
       "\n",
       "    .dataframe tbody tr th {\n",
       "        vertical-align: top;\n",
       "    }\n",
       "\n",
       "    .dataframe thead th {\n",
       "        text-align: right;\n",
       "    }\n",
       "</style>\n",
       "<table border=\"1\" class=\"dataframe\">\n",
       "  <thead>\n",
       "    <tr style=\"text-align: right;\">\n",
       "      <th></th>\n",
       "      <th>age</th>\n",
       "      <th>height</th>\n",
       "      <th>weight</th>\n",
       "      <th>fran</th>\n",
       "      <th>run5k</th>\n",
       "      <th>pullups</th>\n",
       "      <th>run400</th>\n",
       "      <th>candj</th>\n",
       "      <th>snatch</th>\n",
       "      <th>deadlift</th>\n",
       "      <th>backsq</th>\n",
       "      <th>howlong</th>\n",
       "      <th>coach</th>\n",
       "      <th>certification</th>\n",
       "      <th>multiple</th>\n",
       "    </tr>\n",
       "    <tr>\n",
       "      <th>in_games</th>\n",
       "      <th></th>\n",
       "      <th></th>\n",
       "      <th></th>\n",
       "      <th></th>\n",
       "      <th></th>\n",
       "      <th></th>\n",
       "      <th></th>\n",
       "      <th></th>\n",
       "      <th></th>\n",
       "      <th></th>\n",
       "      <th></th>\n",
       "      <th></th>\n",
       "      <th></th>\n",
       "      <th></th>\n",
       "      <th></th>\n",
       "    </tr>\n",
       "  </thead>\n",
       "  <tbody>\n",
       "    <tr>\n",
       "      <th>0</th>\n",
       "      <td>33.033095</td>\n",
       "      <td>70.484780</td>\n",
       "      <td>188.278652</td>\n",
       "      <td>264.523596</td>\n",
       "      <td>1333.136261</td>\n",
       "      <td>36.997140</td>\n",
       "      <td>68.988151</td>\n",
       "      <td>241.28764</td>\n",
       "      <td>185.561185</td>\n",
       "      <td>422.929928</td>\n",
       "      <td>343.272319</td>\n",
       "      <td>2.731563</td>\n",
       "      <td>0.331563</td>\n",
       "      <td>0.478447</td>\n",
       "      <td>0.553013</td>\n",
       "    </tr>\n",
       "    <tr>\n",
       "      <th>1</th>\n",
       "      <td>36.479021</td>\n",
       "      <td>69.695804</td>\n",
       "      <td>188.664336</td>\n",
       "      <td>170.632867</td>\n",
       "      <td>1276.590909</td>\n",
       "      <td>58.493007</td>\n",
       "      <td>63.611888</td>\n",
       "      <td>293.36014</td>\n",
       "      <td>235.101399</td>\n",
       "      <td>478.388112</td>\n",
       "      <td>407.590909</td>\n",
       "      <td>1.405594</td>\n",
       "      <td>0.391608</td>\n",
       "      <td>0.632867</td>\n",
       "      <td>0.702797</td>\n",
       "    </tr>\n",
       "  </tbody>\n",
       "</table>\n",
       "</div>"
      ],
      "text/plain": [
       "                age     height      weight        fran        run5k  \\\n",
       "in_games                                                              \n",
       "0         33.033095  70.484780  188.278652  264.523596  1333.136261   \n",
       "1         36.479021  69.695804  188.664336  170.632867  1276.590909   \n",
       "\n",
       "            pullups     run400      candj      snatch    deadlift      backsq  \\\n",
       "in_games                                                                        \n",
       "0         36.997140  68.988151  241.28764  185.561185  422.929928  343.272319   \n",
       "1         58.493007  63.611888  293.36014  235.101399  478.388112  407.590909   \n",
       "\n",
       "           howlong     coach  certification  multiple  \n",
       "in_games                                               \n",
       "0         2.731563  0.331563       0.478447  0.553013  \n",
       "1         1.405594  0.391608       0.632867  0.702797  "
      ]
     },
     "execution_count": 13,
     "metadata": {},
     "output_type": "execute_result"
    }
   ],
   "source": [
    "#Men\n",
    "df_men.groupby('in_games').mean()"
   ]
  },
  {
   "cell_type": "code",
   "execution_count": 14,
   "metadata": {},
   "outputs": [],
   "source": [
    "#Separating in and not in games\n",
    "df_men_ingames = df_men.loc[df_men['in_games'] == 1]\n",
    "df_men_nogames = df_men.loc[df_men['in_games'] == 0]"
   ]
  },
  {
   "cell_type": "markdown",
   "metadata": {},
   "source": [
    "### Age"
   ]
  },
  {
   "cell_type": "code",
   "execution_count": 15,
   "metadata": {
    "scrolled": true
   },
   "outputs": [
    {
     "data": {
      "text/plain": [
       "Text(0.5, 1.0, 'Overlapping plots')"
      ]
     },
     "execution_count": 15,
     "metadata": {},
     "output_type": "execute_result"
    },
    {
     "data": {
      "image/png": "[encoded data removed]",
      "text/plain": [
       "<Figure size 1080x360 with 3 Axes>"
      ]
     },
     "metadata": {
      "needs_background": "light"
     },
     "output_type": "display_data"
    }
   ],
   "source": [
    "fig, axes = plt.subplots(1, 3, figsize=(15, 5))\n",
    "fig.suptitle('Age of Men in CrossFit')\n",
    "\n",
    "# In games\n",
    "sns.histplot(ax=axes[0],data=df_men_ingames, x=\"age\", color=\"orange\")\n",
    "axes[0].set_title(\"Made it to the games\")\n",
    "\n",
    "# Not\n",
    "sns.histplot(ax=axes[1],data=df_men_nogames, x=\"age\", alpha=0.3)\n",
    "axes[1].set_title(\"Did not make it to the games\")\n",
    "\n",
    "#Overlay\n",
    "sns.histplot(ax=axes[2],data=df_men_ingames, x=\"age\", color=\"orange\")\n",
    "sns.histplot(ax=axes[2],data=df_men_nogames, x=\"age\", alpha=0.3)\n",
    "axes[2].set_title(\"Overlapping plots\")"
   ]
  },
  {
   "cell_type": "markdown",
   "metadata": {},
   "source": [
    "### Weight"
   ]
  },
  {
   "cell_type": "code",
   "execution_count": 16,
   "metadata": {},
   "outputs": [
    {
     "data": {
      "text/plain": [
       "Text(0.5, 1.0, 'Overlapping plots')"
      ]
     },
     "execution_count": 16,
     "metadata": {},
     "output_type": "execute_result"
    },
    {
     "data": {
      "image/png": "[encoded data removed]",
      "text/plain": [
       "<Figure size 1080x360 with 3 Axes>"
      ]
     },
     "metadata": {
      "needs_background": "light"
     },
     "output_type": "display_data"
    }
   ],
   "source": [
    "fig, axes = plt.subplots(1, 3, figsize=(15, 5))\n",
    "fig.suptitle('Weight of Men in CrossFit')\n",
    "\n",
    "# In games\n",
    "sns.histplot(ax=axes[0],data=df_men_ingames, x=\"weight\", color=\"orange\")\n",
    "axes[0].set_title(\"Made it to the games\")\n",
    "\n",
    "# Not\n",
    "sns.histplot(ax=axes[1],data=df_men_nogames, x=\"weight\", alpha=0.3)\n",
    "axes[1].set_title(\"Did not make it to the games\")\n",
    "\n",
    "#Overlay\n",
    "sns.histplot(ax=axes[2],data=df_men_ingames, x=\"weight\", color=\"orange\")\n",
    "sns.histplot(ax=axes[2],data=df_men_nogames, x=\"weight\", alpha=0.3)\n",
    "axes[2].set_title(\"Overlapping plots\")"
   ]
  },
  {
   "cell_type": "markdown",
   "metadata": {},
   "source": [
    "### Height"
   ]
  },
  {
   "cell_type": "code",
   "execution_count": 86,
   "metadata": {},
   "outputs": [
    {
     "data": {
      "text/plain": [
       "Text(0.5, 1.0, 'Overlapping plots')"
      ]
     },
     "execution_count": 86,
     "metadata": {},
     "output_type": "execute_result"
    },
    {
     "data": {
      "image/png": "[encoded data removed]",
      "text/plain": [
       "<Figure size 1080x360 with 3 Axes>"
      ]
     },
     "metadata": {
      "needs_background": "light"
     },
     "output_type": "display_data"
    }
   ],
   "source": [
    "fig, axes = plt.subplots(1, 3, figsize=(15, 5))\n",
    "fig.suptitle('Height of Men in CrossFit')\n",
    "\n",
    "# In games\n",
    "sns.histplot(ax=axes[0],data=df_men_ingames, x=\"height\", color=\"orange\")\n",
    "axes[0].set_title(\"Made it to the games\")\n",
    "\n",
    "# Not\n",
    "sns.histplot(ax=axes[1],data=df_men_nogames, x=\"height\", alpha=0.3)\n",
    "axes[1].set_title(\"Did not make it to the games\")\n",
    "\n",
    "#Overlay\n",
    "sns.histplot(ax=axes[2],data=df_men_ingames, x=\"height\", color=\"orange\")\n",
    "sns.histplot(ax=axes[2],data=df_men_nogames, x=\"height\", alpha=0.3)\n",
    "axes[2].set_title(\"Overlapping plots\")"
   ]
  },
  {
   "cell_type": "markdown",
   "metadata": {},
   "source": [
    "### Fran"
   ]
  },
  {
   "cell_type": "code",
   "execution_count": 18,
   "metadata": {},
   "outputs": [
    {
     "data": {
      "text/plain": [
       "Text(0.5, 1.0, 'Overlapping plots')"
      ]
     },
     "execution_count": 18,
     "metadata": {},
     "output_type": "execute_result"
    },
    {
     "data": {
      "image/png": "[encoded data removed]",
      "text/plain": [
       "<Figure size 1080x360 with 3 Axes>"
      ]
     },
     "metadata": {
      "needs_background": "light"
     },
     "output_type": "display_data"
    }
   ],
   "source": [
    "fig, axes = plt.subplots(1, 3, figsize=(15, 5))\n",
    "fig.suptitle(\"Fran time of Men in CrossFit\")\n",
    "\n",
    "# In games\n",
    "sns.histplot(ax=axes[0],data=df_men_ingames, x=\"fran\", color=\"orange\")\n",
    "axes[0].set_title(\"Made it to the games\")\n",
    "\n",
    "# Not\n",
    "sns.histplot(ax=axes[1],data=df_men_nogames, x=\"fran\", alpha=0.3)\n",
    "axes[1].set_title(\"Did not make it to the games\")\n",
    "\n",
    "#Overlay\n",
    "sns.histplot(ax=axes[2],data=df_men_ingames, x=\"fran\", color=\"orange\")\n",
    "sns.histplot(ax=axes[2],data=df_men_nogames, x=\"fran\", alpha=0.3)\n",
    "axes[2].set_title(\"Overlapping plots\")"
   ]
  },
  {
   "cell_type": "markdown",
   "metadata": {},
   "source": [
    "### Run5k"
   ]
  },
  {
   "cell_type": "code",
   "execution_count": 87,
   "metadata": {},
   "outputs": [
    {
     "data": {
      "text/plain": [
       "Text(0.5, 1.0, 'Overlapping plots')"
      ]
     },
     "execution_count": 87,
     "metadata": {},
     "output_type": "execute_result"
    },
    {
     "data": {
      "image/png": "[encoded data removed]",
      "text/plain": [
       "<Figure size 1080x360 with 3 Axes>"
      ]
     },
     "metadata": {
      "needs_background": "light"
     },
     "output_type": "display_data"
    }
   ],
   "source": [
    "fig, axes = plt.subplots(1, 3, figsize=(15, 5))\n",
    "fig.suptitle('5k Run Times of Men in CrossFit')\n",
    "\n",
    "# In games\n",
    "sns.histplot(ax=axes[0],data=df_men_ingames, x=\"run5k\", color=\"orange\")\n",
    "axes[0].set_title(\"Made it to the games\")\n",
    "\n",
    "# Not\n",
    "sns.histplot(ax=axes[1],data=df_men_nogames, x=\"run5k\", alpha=0.3)\n",
    "axes[1].set_title(\"Did not make it to the games\")\n",
    "\n",
    "#Overlay\n",
    "sns.histplot(ax=axes[2],data=df_men_ingames, x=\"run5k\", color=\"orange\")\n",
    "sns.histplot(ax=axes[2],data=df_men_nogames, x=\"run5k\", alpha=0.3)\n",
    "axes[2].set_title(\"Overlapping plots\")"
   ]
  },
  {
   "cell_type": "markdown",
   "metadata": {},
   "source": [
    "### Run400"
   ]
  },
  {
   "cell_type": "code",
   "execution_count": 88,
   "metadata": {},
   "outputs": [
    {
     "data": {
      "text/plain": [
       "Text(0.5, 1.0, 'Overlapping plots')"
      ]
     },
     "execution_count": 88,
     "metadata": {},
     "output_type": "execute_result"
    },
    {
     "data": {
      "image/png": "[encoded data removed]",
      "text/plain": [
       "<Figure size 1080x360 with 3 Axes>"
      ]
     },
     "metadata": {
      "needs_background": "light"
     },
     "output_type": "display_data"
    }
   ],
   "source": [
    "fig, axes = plt.subplots(1, 3, figsize=(15, 5))\n",
    "fig.suptitle('400m Run Times of Men in CrossFit')\n",
    "\n",
    "# In games\n",
    "sns.histplot(ax=axes[0],data=df_men_ingames, x=\"run400\", color=\"orange\")\n",
    "axes[0].set_title(\"Made it to the games\")\n",
    "\n",
    "# Not\n",
    "sns.histplot(ax=axes[1],data=df_men_nogames, x=\"run400\", alpha=0.3)\n",
    "axes[1].set_title(\"Did not make it to the games\")\n",
    "\n",
    "#Overlay\n",
    "sns.histplot(ax=axes[2],data=df_men_ingames, x=\"run400\", color=\"orange\")\n",
    "sns.histplot(ax=axes[2],data=df_men_nogames, x=\"run400\", alpha=0.3)\n",
    "axes[2].set_title(\"Overlapping plots\")"
   ]
  },
  {
   "cell_type": "markdown",
   "metadata": {},
   "source": [
    "### Clean and Jerk (candj)"
   ]
  },
  {
   "cell_type": "code",
   "execution_count": 89,
   "metadata": {},
   "outputs": [
    {
     "data": {
      "text/plain": [
       "Text(0.5, 1.0, 'Overlapping plots')"
      ]
     },
     "execution_count": 89,
     "metadata": {},
     "output_type": "execute_result"
    },
    {
     "data": {
      "image/png": "[encoded data removed]",
      "text/plain": [
       "<Figure size 1080x360 with 3 Axes>"
      ]
     },
     "metadata": {
      "needs_background": "light"
     },
     "output_type": "display_data"
    }
   ],
   "source": [
    "fig, axes = plt.subplots(1, 3, figsize=(15, 5))\n",
    "fig.suptitle('Clean and Jerk Weights of Men in CrossFit')\n",
    "\n",
    "# In games\n",
    "sns.histplot(ax=axes[0],data=df_men_ingames, x=\"candj\", color=\"orange\")\n",
    "axes[0].set_title(\"Made it to the games\")\n",
    "\n",
    "# Not\n",
    "sns.histplot(ax=axes[1],data=df_men_nogames, x=\"candj\", alpha=0.3)\n",
    "axes[1].set_title(\"Did not make it to the games\")\n",
    "\n",
    "#Overlay\n",
    "sns.histplot(ax=axes[2],data=df_men_ingames, x=\"candj\", color=\"orange\")\n",
    "sns.histplot(ax=axes[2],data=df_men_nogames, x=\"candj\", alpha=0.3)\n",
    "axes[2].set_title(\"Overlapping plots\")"
   ]
  },
  {
   "cell_type": "markdown",
   "metadata": {},
   "source": [
    "### Snatch"
   ]
  },
  {
   "cell_type": "code",
   "execution_count": 90,
   "metadata": {},
   "outputs": [
    {
     "data": {
      "text/plain": [
       "Text(0.5, 1.0, 'Overlapping plots')"
      ]
     },
     "execution_count": 90,
     "metadata": {},
     "output_type": "execute_result"
    },
    {
     "data": {
      "image/png": "[encoded data removed]",
      "text/plain": [
       "<Figure size 1080x360 with 3 Axes>"
      ]
     },
     "metadata": {
      "needs_background": "light"
     },
     "output_type": "display_data"
    }
   ],
   "source": [
    "fig, axes = plt.subplots(1, 3, figsize=(15, 5))\n",
    "fig.suptitle('Snatch Weights of Men in CrossFit')\n",
    "\n",
    "# In games\n",
    "sns.histplot(ax=axes[0],data=df_men_ingames, x=\"snatch\", color=\"orange\")\n",
    "axes[0].set_title(\"Made it to the games\")\n",
    "\n",
    "# Not\n",
    "sns.histplot(ax=axes[1],data=df_men_nogames, x=\"snatch\", alpha=0.3)\n",
    "axes[1].set_title(\"Did not make it to the games\")\n",
    "\n",
    "#Overlay\n",
    "sns.histplot(ax=axes[2],data=df_men_ingames, x=\"snatch\", color=\"orange\")\n",
    "sns.histplot(ax=axes[2],data=df_men_nogames, x=\"snatch\", alpha=0.3)\n",
    "axes[2].set_title(\"Overlapping plots\")"
   ]
  },
  {
   "cell_type": "markdown",
   "metadata": {},
   "source": [
    "### Back Squat (backsq)"
   ]
  },
  {
   "cell_type": "code",
   "execution_count": 91,
   "metadata": {},
   "outputs": [
    {
     "data": {
      "text/plain": [
       "Text(0.5, 1.0, 'Overlapping plots')"
      ]
     },
     "execution_count": 91,
     "metadata": {},
     "output_type": "execute_result"
    },
    {
     "data": {
      "image/png": "[encoded data removed]",
      "text/plain": [
       "<Figure size 1080x360 with 3 Axes>"
      ]
     },
     "metadata": {
      "needs_background": "light"
     },
     "output_type": "display_data"
    }
   ],
   "source": [
    "fig, axes = plt.subplots(1, 3, figsize=(15, 5))\n",
    "fig.suptitle('Back Squat Weights of Men in CrossFit')\n",
    "\n",
    "# In games\n",
    "sns.histplot(ax=axes[0],data=df_men_ingames, x=\"backsq\", color=\"orange\")\n",
    "axes[0].set_title(\"Made it to the games\")\n",
    "\n",
    "# Not\n",
    "sns.histplot(ax=axes[1],data=df_men_nogames, x=\"backsq\", alpha=0.3)\n",
    "axes[1].set_title(\"Did not make it to the games\")\n",
    "\n",
    "#Overlay\n",
    "sns.histplot(ax=axes[2],data=df_men_ingames, x=\"backsq\", color=\"orange\")\n",
    "sns.histplot(ax=axes[2],data=df_men_nogames, x=\"backsq\", alpha=0.3)\n",
    "axes[2].set_title(\"Overlapping plots\")"
   ]
  },
  {
   "cell_type": "markdown",
   "metadata": {},
   "source": [
    "### Deadlift"
   ]
  },
  {
   "cell_type": "code",
   "execution_count": 92,
   "metadata": {},
   "outputs": [
    {
     "data": {
      "text/plain": [
       "Text(0.5, 1.0, 'Overlapping plots')"
      ]
     },
     "execution_count": 92,
     "metadata": {},
     "output_type": "execute_result"
    },
    {
     "data": {
      "image/png": "[encoded data removed]",
      "text/plain": [
       "<Figure size 1080x360 with 3 Axes>"
      ]
     },
     "metadata": {
      "needs_background": "light"
     },
     "output_type": "display_data"
    }
   ],
   "source": [
    "fig, axes = plt.subplots(1, 3, figsize=(15, 5))\n",
    "fig.suptitle('Deadlift Weights of Men in CrossFit')\n",
    "\n",
    "# In games\n",
    "sns.histplot(ax=axes[0],data=df_men_ingames, x=\"deadlift\", color=\"orange\")\n",
    "axes[0].set_title(\"Made it to the games\")\n",
    "\n",
    "# Not\n",
    "sns.histplot(ax=axes[1],data=df_men_nogames, x=\"deadlift\", alpha=0.3)\n",
    "axes[1].set_title(\"Did not make it to the games\")\n",
    "\n",
    "#Overlay\n",
    "sns.histplot(ax=axes[2],data=df_men_ingames, x=\"deadlift\", color=\"orange\")\n",
    "sns.histplot(ax=axes[2],data=df_men_nogames, x=\"deadlift\", alpha=0.3)\n",
    "axes[2].set_title(\"Overlapping plots\")"
   ]
  },
  {
   "cell_type": "markdown",
   "metadata": {},
   "source": [
    "### Pullups"
   ]
  },
  {
   "cell_type": "code",
   "execution_count": 93,
   "metadata": {},
   "outputs": [
    {
     "data": {
      "text/plain": [
       "Text(0.5, 1.0, 'Overlapping plots')"
      ]
     },
     "execution_count": 93,
     "metadata": {},
     "output_type": "execute_result"
    },
    {
     "data": {
      "image/png": "[encoded data removed]",
      "text/plain": [
       "<Figure size 1080x360 with 3 Axes>"
      ]
     },
     "metadata": {
      "needs_background": "light"
     },
     "output_type": "display_data"
    }
   ],
   "source": [
    "fig, axes = plt.subplots(1, 3, figsize=(15, 5))\n",
    "fig.suptitle('Number of Pullups of Men in CrossFit')\n",
    "\n",
    "# In games\n",
    "sns.histplot(ax=axes[0],data=df_men_ingames, x=\"pullups\", color=\"orange\")\n",
    "axes[0].set_title(\"Made it to the games\")\n",
    "\n",
    "# Not\n",
    "sns.histplot(ax=axes[1],data=df_men_nogames, x=\"pullups\", alpha=0.3)\n",
    "axes[1].set_title(\"Did not make it to the games\")\n",
    "\n",
    "#Overlay\n",
    "sns.histplot(ax=axes[2],data=df_men_ingames, x=\"pullups\", color=\"orange\")\n",
    "sns.histplot(ax=axes[2],data=df_men_nogames, x=\"pullups\", alpha=0.3)\n",
    "axes[2].set_title(\"Overlapping plots\")"
   ]
  },
  {
   "cell_type": "markdown",
   "metadata": {},
   "source": [
    "## Clean up Categorical"
   ]
  },
  {
   "cell_type": "code",
   "execution_count": 94,
   "metadata": {},
   "outputs": [
    {
     "data": {
      "text/html": [
       "<div>\n",
       "<style scoped>\n",
       "    .dataframe tbody tr th:only-of-type {\n",
       "        vertical-align: middle;\n",
       "    }\n",
       "\n",
       "    .dataframe tbody tr th {\n",
       "        vertical-align: top;\n",
       "    }\n",
       "\n",
       "    .dataframe thead th {\n",
       "        text-align: right;\n",
       "    }\n",
       "</style>\n",
       "<table border=\"1\" class=\"dataframe\">\n",
       "  <thead>\n",
       "    <tr style=\"text-align: right;\">\n",
       "      <th></th>\n",
       "      <th>0</th>\n",
       "      <th>1</th>\n",
       "      <th>2</th>\n",
       "      <th>3</th>\n",
       "      <th>4</th>\n",
       "    </tr>\n",
       "  </thead>\n",
       "  <tbody>\n",
       "    <tr>\n",
       "      <th>12</th>\n",
       "      <td>0</td>\n",
       "      <td>0</td>\n",
       "      <td>0</td>\n",
       "      <td>1</td>\n",
       "      <td>0</td>\n",
       "    </tr>\n",
       "    <tr>\n",
       "      <th>101</th>\n",
       "      <td>0</td>\n",
       "      <td>0</td>\n",
       "      <td>0</td>\n",
       "      <td>0</td>\n",
       "      <td>1</td>\n",
       "    </tr>\n",
       "    <tr>\n",
       "      <th>102</th>\n",
       "      <td>0</td>\n",
       "      <td>0</td>\n",
       "      <td>0</td>\n",
       "      <td>1</td>\n",
       "      <td>0</td>\n",
       "    </tr>\n",
       "    <tr>\n",
       "      <th>110</th>\n",
       "      <td>0</td>\n",
       "      <td>0</td>\n",
       "      <td>0</td>\n",
       "      <td>1</td>\n",
       "      <td>0</td>\n",
       "    </tr>\n",
       "    <tr>\n",
       "      <th>115</th>\n",
       "      <td>0</td>\n",
       "      <td>0</td>\n",
       "      <td>0</td>\n",
       "      <td>0</td>\n",
       "      <td>1</td>\n",
       "    </tr>\n",
       "    <tr>\n",
       "      <th>...</th>\n",
       "      <td>...</td>\n",
       "      <td>...</td>\n",
       "      <td>...</td>\n",
       "      <td>...</td>\n",
       "      <td>...</td>\n",
       "    </tr>\n",
       "    <tr>\n",
       "      <th>281</th>\n",
       "      <td>0</td>\n",
       "      <td>0</td>\n",
       "      <td>1</td>\n",
       "      <td>0</td>\n",
       "      <td>0</td>\n",
       "    </tr>\n",
       "    <tr>\n",
       "      <th>282</th>\n",
       "      <td>1</td>\n",
       "      <td>0</td>\n",
       "      <td>0</td>\n",
       "      <td>0</td>\n",
       "      <td>0</td>\n",
       "    </tr>\n",
       "    <tr>\n",
       "      <th>283</th>\n",
       "      <td>1</td>\n",
       "      <td>0</td>\n",
       "      <td>0</td>\n",
       "      <td>0</td>\n",
       "      <td>0</td>\n",
       "    </tr>\n",
       "    <tr>\n",
       "      <th>284</th>\n",
       "      <td>1</td>\n",
       "      <td>0</td>\n",
       "      <td>0</td>\n",
       "      <td>0</td>\n",
       "      <td>0</td>\n",
       "    </tr>\n",
       "    <tr>\n",
       "      <th>285</th>\n",
       "      <td>1</td>\n",
       "      <td>0</td>\n",
       "      <td>0</td>\n",
       "      <td>0</td>\n",
       "      <td>0</td>\n",
       "    </tr>\n",
       "  </tbody>\n",
       "</table>\n",
       "<p>5196 rows × 5 columns</p>\n",
       "</div>"
      ],
      "text/plain": [
       "     0  1  2  3  4\n",
       "12   0  0  0  1  0\n",
       "101  0  0  0  0  1\n",
       "102  0  0  0  1  0\n",
       "110  0  0  0  1  0\n",
       "115  0  0  0  0  1\n",
       "..  .. .. .. .. ..\n",
       "281  0  0  1  0  0\n",
       "282  1  0  0  0  0\n",
       "283  1  0  0  0  0\n",
       "284  1  0  0  0  0\n",
       "285  1  0  0  0  0\n",
       "\n",
       "[5196 rows x 5 columns]"
      ]
     },
     "execution_count": 94,
     "metadata": {},
     "output_type": "execute_result"
    }
   ],
   "source": [
    "# Create Dataframes for Categorical Variables\n",
    "howlong_men_dummies = pd.get_dummies(df_men['howlong']) # men athletes\n",
    "\n",
    "howlong_men_dummies"
   ]
  },
  {
   "cell_type": "code",
   "execution_count": 95,
   "metadata": {},
   "outputs": [],
   "source": [
    "# Create column names for the new DataFrames\n",
    "howlong_men_dummies.columns = ['hl1','hl2','hl3','hl4','hl5']"
   ]
  },
  {
   "cell_type": "code",
   "execution_count": 96,
   "metadata": {},
   "outputs": [
    {
     "data": {
      "text/html": [
       "<div>\n",
       "<style scoped>\n",
       "    .dataframe tbody tr th:only-of-type {\n",
       "        vertical-align: middle;\n",
       "    }\n",
       "\n",
       "    .dataframe tbody tr th {\n",
       "        vertical-align: top;\n",
       "    }\n",
       "\n",
       "    .dataframe thead th {\n",
       "        text-align: right;\n",
       "    }\n",
       "</style>\n",
       "<table border=\"1\" class=\"dataframe\">\n",
       "  <thead>\n",
       "    <tr style=\"text-align: right;\">\n",
       "      <th></th>\n",
       "      <th>age</th>\n",
       "      <th>height</th>\n",
       "      <th>weight</th>\n",
       "      <th>fran</th>\n",
       "      <th>run5k</th>\n",
       "      <th>pullups</th>\n",
       "      <th>run400</th>\n",
       "      <th>candj</th>\n",
       "      <th>snatch</th>\n",
       "      <th>deadlift</th>\n",
       "      <th>backsq</th>\n",
       "      <th>coach</th>\n",
       "      <th>certification</th>\n",
       "      <th>multiple</th>\n",
       "      <th>in_games</th>\n",
       "    </tr>\n",
       "  </thead>\n",
       "  <tbody>\n",
       "    <tr>\n",
       "      <th>12</th>\n",
       "      <td>31.0</td>\n",
       "      <td>65.0</td>\n",
       "      <td>150.0</td>\n",
       "      <td>119.0</td>\n",
       "      <td>1211.0</td>\n",
       "      <td>81.0</td>\n",
       "      <td>61.0</td>\n",
       "      <td>290.0</td>\n",
       "      <td>225.0</td>\n",
       "      <td>465.0</td>\n",
       "      <td>405.0</td>\n",
       "      <td>0</td>\n",
       "      <td>1</td>\n",
       "      <td>1</td>\n",
       "      <td>0</td>\n",
       "    </tr>\n",
       "    <tr>\n",
       "      <th>101</th>\n",
       "      <td>44.0</td>\n",
       "      <td>69.0</td>\n",
       "      <td>168.0</td>\n",
       "      <td>175.0</td>\n",
       "      <td>1470.0</td>\n",
       "      <td>34.0</td>\n",
       "      <td>85.0</td>\n",
       "      <td>245.0</td>\n",
       "      <td>185.0</td>\n",
       "      <td>435.0</td>\n",
       "      <td>405.0</td>\n",
       "      <td>0</td>\n",
       "      <td>0</td>\n",
       "      <td>0</td>\n",
       "      <td>0</td>\n",
       "    </tr>\n",
       "    <tr>\n",
       "      <th>102</th>\n",
       "      <td>24.0</td>\n",
       "      <td>68.0</td>\n",
       "      <td>180.0</td>\n",
       "      <td>126.0</td>\n",
       "      <td>1302.0</td>\n",
       "      <td>80.0</td>\n",
       "      <td>58.0</td>\n",
       "      <td>315.0</td>\n",
       "      <td>240.0</td>\n",
       "      <td>475.0</td>\n",
       "      <td>405.0</td>\n",
       "      <td>1</td>\n",
       "      <td>1</td>\n",
       "      <td>1</td>\n",
       "      <td>0</td>\n",
       "    </tr>\n",
       "    <tr>\n",
       "      <th>110</th>\n",
       "      <td>31.0</td>\n",
       "      <td>67.0</td>\n",
       "      <td>150.0</td>\n",
       "      <td>244.0</td>\n",
       "      <td>1268.0</td>\n",
       "      <td>42.0</td>\n",
       "      <td>63.0</td>\n",
       "      <td>230.0</td>\n",
       "      <td>175.0</td>\n",
       "      <td>410.0</td>\n",
       "      <td>330.0</td>\n",
       "      <td>0</td>\n",
       "      <td>1</td>\n",
       "      <td>1</td>\n",
       "      <td>0</td>\n",
       "    </tr>\n",
       "    <tr>\n",
       "      <th>115</th>\n",
       "      <td>34.0</td>\n",
       "      <td>69.0</td>\n",
       "      <td>185.0</td>\n",
       "      <td>183.0</td>\n",
       "      <td>1188.0</td>\n",
       "      <td>51.0</td>\n",
       "      <td>62.0</td>\n",
       "      <td>275.0</td>\n",
       "      <td>215.0</td>\n",
       "      <td>530.0</td>\n",
       "      <td>450.0</td>\n",
       "      <td>1</td>\n",
       "      <td>1</td>\n",
       "      <td>1</td>\n",
       "      <td>0</td>\n",
       "    </tr>\n",
       "    <tr>\n",
       "      <th>...</th>\n",
       "      <td>...</td>\n",
       "      <td>...</td>\n",
       "      <td>...</td>\n",
       "      <td>...</td>\n",
       "      <td>...</td>\n",
       "      <td>...</td>\n",
       "      <td>...</td>\n",
       "      <td>...</td>\n",
       "      <td>...</td>\n",
       "      <td>...</td>\n",
       "      <td>...</td>\n",
       "      <td>...</td>\n",
       "      <td>...</td>\n",
       "      <td>...</td>\n",
       "      <td>...</td>\n",
       "    </tr>\n",
       "    <tr>\n",
       "      <th>281</th>\n",
       "      <td>51.0</td>\n",
       "      <td>69.0</td>\n",
       "      <td>178.0</td>\n",
       "      <td>203.0</td>\n",
       "      <td>1260.0</td>\n",
       "      <td>55.0</td>\n",
       "      <td>66.0</td>\n",
       "      <td>255.0</td>\n",
       "      <td>165.0</td>\n",
       "      <td>425.0</td>\n",
       "      <td>330.0</td>\n",
       "      <td>1</td>\n",
       "      <td>1</td>\n",
       "      <td>1</td>\n",
       "      <td>1</td>\n",
       "    </tr>\n",
       "    <tr>\n",
       "      <th>282</th>\n",
       "      <td>41.0</td>\n",
       "      <td>70.0</td>\n",
       "      <td>179.0</td>\n",
       "      <td>339.0</td>\n",
       "      <td>1241.0</td>\n",
       "      <td>55.0</td>\n",
       "      <td>68.0</td>\n",
       "      <td>225.0</td>\n",
       "      <td>185.0</td>\n",
       "      <td>345.0</td>\n",
       "      <td>305.0</td>\n",
       "      <td>0</td>\n",
       "      <td>1</td>\n",
       "      <td>0</td>\n",
       "      <td>1</td>\n",
       "    </tr>\n",
       "    <tr>\n",
       "      <th>283</th>\n",
       "      <td>47.0</td>\n",
       "      <td>70.0</td>\n",
       "      <td>217.0</td>\n",
       "      <td>390.0</td>\n",
       "      <td>1806.0</td>\n",
       "      <td>34.0</td>\n",
       "      <td>72.0</td>\n",
       "      <td>315.0</td>\n",
       "      <td>245.0</td>\n",
       "      <td>485.0</td>\n",
       "      <td>420.0</td>\n",
       "      <td>1</td>\n",
       "      <td>0</td>\n",
       "      <td>0</td>\n",
       "      <td>1</td>\n",
       "    </tr>\n",
       "    <tr>\n",
       "      <th>284</th>\n",
       "      <td>54.0</td>\n",
       "      <td>67.0</td>\n",
       "      <td>167.0</td>\n",
       "      <td>188.0</td>\n",
       "      <td>1344.0</td>\n",
       "      <td>55.0</td>\n",
       "      <td>74.0</td>\n",
       "      <td>230.0</td>\n",
       "      <td>170.0</td>\n",
       "      <td>405.0</td>\n",
       "      <td>345.0</td>\n",
       "      <td>0</td>\n",
       "      <td>0</td>\n",
       "      <td>0</td>\n",
       "      <td>1</td>\n",
       "    </tr>\n",
       "    <tr>\n",
       "      <th>285</th>\n",
       "      <td>50.0</td>\n",
       "      <td>67.0</td>\n",
       "      <td>185.0</td>\n",
       "      <td>222.0</td>\n",
       "      <td>1300.0</td>\n",
       "      <td>52.0</td>\n",
       "      <td>65.0</td>\n",
       "      <td>265.0</td>\n",
       "      <td>215.0</td>\n",
       "      <td>455.0</td>\n",
       "      <td>375.0</td>\n",
       "      <td>0</td>\n",
       "      <td>0</td>\n",
       "      <td>0</td>\n",
       "      <td>1</td>\n",
       "    </tr>\n",
       "  </tbody>\n",
       "</table>\n",
       "<p>5196 rows × 15 columns</p>\n",
       "</div>"
      ],
      "text/plain": [
       "      age  height  weight   fran   run5k  pullups  run400  candj  snatch  \\\n",
       "12   31.0    65.0   150.0  119.0  1211.0     81.0    61.0  290.0   225.0   \n",
       "101  44.0    69.0   168.0  175.0  1470.0     34.0    85.0  245.0   185.0   \n",
       "102  24.0    68.0   180.0  126.0  1302.0     80.0    58.0  315.0   240.0   \n",
       "110  31.0    67.0   150.0  244.0  1268.0     42.0    63.0  230.0   175.0   \n",
       "115  34.0    69.0   185.0  183.0  1188.0     51.0    62.0  275.0   215.0   \n",
       "..    ...     ...     ...    ...     ...      ...     ...    ...     ...   \n",
       "281  51.0    69.0   178.0  203.0  1260.0     55.0    66.0  255.0   165.0   \n",
       "282  41.0    70.0   179.0  339.0  1241.0     55.0    68.0  225.0   185.0   \n",
       "283  47.0    70.0   217.0  390.0  1806.0     34.0    72.0  315.0   245.0   \n",
       "284  54.0    67.0   167.0  188.0  1344.0     55.0    74.0  230.0   170.0   \n",
       "285  50.0    67.0   185.0  222.0  1300.0     52.0    65.0  265.0   215.0   \n",
       "\n",
       "     deadlift  backsq  coach  certification  multiple  in_games  \n",
       "12      465.0   405.0      0              1         1         0  \n",
       "101     435.0   405.0      0              0         0         0  \n",
       "102     475.0   405.0      1              1         1         0  \n",
       "110     410.0   330.0      0              1         1         0  \n",
       "115     530.0   450.0      1              1         1         0  \n",
       "..        ...     ...    ...            ...       ...       ...  \n",
       "281     425.0   330.0      1              1         1         1  \n",
       "282     345.0   305.0      0              1         0         1  \n",
       "283     485.0   420.0      1              0         0         1  \n",
       "284     405.0   345.0      0              0         0         1  \n",
       "285     455.0   375.0      0              0         0         1  \n",
       "\n",
       "[5196 rows x 15 columns]"
      ]
     },
     "execution_count": 96,
     "metadata": {},
     "output_type": "execute_result"
    }
   ],
   "source": [
    "# Set X as new DataFrame without the howlong columns or the Y target\n",
    "X_m = df_men.drop(['howlong'], axis=1)\n",
    "X_m"
   ]
  },
  {
   "cell_type": "code",
   "execution_count": 97,
   "metadata": {},
   "outputs": [
    {
     "data": {
      "text/html": [
       "<div>\n",
       "<style scoped>\n",
       "    .dataframe tbody tr th:only-of-type {\n",
       "        vertical-align: middle;\n",
       "    }\n",
       "\n",
       "    .dataframe tbody tr th {\n",
       "        vertical-align: top;\n",
       "    }\n",
       "\n",
       "    .dataframe thead th {\n",
       "        text-align: right;\n",
       "    }\n",
       "</style>\n",
       "<table border=\"1\" class=\"dataframe\">\n",
       "  <thead>\n",
       "    <tr style=\"text-align: right;\">\n",
       "      <th></th>\n",
       "      <th>age</th>\n",
       "      <th>height</th>\n",
       "      <th>weight</th>\n",
       "      <th>fran</th>\n",
       "      <th>run5k</th>\n",
       "      <th>pullups</th>\n",
       "      <th>run400</th>\n",
       "      <th>candj</th>\n",
       "      <th>snatch</th>\n",
       "      <th>deadlift</th>\n",
       "      <th>backsq</th>\n",
       "      <th>coach</th>\n",
       "      <th>certification</th>\n",
       "      <th>multiple</th>\n",
       "      <th>in_games</th>\n",
       "      <th>hl1</th>\n",
       "      <th>hl2</th>\n",
       "      <th>hl3</th>\n",
       "      <th>hl4</th>\n",
       "      <th>hl5</th>\n",
       "    </tr>\n",
       "  </thead>\n",
       "  <tbody>\n",
       "    <tr>\n",
       "      <th>12</th>\n",
       "      <td>31.0</td>\n",
       "      <td>65.0</td>\n",
       "      <td>150.0</td>\n",
       "      <td>119.0</td>\n",
       "      <td>1211.0</td>\n",
       "      <td>81.0</td>\n",
       "      <td>61.0</td>\n",
       "      <td>290.0</td>\n",
       "      <td>225.0</td>\n",
       "      <td>465.0</td>\n",
       "      <td>405.0</td>\n",
       "      <td>0</td>\n",
       "      <td>1</td>\n",
       "      <td>1</td>\n",
       "      <td>0</td>\n",
       "      <td>0</td>\n",
       "      <td>0</td>\n",
       "      <td>0</td>\n",
       "      <td>1</td>\n",
       "      <td>0</td>\n",
       "    </tr>\n",
       "    <tr>\n",
       "      <th>101</th>\n",
       "      <td>44.0</td>\n",
       "      <td>69.0</td>\n",
       "      <td>168.0</td>\n",
       "      <td>175.0</td>\n",
       "      <td>1470.0</td>\n",
       "      <td>34.0</td>\n",
       "      <td>85.0</td>\n",
       "      <td>245.0</td>\n",
       "      <td>185.0</td>\n",
       "      <td>435.0</td>\n",
       "      <td>405.0</td>\n",
       "      <td>0</td>\n",
       "      <td>0</td>\n",
       "      <td>0</td>\n",
       "      <td>0</td>\n",
       "      <td>0</td>\n",
       "      <td>0</td>\n",
       "      <td>0</td>\n",
       "      <td>0</td>\n",
       "      <td>1</td>\n",
       "    </tr>\n",
       "    <tr>\n",
       "      <th>102</th>\n",
       "      <td>24.0</td>\n",
       "      <td>68.0</td>\n",
       "      <td>180.0</td>\n",
       "      <td>126.0</td>\n",
       "      <td>1302.0</td>\n",
       "      <td>80.0</td>\n",
       "      <td>58.0</td>\n",
       "      <td>315.0</td>\n",
       "      <td>240.0</td>\n",
       "      <td>475.0</td>\n",
       "      <td>405.0</td>\n",
       "      <td>1</td>\n",
       "      <td>1</td>\n",
       "      <td>1</td>\n",
       "      <td>0</td>\n",
       "      <td>0</td>\n",
       "      <td>0</td>\n",
       "      <td>0</td>\n",
       "      <td>1</td>\n",
       "      <td>0</td>\n",
       "    </tr>\n",
       "    <tr>\n",
       "      <th>110</th>\n",
       "      <td>31.0</td>\n",
       "      <td>67.0</td>\n",
       "      <td>150.0</td>\n",
       "      <td>244.0</td>\n",
       "      <td>1268.0</td>\n",
       "      <td>42.0</td>\n",
       "      <td>63.0</td>\n",
       "      <td>230.0</td>\n",
       "      <td>175.0</td>\n",
       "      <td>410.0</td>\n",
       "      <td>330.0</td>\n",
       "      <td>0</td>\n",
       "      <td>1</td>\n",
       "      <td>1</td>\n",
       "      <td>0</td>\n",
       "      <td>0</td>\n",
       "      <td>0</td>\n",
       "      <td>0</td>\n",
       "      <td>1</td>\n",
       "      <td>0</td>\n",
       "    </tr>\n",
       "    <tr>\n",
       "      <th>115</th>\n",
       "      <td>34.0</td>\n",
       "      <td>69.0</td>\n",
       "      <td>185.0</td>\n",
       "      <td>183.0</td>\n",
       "      <td>1188.0</td>\n",
       "      <td>51.0</td>\n",
       "      <td>62.0</td>\n",
       "      <td>275.0</td>\n",
       "      <td>215.0</td>\n",
       "      <td>530.0</td>\n",
       "      <td>450.0</td>\n",
       "      <td>1</td>\n",
       "      <td>1</td>\n",
       "      <td>1</td>\n",
       "      <td>0</td>\n",
       "      <td>0</td>\n",
       "      <td>0</td>\n",
       "      <td>0</td>\n",
       "      <td>0</td>\n",
       "      <td>1</td>\n",
       "    </tr>\n",
       "  </tbody>\n",
       "</table>\n",
       "</div>"
      ],
      "text/plain": [
       "      age  height  weight   fran   run5k  pullups  run400  candj  snatch  \\\n",
       "12   31.0    65.0   150.0  119.0  1211.0     81.0    61.0  290.0   225.0   \n",
       "101  44.0    69.0   168.0  175.0  1470.0     34.0    85.0  245.0   185.0   \n",
       "102  24.0    68.0   180.0  126.0  1302.0     80.0    58.0  315.0   240.0   \n",
       "110  31.0    67.0   150.0  244.0  1268.0     42.0    63.0  230.0   175.0   \n",
       "115  34.0    69.0   185.0  183.0  1188.0     51.0    62.0  275.0   215.0   \n",
       "\n",
       "     deadlift  backsq  coach  certification  multiple  in_games  hl1  hl2  \\\n",
       "12      465.0   405.0      0              1         1         0    0    0   \n",
       "101     435.0   405.0      0              0         0         0    0    0   \n",
       "102     475.0   405.0      1              1         1         0    0    0   \n",
       "110     410.0   330.0      0              1         1         0    0    0   \n",
       "115     530.0   450.0      1              1         1         0    0    0   \n",
       "\n",
       "     hl3  hl4  hl5  \n",
       "12     0    1    0  \n",
       "101    0    0    1  \n",
       "102    0    1    0  \n",
       "110    0    1    0  \n",
       "115    0    0    1  "
      ]
     },
     "execution_count": 97,
     "metadata": {},
     "output_type": "execute_result"
    }
   ],
   "source": [
    "# Now Concat the X DataFrame with the dummy variables\n",
    "X_m = pd.concat([X_m,howlong_men_dummies],axis=1)\n",
    "\n",
    "# Preview of Result\n",
    "X_m.head()"
   ]
  },
  {
   "cell_type": "code",
   "execution_count": 98,
   "metadata": {},
   "outputs": [
    {
     "data": {
      "text/plain": [
       "12     0\n",
       "101    0\n",
       "102    0\n",
       "110    0\n",
       "115    0\n",
       "      ..\n",
       "281    1\n",
       "282    1\n",
       "283    1\n",
       "284    1\n",
       "285    1\n",
       "Name: in_games, Length: 5196, dtype: int64"
      ]
     },
     "execution_count": 98,
     "metadata": {},
     "output_type": "execute_result"
    }
   ],
   "source": [
    "# Set Y as Target class, in games, for men and women\n",
    "Y_m = df_men.in_games\n",
    "\n",
    "# Preview\n",
    "Y_m"
   ]
  },
  {
   "cell_type": "code",
   "execution_count": 99,
   "metadata": {},
   "outputs": [
    {
     "data": {
      "text/html": [
       "<div>\n",
       "<style scoped>\n",
       "    .dataframe tbody tr th:only-of-type {\n",
       "        vertical-align: middle;\n",
       "    }\n",
       "\n",
       "    .dataframe tbody tr th {\n",
       "        vertical-align: top;\n",
       "    }\n",
       "\n",
       "    .dataframe thead th {\n",
       "        text-align: right;\n",
       "    }\n",
       "</style>\n",
       "<table border=\"1\" class=\"dataframe\">\n",
       "  <thead>\n",
       "    <tr style=\"text-align: right;\">\n",
       "      <th></th>\n",
       "      <th>age</th>\n",
       "      <th>height</th>\n",
       "      <th>weight</th>\n",
       "      <th>fran</th>\n",
       "      <th>run5k</th>\n",
       "      <th>pullups</th>\n",
       "      <th>run400</th>\n",
       "      <th>candj</th>\n",
       "      <th>snatch</th>\n",
       "      <th>deadlift</th>\n",
       "      <th>backsq</th>\n",
       "      <th>coach</th>\n",
       "      <th>certification</th>\n",
       "      <th>multiple</th>\n",
       "      <th>hl2</th>\n",
       "      <th>hl3</th>\n",
       "      <th>hl4</th>\n",
       "      <th>hl5</th>\n",
       "    </tr>\n",
       "  </thead>\n",
       "  <tbody>\n",
       "    <tr>\n",
       "      <th>12</th>\n",
       "      <td>31.0</td>\n",
       "      <td>65.0</td>\n",
       "      <td>150.0</td>\n",
       "      <td>119.0</td>\n",
       "      <td>1211.0</td>\n",
       "      <td>81.0</td>\n",
       "      <td>61.0</td>\n",
       "      <td>290.0</td>\n",
       "      <td>225.0</td>\n",
       "      <td>465.0</td>\n",
       "      <td>405.0</td>\n",
       "      <td>0</td>\n",
       "      <td>1</td>\n",
       "      <td>1</td>\n",
       "      <td>0</td>\n",
       "      <td>0</td>\n",
       "      <td>1</td>\n",
       "      <td>0</td>\n",
       "    </tr>\n",
       "    <tr>\n",
       "      <th>101</th>\n",
       "      <td>44.0</td>\n",
       "      <td>69.0</td>\n",
       "      <td>168.0</td>\n",
       "      <td>175.0</td>\n",
       "      <td>1470.0</td>\n",
       "      <td>34.0</td>\n",
       "      <td>85.0</td>\n",
       "      <td>245.0</td>\n",
       "      <td>185.0</td>\n",
       "      <td>435.0</td>\n",
       "      <td>405.0</td>\n",
       "      <td>0</td>\n",
       "      <td>0</td>\n",
       "      <td>0</td>\n",
       "      <td>0</td>\n",
       "      <td>0</td>\n",
       "      <td>0</td>\n",
       "      <td>1</td>\n",
       "    </tr>\n",
       "    <tr>\n",
       "      <th>102</th>\n",
       "      <td>24.0</td>\n",
       "      <td>68.0</td>\n",
       "      <td>180.0</td>\n",
       "      <td>126.0</td>\n",
       "      <td>1302.0</td>\n",
       "      <td>80.0</td>\n",
       "      <td>58.0</td>\n",
       "      <td>315.0</td>\n",
       "      <td>240.0</td>\n",
       "      <td>475.0</td>\n",
       "      <td>405.0</td>\n",
       "      <td>1</td>\n",
       "      <td>1</td>\n",
       "      <td>1</td>\n",
       "      <td>0</td>\n",
       "      <td>0</td>\n",
       "      <td>1</td>\n",
       "      <td>0</td>\n",
       "    </tr>\n",
       "    <tr>\n",
       "      <th>110</th>\n",
       "      <td>31.0</td>\n",
       "      <td>67.0</td>\n",
       "      <td>150.0</td>\n",
       "      <td>244.0</td>\n",
       "      <td>1268.0</td>\n",
       "      <td>42.0</td>\n",
       "      <td>63.0</td>\n",
       "      <td>230.0</td>\n",
       "      <td>175.0</td>\n",
       "      <td>410.0</td>\n",
       "      <td>330.0</td>\n",
       "      <td>0</td>\n",
       "      <td>1</td>\n",
       "      <td>1</td>\n",
       "      <td>0</td>\n",
       "      <td>0</td>\n",
       "      <td>1</td>\n",
       "      <td>0</td>\n",
       "    </tr>\n",
       "    <tr>\n",
       "      <th>115</th>\n",
       "      <td>34.0</td>\n",
       "      <td>69.0</td>\n",
       "      <td>185.0</td>\n",
       "      <td>183.0</td>\n",
       "      <td>1188.0</td>\n",
       "      <td>51.0</td>\n",
       "      <td>62.0</td>\n",
       "      <td>275.0</td>\n",
       "      <td>215.0</td>\n",
       "      <td>530.0</td>\n",
       "      <td>450.0</td>\n",
       "      <td>1</td>\n",
       "      <td>1</td>\n",
       "      <td>1</td>\n",
       "      <td>0</td>\n",
       "      <td>0</td>\n",
       "      <td>0</td>\n",
       "      <td>1</td>\n",
       "    </tr>\n",
       "  </tbody>\n",
       "</table>\n",
       "</div>"
      ],
      "text/plain": [
       "      age  height  weight   fran   run5k  pullups  run400  candj  snatch  \\\n",
       "12   31.0    65.0   150.0  119.0  1211.0     81.0    61.0  290.0   225.0   \n",
       "101  44.0    69.0   168.0  175.0  1470.0     34.0    85.0  245.0   185.0   \n",
       "102  24.0    68.0   180.0  126.0  1302.0     80.0    58.0  315.0   240.0   \n",
       "110  31.0    67.0   150.0  244.0  1268.0     42.0    63.0  230.0   175.0   \n",
       "115  34.0    69.0   185.0  183.0  1188.0     51.0    62.0  275.0   215.0   \n",
       "\n",
       "     deadlift  backsq  coach  certification  multiple  hl2  hl3  hl4  hl5  \n",
       "12      465.0   405.0      0              1         1    0    0    1    0  \n",
       "101     435.0   405.0      0              0         0    0    0    0    1  \n",
       "102     475.0   405.0      1              1         1    0    0    1    0  \n",
       "110     410.0   330.0      0              1         1    0    0    1    0  \n",
       "115     530.0   450.0      1              1         1    0    0    0    1  "
      ]
     },
     "execution_count": 99,
     "metadata": {},
     "output_type": "execute_result"
    }
   ],
   "source": [
    "# Dropping one column of each dummy variable set to avoid multicollinearity\n",
    "X_m = X_m.drop(['hl1'], axis=1)\n",
    "\n",
    "# Drop affairs column so Y target makes sense\n",
    "X_m = X_m.drop(['in_games'], axis=1)\n",
    "\n",
    "# Preview\n",
    "X_m.head()"
   ]
  },
  {
   "cell_type": "code",
   "execution_count": 100,
   "metadata": {},
   "outputs": [
    {
     "data": {
      "text/plain": [
       "array([0, 0, 0, ..., 1, 1, 1])"
      ]
     },
     "execution_count": 100,
     "metadata": {},
     "output_type": "execute_result"
    }
   ],
   "source": [
    "# Flatten array\n",
    "Y_m = np.ravel(Y_m)\n",
    "\n",
    "# Check result\n",
    "Y_m"
   ]
  },
  {
   "cell_type": "markdown",
   "metadata": {},
   "source": [
    "# Logistic Regression"
   ]
  },
  {
   "cell_type": "markdown",
   "metadata": {},
   "source": [
    "### Men"
   ]
  },
  {
   "cell_type": "code",
   "execution_count": 101,
   "metadata": {},
   "outputs": [
    {
     "name": "stderr",
     "output_type": "stream",
     "text": [
      "/Applications/anaconda3/lib/python3.9/site-packages/sklearn/linear_model/_logistic.py:763: ConvergenceWarning: lbfgs failed to converge (status=1):\n",
      "STOP: TOTAL NO. of ITERATIONS REACHED LIMIT.\n",
      "\n",
      "Increase the number of iterations (max_iter) or scale the data as shown in:\n",
      "    https://scikit-learn.org/stable/modules/preprocessing.html\n",
      "Please also refer to the documentation for alternative solver options:\n",
      "    https://scikit-learn.org/stable/modules/linear_model.html#logistic-regression\n",
      "  n_iter_i = _check_optimize_result(\n"
     ]
    },
    {
     "data": {
      "text/plain": [
       "0.9522709776751347"
      ]
     },
     "execution_count": 101,
     "metadata": {},
     "output_type": "execute_result"
    }
   ],
   "source": [
    "# Create LogisticRegression model\n",
    "log_model_m = LogisticRegression()\n",
    "\n",
    "# Fit our data\n",
    "log_model_m.fit(X_m,Y_m)\n",
    "\n",
    "# Check our accuracy\n",
    "log_model_m.score(X_m,Y_m)"
   ]
  },
  {
   "cell_type": "code",
   "execution_count": 102,
   "metadata": {},
   "outputs": [
    {
     "data": {
      "text/plain": [
       "0.0550423402617398"
      ]
     },
     "execution_count": 102,
     "metadata": {},
     "output_type": "execute_result"
    }
   ],
   "source": [
    "# Check percentage of women that made it to the games\n",
    "Y_m.mean()"
   ]
  },
  {
   "cell_type": "code",
   "execution_count": 103,
   "metadata": {},
   "outputs": [
    {
     "data": {
      "text/html": [
       "<div>\n",
       "<style scoped>\n",
       "    .dataframe tbody tr th:only-of-type {\n",
       "        vertical-align: middle;\n",
       "    }\n",
       "\n",
       "    .dataframe tbody tr th {\n",
       "        vertical-align: top;\n",
       "    }\n",
       "\n",
       "    .dataframe thead th {\n",
       "        text-align: right;\n",
       "    }\n",
       "</style>\n",
       "<table border=\"1\" class=\"dataframe\">\n",
       "  <thead>\n",
       "    <tr style=\"text-align: right;\">\n",
       "      <th></th>\n",
       "      <th>0</th>\n",
       "      <th>1</th>\n",
       "    </tr>\n",
       "  </thead>\n",
       "  <tbody>\n",
       "    <tr>\n",
       "      <th>0</th>\n",
       "      <td>age</td>\n",
       "      <td>[0.20178971639336155]</td>\n",
       "    </tr>\n",
       "    <tr>\n",
       "      <th>1</th>\n",
       "      <td>height</td>\n",
       "      <td>[-0.23855981431415677]</td>\n",
       "    </tr>\n",
       "    <tr>\n",
       "      <th>2</th>\n",
       "      <td>weight</td>\n",
       "      <td>[-0.003286887647491796]</td>\n",
       "    </tr>\n",
       "    <tr>\n",
       "      <th>3</th>\n",
       "      <td>fran</td>\n",
       "      <td>[-0.0040907545755037]</td>\n",
       "    </tr>\n",
       "    <tr>\n",
       "      <th>4</th>\n",
       "      <td>run5k</td>\n",
       "      <td>[0.0016490585955515182]</td>\n",
       "    </tr>\n",
       "    <tr>\n",
       "      <th>5</th>\n",
       "      <td>pullups</td>\n",
       "      <td>[0.07048722200194456]</td>\n",
       "    </tr>\n",
       "    <tr>\n",
       "      <th>6</th>\n",
       "      <td>run400</td>\n",
       "      <td>[-0.059574613794441074]</td>\n",
       "    </tr>\n",
       "    <tr>\n",
       "      <th>7</th>\n",
       "      <td>candj</td>\n",
       "      <td>[0.015492068517465924]</td>\n",
       "    </tr>\n",
       "    <tr>\n",
       "      <th>8</th>\n",
       "      <td>snatch</td>\n",
       "      <td>[0.024256650678197607]</td>\n",
       "    </tr>\n",
       "    <tr>\n",
       "      <th>9</th>\n",
       "      <td>deadlift</td>\n",
       "      <td>[-0.0022894384137374093]</td>\n",
       "    </tr>\n",
       "    <tr>\n",
       "      <th>10</th>\n",
       "      <td>backsq</td>\n",
       "      <td>[-0.004490779685044011]</td>\n",
       "    </tr>\n",
       "    <tr>\n",
       "      <th>11</th>\n",
       "      <td>coach</td>\n",
       "      <td>[-0.004577897012359392]</td>\n",
       "    </tr>\n",
       "    <tr>\n",
       "      <th>12</th>\n",
       "      <td>certification</td>\n",
       "      <td>[-0.011455329225188627]</td>\n",
       "    </tr>\n",
       "    <tr>\n",
       "      <th>13</th>\n",
       "      <td>multiple</td>\n",
       "      <td>[-0.0024540169478290143]</td>\n",
       "    </tr>\n",
       "    <tr>\n",
       "      <th>14</th>\n",
       "      <td>hl2</td>\n",
       "      <td>[-0.003754222914075355]</td>\n",
       "    </tr>\n",
       "    <tr>\n",
       "      <th>15</th>\n",
       "      <td>hl3</td>\n",
       "      <td>[0.06260224302208318]</td>\n",
       "    </tr>\n",
       "    <tr>\n",
       "      <th>16</th>\n",
       "      <td>hl4</td>\n",
       "      <td>[-0.04231446043853304]</td>\n",
       "    </tr>\n",
       "    <tr>\n",
       "      <th>17</th>\n",
       "      <td>hl5</td>\n",
       "      <td>[-0.05158880014794623]</td>\n",
       "    </tr>\n",
       "  </tbody>\n",
       "</table>\n",
       "</div>"
      ],
      "text/plain": [
       "                0                         1\n",
       "0             age     [0.20178971639336155]\n",
       "1          height    [-0.23855981431415677]\n",
       "2          weight   [-0.003286887647491796]\n",
       "3            fran     [-0.0040907545755037]\n",
       "4           run5k   [0.0016490585955515182]\n",
       "5         pullups     [0.07048722200194456]\n",
       "6          run400   [-0.059574613794441074]\n",
       "7           candj    [0.015492068517465924]\n",
       "8          snatch    [0.024256650678197607]\n",
       "9        deadlift  [-0.0022894384137374093]\n",
       "10         backsq   [-0.004490779685044011]\n",
       "11          coach   [-0.004577897012359392]\n",
       "12  certification   [-0.011455329225188627]\n",
       "13       multiple  [-0.0024540169478290143]\n",
       "14            hl2   [-0.003754222914075355]\n",
       "15            hl3     [0.06260224302208318]\n",
       "16            hl4    [-0.04231446043853304]\n",
       "17            hl5    [-0.05158880014794623]"
      ]
     },
     "execution_count": 103,
     "metadata": {},
     "output_type": "execute_result"
    }
   ],
   "source": [
    "# Use zip to bring the column names and the np.transpose function to bring together the coefficients from the model\n",
    "coeff_df_m = pd.DataFrame(zip(X_m.columns,np.transpose(log_model_m.coef_)))\n",
    "coeff_df_m"
   ]
  },
  {
   "cell_type": "markdown",
   "metadata": {},
   "source": [
    "#### Testing and Training Sets"
   ]
  },
  {
   "cell_type": "code",
   "execution_count": 104,
   "metadata": {},
   "outputs": [
    {
     "name": "stderr",
     "output_type": "stream",
     "text": [
      "/Applications/anaconda3/lib/python3.9/site-packages/sklearn/linear_model/_logistic.py:763: ConvergenceWarning: lbfgs failed to converge (status=1):\n",
      "STOP: TOTAL NO. of ITERATIONS REACHED LIMIT.\n",
      "\n",
      "Increase the number of iterations (max_iter) or scale the data as shown in:\n",
      "    https://scikit-learn.org/stable/modules/preprocessing.html\n",
      "Please also refer to the documentation for alternative solver options:\n",
      "    https://scikit-learn.org/stable/modules/linear_model.html#logistic-regression\n",
      "  n_iter_i = _check_optimize_result(\n"
     ]
    },
    {
     "data": {
      "text/plain": [
       "LogisticRegression()"
      ]
     },
     "execution_count": 104,
     "metadata": {},
     "output_type": "execute_result"
    }
   ],
   "source": [
    "# Split the data\n",
    "X_m_train, X_m_test, Y_m_train, Y_m_test = train_test_split(X_m,Y_m)\n",
    "\n",
    "# Make a new log_model\n",
    "log_model2_m = LogisticRegression()\n",
    "\n",
    "# Now fit the new model\n",
    "log_model2_m.fit(X_m_train,Y_m_train)"
   ]
  },
  {
   "cell_type": "code",
   "execution_count": 105,
   "metadata": {},
   "outputs": [
    {
     "data": {
      "text/plain": [
       "0.9561200923787528"
      ]
     },
     "execution_count": 105,
     "metadata": {},
     "output_type": "execute_result"
    }
   ],
   "source": [
    "# Predict the classes of the testing data set\n",
    "class_predict_m = log_model2_m.predict(X_m_test)\n",
    "\n",
    "\n",
    "# Compare the predicted classes to the actual test classes\n",
    "metrics.accuracy_score(Y_m_test,class_predict_m)"
   ]
  },
  {
   "cell_type": "markdown",
   "metadata": {},
   "source": [
    "## Confusion Matrix"
   ]
  },
  {
   "cell_type": "code",
   "execution_count": 106,
   "metadata": {},
   "outputs": [
    {
     "name": "stdout",
     "output_type": "stream",
     "text": [
      "error rate: 0.04\n"
     ]
    },
    {
     "data": {
      "text/html": [
       "<div>\n",
       "<style scoped>\n",
       "    .dataframe tbody tr th:only-of-type {\n",
       "        vertical-align: middle;\n",
       "    }\n",
       "\n",
       "    .dataframe tbody tr th {\n",
       "        vertical-align: top;\n",
       "    }\n",
       "\n",
       "    .dataframe thead th {\n",
       "        text-align: right;\n",
       "    }\n",
       "</style>\n",
       "<table border=\"1\" class=\"dataframe\">\n",
       "  <thead>\n",
       "    <tr style=\"text-align: right;\">\n",
       "      <th>Predicted label</th>\n",
       "      <th>0</th>\n",
       "      <th>1</th>\n",
       "    </tr>\n",
       "    <tr>\n",
       "      <th>True label</th>\n",
       "      <th></th>\n",
       "      <th></th>\n",
       "    </tr>\n",
       "  </thead>\n",
       "  <tbody>\n",
       "    <tr>\n",
       "      <th>0</th>\n",
       "      <td>1220</td>\n",
       "      <td>12</td>\n",
       "    </tr>\n",
       "    <tr>\n",
       "      <th>1</th>\n",
       "      <td>45</td>\n",
       "      <td>22</td>\n",
       "    </tr>\n",
       "  </tbody>\n",
       "</table>\n",
       "</div>"
      ],
      "text/plain": [
       "Predicted label     0   1\n",
       "True label               \n",
       "0                1220  12\n",
       "1                  45  22"
      ]
     },
     "execution_count": 106,
     "metadata": {},
     "output_type": "execute_result"
    }
   ],
   "source": [
    "from sklearn.metrics import confusion_matrix as sk_confusion_matrix\n",
    "\n",
    "def confusion_matrix(y, y_pred):\n",
    "    cm = sk_confusion_matrix(y, y_pred)\n",
    "    cm = pd.DataFrame(data=cm, columns=[0, 1], index=[0, 1])\n",
    "    cm.columns.name = 'Predicted label'\n",
    "    cm.index.name = 'True label'\n",
    "    error_rate = (y_pred != y).mean()\n",
    "    print('error rate: %.2f' % error_rate)\n",
    "    return cm\n",
    "\n",
    "confusion_matrix(Y_m_test, class_predict_m)"
   ]
  }
 ],
 "metadata": {
  "kernelspec": {
   "display_name": "Python 3",
   "language": "python",
   "name": "python3"
  },
  "language_info": {
   "codemirror_mode": {
    "name": "ipython",
    "version": 3
   },
   "file_extension": ".py",
   "mimetype": "text/x-python",
   "name": "python",
   "nbconvert_exporter": "python",
   "pygments_lexer": "ipython3",
   "version": "3.8.5"
  }
 },
 "nbformat": 4,
 "nbformat_minor": 5
}
