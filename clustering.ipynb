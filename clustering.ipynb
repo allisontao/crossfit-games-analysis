{
 "cells": [
  {
   "cell_type": "code",
   "execution_count": 33,
   "metadata": {},
   "outputs": [],
   "source": [
    "import numpy as np\n",
    "import pandas as pd\n",
    "\n",
    "import matplotlib.pyplot as plt\n",
    "\n",
    "import sklearn\n",
    "from sklearn.cluster import KMeans\n",
    "import sklearn.metrics as sm\n",
    "from sklearn import datasets\n",
    "from sklearn.metrics import confusion_matrix, classification_report"
   ]
  },
  {
   "cell_type": "code",
   "execution_count": 89,
   "metadata": {},
   "outputs": [
    {
     "data": {
      "text/html": [
       "<div>\n",
       "<style scoped>\n",
       "    .dataframe tbody tr th:only-of-type {\n",
       "        vertical-align: middle;\n",
       "    }\n",
       "\n",
       "    .dataframe tbody tr th {\n",
       "        vertical-align: top;\n",
       "    }\n",
       "\n",
       "    .dataframe thead th {\n",
       "        text-align: right;\n",
       "    }\n",
       "</style>\n",
       "<table border=\"1\" class=\"dataframe\">\n",
       "  <thead>\n",
       "    <tr style=\"text-align: right;\">\n",
       "      <th></th>\n",
       "      <th>Name</th>\n",
       "      <th>rank</th>\n",
       "      <th>region</th>\n",
       "      <th>longitude</th>\n",
       "      <th>latitude</th>\n",
       "      <th>age</th>\n",
       "      <th>height</th>\n",
       "      <th>weight</th>\n",
       "      <th>run400</th>\n",
       "      <th>run5k</th>\n",
       "      <th>fran</th>\n",
       "      <th>candj</th>\n",
       "      <th>snatch</th>\n",
       "      <th>deadlift</th>\n",
       "      <th>backsq</th>\n",
       "      <th>pullups</th>\n",
       "      <th>coach</th>\n",
       "      <th>certification</th>\n",
       "      <th>multiple</th>\n",
       "      <th>howlong</th>\n",
       "    </tr>\n",
       "  </thead>\n",
       "  <tbody>\n",
       "    <tr>\n",
       "      <th>0</th>\n",
       "      <td>KyleKasperbauer</td>\n",
       "      <td>1</td>\n",
       "      <td>North Central (Nebraska)</td>\n",
       "      <td>-99.9018</td>\n",
       "      <td>41.4925</td>\n",
       "      <td>32</td>\n",
       "      <td>68</td>\n",
       "      <td>190</td>\n",
       "      <td>51</td>\n",
       "      <td>1132</td>\n",
       "      <td>124</td>\n",
       "      <td>345</td>\n",
       "      <td>285</td>\n",
       "      <td>508</td>\n",
       "      <td>508</td>\n",
       "      <td>71</td>\n",
       "      <td>1</td>\n",
       "      <td>1</td>\n",
       "      <td>1</td>\n",
       "      <td>2</td>\n",
       "    </tr>\n",
       "    <tr>\n",
       "      <th>1</th>\n",
       "      <td>NealMaddox</td>\n",
       "      <td>1</td>\n",
       "      <td>Northern California (San Jose)</td>\n",
       "      <td>-121.8863</td>\n",
       "      <td>37.3382</td>\n",
       "      <td>37</td>\n",
       "      <td>70</td>\n",
       "      <td>205</td>\n",
       "      <td>61</td>\n",
       "      <td>1170</td>\n",
       "      <td>124</td>\n",
       "      <td>345</td>\n",
       "      <td>295</td>\n",
       "      <td>505</td>\n",
       "      <td>500</td>\n",
       "      <td>70</td>\n",
       "      <td>0</td>\n",
       "      <td>1</td>\n",
       "      <td>0</td>\n",
       "      <td>0</td>\n",
       "    </tr>\n",
       "    <tr>\n",
       "      <th>2</th>\n",
       "      <td>ScottPanchik</td>\n",
       "      <td>4</td>\n",
       "      <td>Central East (Ohio)</td>\n",
       "      <td>-81.3396</td>\n",
       "      <td>41.6662</td>\n",
       "      <td>27</td>\n",
       "      <td>69</td>\n",
       "      <td>187</td>\n",
       "      <td>55</td>\n",
       "      <td>1230</td>\n",
       "      <td>124</td>\n",
       "      <td>325</td>\n",
       "      <td>265</td>\n",
       "      <td>505</td>\n",
       "      <td>425</td>\n",
       "      <td>65</td>\n",
       "      <td>0</td>\n",
       "      <td>0</td>\n",
       "      <td>0</td>\n",
       "      <td>0</td>\n",
       "    </tr>\n",
       "    <tr>\n",
       "      <th>3</th>\n",
       "      <td>NealMaddox</td>\n",
       "      <td>9</td>\n",
       "      <td>Northern California (San Jose)</td>\n",
       "      <td>-120.8958</td>\n",
       "      <td>38.8375</td>\n",
       "      <td>37</td>\n",
       "      <td>70</td>\n",
       "      <td>205</td>\n",
       "      <td>61</td>\n",
       "      <td>1200</td>\n",
       "      <td>124</td>\n",
       "      <td>345</td>\n",
       "      <td>295</td>\n",
       "      <td>505</td>\n",
       "      <td>500</td>\n",
       "      <td>60</td>\n",
       "      <td>0</td>\n",
       "      <td>1</td>\n",
       "      <td>0</td>\n",
       "      <td>0</td>\n",
       "    </tr>\n",
       "    <tr>\n",
       "      <th>4</th>\n",
       "      <td>ZacharyForrest</td>\n",
       "      <td>11</td>\n",
       "      <td>South West (Nevada)</td>\n",
       "      <td>-115.1398</td>\n",
       "      <td>36.1699</td>\n",
       "      <td>29</td>\n",
       "      <td>67</td>\n",
       "      <td>175</td>\n",
       "      <td>61</td>\n",
       "      <td>1200</td>\n",
       "      <td>124</td>\n",
       "      <td>315</td>\n",
       "      <td>250</td>\n",
       "      <td>475</td>\n",
       "      <td>410</td>\n",
       "      <td>54</td>\n",
       "      <td>1</td>\n",
       "      <td>1</td>\n",
       "      <td>1</td>\n",
       "      <td>2</td>\n",
       "    </tr>\n",
       "  </tbody>\n",
       "</table>\n",
       "</div>"
      ],
      "text/plain": [
       "              Name  rank                          region  longitude  latitude  \\\n",
       "0  KyleKasperbauer     1        North Central (Nebraska)   -99.9018   41.4925   \n",
       "1       NealMaddox     1  Northern California (San Jose)  -121.8863   37.3382   \n",
       "2     ScottPanchik     4             Central East (Ohio)   -81.3396   41.6662   \n",
       "3       NealMaddox     9  Northern California (San Jose)  -120.8958   38.8375   \n",
       "4   ZacharyForrest    11             South West (Nevada)  -115.1398   36.1699   \n",
       "\n",
       "   age  height  weight  run400  run5k  fran  candj  snatch  deadlift  backsq  \\\n",
       "0   32      68     190      51   1132   124    345     285       508     508   \n",
       "1   37      70     205      61   1170   124    345     295       505     500   \n",
       "2   27      69     187      55   1230   124    325     265       505     425   \n",
       "3   37      70     205      61   1200   124    345     295       505     500   \n",
       "4   29      67     175      61   1200   124    315     250       475     410   \n",
       "\n",
       "   pullups  coach  certification  multiple  howlong  \n",
       "0       71      1              1         1        2  \n",
       "1       70      0              1         0        0  \n",
       "2       65      0              0         0        0  \n",
       "3       60      0              1         0        0  \n",
       "4       54      1              1         1        2  "
      ]
     },
     "execution_count": 89,
     "metadata": {},
     "output_type": "execute_result"
    }
   ],
   "source": [
    "women = pd.read_csv('athletes-women.csv')\n",
    "men = pd.read_csv('athletes-men.csv')\n",
    "#women = women.drop(columns=['Name', 'Region'])\n",
    "#women = women.drop([10])\n",
    "women.head()\n",
    "# missing = men.isnull().sum()\n",
    "# print(missing)\n"
   ]
  },
  {
   "cell_type": "code",
   "execution_count": 99,
   "metadata": {},
   "outputs": [
    {
     "data": {
      "text/plain": [
       "array([[-7.76486798e-01, -4.46116726e-01, -1.36309095e+00,\n",
       "         1.22142244e+00, -1.20552539e+00, -4.63642635e-01,\n",
       "         4.30498755e-01],\n",
       "       [-7.76486798e-01,  5.18902359e-02, -1.00485642e+00,\n",
       "         1.12376328e+00, -1.20552539e+00, -7.66632917e-01,\n",
       "         2.25775951e-01],\n",
       "       [-6.32996453e-01, -9.44123687e-01, -4.39222957e-01,\n",
       "         6.35467475e-01, -1.20552539e+00, -2.07818476e-01,\n",
       "         4.39058645e-01],\n",
       "       [-3.93845877e-01,  5.18902359e-02, -7.22039690e-01,\n",
       "         1.47171672e-01, -1.20552539e+00, -7.52981851e-01,\n",
       "         2.99661058e-01],\n",
       "       [-2.98185647e-01, -7.44920903e-01, -7.22039690e-01,\n",
       "        -4.38783292e-01, -1.20552539e+00, -6.73652684e-01,\n",
       "         1.68202436e-01],\n",
       "       [ 1.18454792e+00, -7.44920903e-01,  2.20682754e-01,\n",
       "        -1.45805810e-01, -1.20552539e+00, -6.73652684e-01,\n",
       "         1.68202436e-01],\n",
       "       [-6.32996453e-01, -4.77111565e-02, -1.49978571e-02,\n",
       "         1.47171672e-01, -1.17967398e+00, -7.01510232e-01,\n",
       "        -2.01962484e-03],\n",
       "       [-5.85166338e-01, -1.24292786e+00, -7.22039690e-01,\n",
       "        -4.81466491e-02, -1.17967398e+00, -7.50835994e-01,\n",
       "         7.38920905e-01],\n",
       "       [-5.85166338e-01, -1.24292786e+00, -4.95786304e-01,\n",
       "         6.35467475e-01, -1.15382257e+00,  2.75689138e+00,\n",
       "        -2.85975639e+00],\n",
       "       [-7.28656683e-01, -1.74093483e+00, -8.63448057e-01,\n",
       "         1.51439992e+00, -1.10211975e+00, -7.50835994e-01,\n",
       "         7.38920905e-01]])"
      ]
     },
     "execution_count": 99,
     "metadata": {},
     "output_type": "execute_result"
    }
   ],
   "source": [
    "from sklearn.preprocessing import scale\n",
    "df = women[['rank', 'age', 'run5k', 'pullups', 'fran', 'longitude', 'latitude']]\n",
    "X = scale(df)\n",
    "X[0:10,]"
   ]
  },
  {
   "cell_type": "code",
   "execution_count": 145,
   "metadata": {},
   "outputs": [
    {
     "data": {
      "text/plain": [
       "KMeans(n_clusters=3, random_state=5)"
      ]
     },
     "execution_count": 145,
     "metadata": {},
     "output_type": "execute_result"
    }
   ],
   "source": [
    "clustering = KMeans(n_clusters=3,random_state=5)\n",
    "clustering.fit(X)"
   ]
  },
  {
   "cell_type": "code",
   "execution_count": 146,
   "metadata": {
    "scrolled": true
   },
   "outputs": [],
   "source": [
    "df.columns = ['rank', 'age', 'run5k', 'pullups', 'fran', 'longitude', 'latitude']"
   ]
  },
  {
   "cell_type": "code",
   "execution_count": 147,
   "metadata": {},
   "outputs": [
    {
     "data": {
      "text/plain": [
       "Text(0.5, 1.0, 'K-Means Classification Pullups')"
      ]
     },
     "execution_count": 147,
     "metadata": {},
     "output_type": "execute_result"
    },
    {
     "data": {
      "image/png": "[encoded data removed]",
      "text/plain": [
       "<Figure size 432x288 with 1 Axes>"
      ]
     },
     "metadata": {
      "needs_background": "light"
     },
     "output_type": "display_data"
    }
   ],
   "source": [
    "color_theme = np.array(['darkgray','lightsalmon', 'blue'])\n",
    "\n",
    "plt.subplot(1,2,2)\n",
    "plt.scatter(x=df['rank'],y=df['pullups'],c=color_theme[clustering.labels_],s=50)\n",
    "plt.title('K-Means Classification Pullups')"
   ]
  },
  {
   "cell_type": "code",
   "execution_count": 154,
   "metadata": {},
   "outputs": [
    {
     "data": {
      "text/plain": [
       "Text(0.5, 1.0, 'K-Means Classification Location')"
      ]
     },
     "execution_count": 154,
     "metadata": {},
     "output_type": "execute_result"
    },
    {
     "data": {
      "image/png": "[encoded data removed]",
      "text/plain": [
       "<Figure size 432x288 with 1 Axes>"
      ]
     },
     "metadata": {
      "needs_background": "light"
     },
     "output_type": "display_data"
    }
   ],
   "source": [
    "mask = (df['longitude'] >= -135) & (df['longitude'] <= -60) & (df['latitude'] >= 25) & (df['latitude'] <= 60)\n",
    "df2 = df.loc[mask]\n",
    "df2.head()\n",
    "x = scale(df2)\n",
    "color_theme = np.array(['darkgray','lightsalmon', 'blue', 'red', 'green', 'yellow', 'purple', 'black', 'brown'])\n",
    "clustering = KMeans(n_clusters=9,random_state=6)\n",
    "clustering.fit(x)\n",
    "plt.subplot(1,2,2)\n",
    "plt.scatter(x=df2['longitude'],y=df2['latitude'],c=color_theme[clustering.labels_],s=50)\n",
    "plt.title('K-Means Classification Location')"
   ]
  },
  {
   "cell_type": "code",
   "execution_count": 156,
   "metadata": {},
   "outputs": [
    {
     "data": {
      "text/html": [
       "<div>\n",
       "<style scoped>\n",
       "    .dataframe tbody tr th:only-of-type {\n",
       "        vertical-align: middle;\n",
       "    }\n",
       "\n",
       "    .dataframe tbody tr th {\n",
       "        vertical-align: top;\n",
       "    }\n",
       "\n",
       "    .dataframe thead th {\n",
       "        text-align: right;\n",
       "    }\n",
       "</style>\n",
       "<table border=\"1\" class=\"dataframe\">\n",
       "  <thead>\n",
       "    <tr style=\"text-align: right;\">\n",
       "      <th></th>\n",
       "      <th>rank</th>\n",
       "      <th>age</th>\n",
       "      <th>run5k</th>\n",
       "      <th>pullups</th>\n",
       "      <th>fran</th>\n",
       "      <th>longitude</th>\n",
       "      <th>latitude</th>\n",
       "    </tr>\n",
       "  </thead>\n",
       "  <tbody>\n",
       "    <tr>\n",
       "      <th>0</th>\n",
       "      <td>1</td>\n",
       "      <td>32</td>\n",
       "      <td>1132</td>\n",
       "      <td>71</td>\n",
       "      <td>124</td>\n",
       "      <td>-99.9018</td>\n",
       "      <td>41.4925</td>\n",
       "    </tr>\n",
       "    <tr>\n",
       "      <th>1</th>\n",
       "      <td>1</td>\n",
       "      <td>37</td>\n",
       "      <td>1170</td>\n",
       "      <td>70</td>\n",
       "      <td>124</td>\n",
       "      <td>-121.8863</td>\n",
       "      <td>37.3382</td>\n",
       "    </tr>\n",
       "    <tr>\n",
       "      <th>2</th>\n",
       "      <td>4</td>\n",
       "      <td>27</td>\n",
       "      <td>1230</td>\n",
       "      <td>65</td>\n",
       "      <td>124</td>\n",
       "      <td>-81.3396</td>\n",
       "      <td>41.6662</td>\n",
       "    </tr>\n",
       "    <tr>\n",
       "      <th>3</th>\n",
       "      <td>9</td>\n",
       "      <td>37</td>\n",
       "      <td>1200</td>\n",
       "      <td>60</td>\n",
       "      <td>124</td>\n",
       "      <td>-120.8958</td>\n",
       "      <td>38.8375</td>\n",
       "    </tr>\n",
       "    <tr>\n",
       "      <th>4</th>\n",
       "      <td>11</td>\n",
       "      <td>29</td>\n",
       "      <td>1200</td>\n",
       "      <td>54</td>\n",
       "      <td>124</td>\n",
       "      <td>-115.1398</td>\n",
       "      <td>36.1699</td>\n",
       "    </tr>\n",
       "    <tr>\n",
       "      <th>...</th>\n",
       "      <td>...</td>\n",
       "      <td>...</td>\n",
       "      <td>...</td>\n",
       "      <td>...</td>\n",
       "      <td>...</td>\n",
       "      <td>...</td>\n",
       "      <td>...</td>\n",
       "    </tr>\n",
       "    <tr>\n",
       "      <th>280</th>\n",
       "      <td>19</td>\n",
       "      <td>54</td>\n",
       "      <td>1347</td>\n",
       "      <td>50</td>\n",
       "      <td>170</td>\n",
       "      <td>-81.5158</td>\n",
       "      <td>27.6648</td>\n",
       "    </tr>\n",
       "    <tr>\n",
       "      <th>281</th>\n",
       "      <td>19</td>\n",
       "      <td>51</td>\n",
       "      <td>1260</td>\n",
       "      <td>55</td>\n",
       "      <td>203</td>\n",
       "      <td>-81.5158</td>\n",
       "      <td>27.6648</td>\n",
       "    </tr>\n",
       "    <tr>\n",
       "      <th>282</th>\n",
       "      <td>19</td>\n",
       "      <td>41</td>\n",
       "      <td>1241</td>\n",
       "      <td>55</td>\n",
       "      <td>339</td>\n",
       "      <td>-91.8318</td>\n",
       "      <td>37.9643</td>\n",
       "    </tr>\n",
       "    <tr>\n",
       "      <th>284</th>\n",
       "      <td>20</td>\n",
       "      <td>54</td>\n",
       "      <td>1344</td>\n",
       "      <td>55</td>\n",
       "      <td>188</td>\n",
       "      <td>-89.3985</td>\n",
       "      <td>40.6331</td>\n",
       "    </tr>\n",
       "    <tr>\n",
       "      <th>285</th>\n",
       "      <td>20</td>\n",
       "      <td>50</td>\n",
       "      <td>1300</td>\n",
       "      <td>52</td>\n",
       "      <td>222</td>\n",
       "      <td>-71.3824</td>\n",
       "      <td>42.4072</td>\n",
       "    </tr>\n",
       "  </tbody>\n",
       "</table>\n",
       "<p>223 rows × 7 columns</p>\n",
       "</div>"
      ],
      "text/plain": [
       "     rank  age  run5k  pullups  fran  longitude  latitude\n",
       "0       1   32   1132       71   124   -99.9018   41.4925\n",
       "1       1   37   1170       70   124  -121.8863   37.3382\n",
       "2       4   27   1230       65   124   -81.3396   41.6662\n",
       "3       9   37   1200       60   124  -120.8958   38.8375\n",
       "4      11   29   1200       54   124  -115.1398   36.1699\n",
       "..    ...  ...    ...      ...   ...        ...       ...\n",
       "280    19   54   1347       50   170   -81.5158   27.6648\n",
       "281    19   51   1260       55   203   -81.5158   27.6648\n",
       "282    19   41   1241       55   339   -91.8318   37.9643\n",
       "284    20   54   1344       55   188   -89.3985   40.6331\n",
       "285    20   50   1300       52   222   -71.3824   42.4072\n",
       "\n",
       "[223 rows x 7 columns]"
      ]
     },
     "execution_count": 156,
     "metadata": {},
     "output_type": "execute_result"
    }
   ],
   "source": [
    "mask = (df['longitude'] >= -135) & (df['longitude'] <= -60) & (df['latitude'] >= 25) & (df['latitude'] <= 60)\n",
    "df2 = df.loc[mask]\n",
    "df2"
   ]
  },
  {
   "cell_type": "code",
   "execution_count": 105,
   "metadata": {},
   "outputs": [
    {
     "data": {
      "text/plain": [
       "Text(0.5, 1.0, 'K-Means Classification Location')"
      ]
     },
     "execution_count": 105,
     "metadata": {},
     "output_type": "execute_result"
    },
    {
     "data": {
      "image/png": "[encoded data removed]",
      "text/plain": [
       "<Figure size 432x288 with 1 Axes>"
      ]
     },
     "metadata": {
      "needs_background": "light"
     },
     "output_type": "display_data"
    }
   ],
   "source": [
    "plt.subplot(1,2,2)\n",
    "plt.scatter(x=df['longitude'],y=df['latitude'],c=color_theme[clustering.labels_],s=50)\n",
    "plt.title('K-Means Classification Location')"
   ]
  },
  {
   "cell_type": "code",
   "execution_count": 94,
   "metadata": {
    "scrolled": true
   },
   "outputs": [
    {
     "data": {
      "text/plain": [
       "Text(0.5, 1.0, 'K-Means Classification Run5k')"
      ]
     },
     "execution_count": 94,
     "metadata": {},
     "output_type": "execute_result"
    },
    {
     "data": {
      "image/png": "[encoded data removed]",
      "text/plain": [
       "<Figure size 432x288 with 1 Axes>"
      ]
     },
     "metadata": {
      "needs_background": "light"
     },
     "output_type": "display_data"
    }
   ],
   "source": [
    "plt.subplot(1,2,2)\n",
    "plt.scatter(x=df['rank'],y=df['run5k'],c=color_theme[clustering.labels_],s=50)\n",
    "plt.title('K-Means Classification Run5k')"
   ]
  },
  {
   "cell_type": "code",
   "execution_count": 106,
   "metadata": {},
   "outputs": [
    {
     "data": {
      "text/plain": [
       "KMeans(n_clusters=2, random_state=5)"
      ]
     },
     "execution_count": 106,
     "metadata": {},
     "output_type": "execute_result"
    }
   ],
   "source": [
    "# df2 = df.iloc[:, lambda x: x.index >= 18 and x.index <= 34]\n",
    "# df2 = df['age'].between(18, 34, inclusive=True)\n",
    "mask = (df['age'] >= 18) & (df['age'] <= 34)\n",
    "df2 = df.loc[mask]\n",
    "df2.head()\n",
    "x = scale(df2)\n",
    "clustering = KMeans(n_clusters=2,random_state=5)\n",
    "clustering.fit(x)"
   ]
  },
  {
   "cell_type": "code",
   "execution_count": 107,
   "metadata": {},
   "outputs": [
    {
     "data": {
      "text/plain": [
       "Text(0.5, 1.0, 'K-Means Classification Fran')"
      ]
     },
     "execution_count": 107,
     "metadata": {},
     "output_type": "execute_result"
    },
    {
     "data": {
      "image/png": "[encoded data removed]",
      "text/plain": [
       "<Figure size 432x288 with 1 Axes>"
      ]
     },
     "metadata": {
      "needs_background": "light"
     },
     "output_type": "display_data"
    }
   ],
   "source": [
    "plt.subplot(1,2,2)\n",
    "plt.scatter(x=df2['rank'],y=df2['fran'],c=color_theme[clustering.labels_],s=50)\n",
    "plt.title('K-Means Classification Fran')"
   ]
  },
  {
   "cell_type": "code",
   "execution_count": 108,
   "metadata": {},
   "outputs": [
    {
     "data": {
      "text/plain": [
       "Text(0.5, 1.0, 'K-Means Classification Pullups by age')"
      ]
     },
     "execution_count": 108,
     "metadata": {},
     "output_type": "execute_result"
    },
    {
     "data": {
      "image/png": "[encoded data removed]",
      "text/plain": [
       "<Figure size 432x288 with 1 Axes>"
      ]
     },
     "metadata": {
      "needs_background": "light"
     },
     "output_type": "display_data"
    }
   ],
   "source": [
    "plt.subplot(1,2,2)\n",
    "plt.scatter(x=df2['rank'],y=df2['pullups'],c=color_theme[clustering.labels_],s=50)\n",
    "plt.title('K-Means Classification Pullups by age')"
   ]
  },
  {
   "cell_type": "code",
   "execution_count": 109,
   "metadata": {},
   "outputs": [
    {
     "data": {
      "text/plain": [
       "Text(0.5, 1.0, 'K-Means Classification Location')"
      ]
     },
     "execution_count": 109,
     "metadata": {},
     "output_type": "execute_result"
    },
    {
     "data": {
      "image/png": "[encoded data removed]",
      "text/plain": [
       "<Figure size 432x288 with 1 Axes>"
      ]
     },
     "metadata": {
      "needs_background": "light"
     },
     "output_type": "display_data"
    }
   ],
   "source": [
    "plt.subplot(1,2,2)\n",
    "plt.scatter(x=df2['longitude'],y=df2['latitude'],c=color_theme[clustering.labels_],s=50)\n",
    "plt.title('K-Means Classification Location')"
   ]
  },
  {
   "cell_type": "code",
   "execution_count": 98,
   "metadata": {},
   "outputs": [
    {
     "data": {
      "text/plain": [
       "Text(0.5, 1.0, 'K-Means Classification Pullups')"
      ]
     },
     "execution_count": 98,
     "metadata": {},
     "output_type": "execute_result"
    },
    {
     "data": {
      "image/png": "[encoded data removed]",
      "text/plain": [
       "<Figure size 432x288 with 1 Axes>"
      ]
     },
     "metadata": {
      "needs_background": "light"
     },
     "output_type": "display_data"
    }
   ],
   "source": [
    "mask = (df['age'] >= 34) & (df['age'] <= 39)\n",
    "df2 = df.loc[mask]\n",
    "df2.head()\n",
    "x = scale(df2)\n",
    "clustering = KMeans(n_clusters=2,random_state=5)\n",
    "clustering.fit(x)\n",
    "plt.subplot(1,2,2)\n",
    "plt.scatter(x=df2['rank'],y=df2['pullups'],c=color_theme[clustering.labels_],s=50)\n",
    "plt.title('K-Means Classification Pullups by age')"
   ]
  },
  {
   "cell_type": "code",
   "execution_count": null,
   "metadata": {},
   "outputs": [],
   "source": []
  },
  {
   "cell_type": "code",
   "execution_count": null,
   "metadata": {},
   "outputs": [],
   "source": []
  }
 ],
 "metadata": {
  "kernelspec": {
   "display_name": "Python 3",
   "language": "python",
   "name": "python3"
  },
  "language_info": {
   "codemirror_mode": {
    "name": "ipython",
    "version": 3
   },
   "file_extension": ".py",
   "mimetype": "text/x-python",
   "name": "python",
   "nbconvert_exporter": "python",
   "pygments_lexer": "ipython3",
   "version": "3.8.5"
  }
 },
 "nbformat": 4,
 "nbformat_minor": 4
}
