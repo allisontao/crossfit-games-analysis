{
 "cells": [
  {
   "cell_type": "code",
   "execution_count": 161,
   "metadata": {},
   "outputs": [],
   "source": [
    "import numpy as np\n",
    "import pandas as pd\n",
    "\n",
    "import matplotlib.pyplot as plt\n",
    "\n",
    "import sklearn\n",
    "from sklearn.cluster import KMeans\n",
    "import sklearn.metrics as sm\n",
    "from sklearn import datasets\n",
    "from sklearn.metrics import confusion_matrix, classification_report"
   ]
  },
  {
   "cell_type": "code",
   "execution_count": 201,
   "metadata": {},
   "outputs": [
    {
     "data": {
      "text/html": [
       "<div>\n",
       "<style scoped>\n",
       "    .dataframe tbody tr th:only-of-type {\n",
       "        vertical-align: middle;\n",
       "    }\n",
       "\n",
       "    .dataframe tbody tr th {\n",
       "        vertical-align: top;\n",
       "    }\n",
       "\n",
       "    .dataframe thead th {\n",
       "        text-align: right;\n",
       "    }\n",
       "</style>\n",
       "<table border=\"1\" class=\"dataframe\">\n",
       "  <thead>\n",
       "    <tr style=\"text-align: right;\">\n",
       "      <th></th>\n",
       "      <th>Name</th>\n",
       "      <th>rank</th>\n",
       "      <th>region</th>\n",
       "      <th>age</th>\n",
       "      <th>height</th>\n",
       "      <th>weight</th>\n",
       "      <th>run400</th>\n",
       "      <th>run5k</th>\n",
       "      <th>candj</th>\n",
       "      <th>snatch</th>\n",
       "      <th>deadlift</th>\n",
       "      <th>backsq</th>\n",
       "      <th>pullups</th>\n",
       "      <th>coach</th>\n",
       "      <th>certification</th>\n",
       "      <th>multiple</th>\n",
       "    </tr>\n",
       "  </thead>\n",
       "  <tbody>\n",
       "    <tr>\n",
       "      <th>0</th>\n",
       "      <td>BrookeWells</td>\n",
       "      <td>5</td>\n",
       "      <td>North Central</td>\n",
       "      <td>19</td>\n",
       "      <td>66</td>\n",
       "      <td>156</td>\n",
       "      <td>78</td>\n",
       "      <td>1371</td>\n",
       "      <td>250</td>\n",
       "      <td>180</td>\n",
       "      <td>365</td>\n",
       "      <td>320</td>\n",
       "      <td>48</td>\n",
       "      <td>0</td>\n",
       "      <td>0</td>\n",
       "      <td>1</td>\n",
       "    </tr>\n",
       "    <tr>\n",
       "      <th>1</th>\n",
       "      <td>JackySchmitt</td>\n",
       "      <td>67</td>\n",
       "      <td>Europe</td>\n",
       "      <td>20</td>\n",
       "      <td>65</td>\n",
       "      <td>134</td>\n",
       "      <td>79</td>\n",
       "      <td>1340</td>\n",
       "      <td>139</td>\n",
       "      <td>143</td>\n",
       "      <td>254</td>\n",
       "      <td>209</td>\n",
       "      <td>37</td>\n",
       "      <td>0</td>\n",
       "      <td>0</td>\n",
       "      <td>0</td>\n",
       "    </tr>\n",
       "    <tr>\n",
       "      <th>2</th>\n",
       "      <td>FeeroozehSaghafi</td>\n",
       "      <td>24</td>\n",
       "      <td>Central East</td>\n",
       "      <td>20</td>\n",
       "      <td>62</td>\n",
       "      <td>135</td>\n",
       "      <td>80</td>\n",
       "      <td>1530</td>\n",
       "      <td>175</td>\n",
       "      <td>125</td>\n",
       "      <td>305</td>\n",
       "      <td>250</td>\n",
       "      <td>46</td>\n",
       "      <td>0</td>\n",
       "      <td>0</td>\n",
       "      <td>1</td>\n",
       "    </tr>\n",
       "    <tr>\n",
       "      <th>3</th>\n",
       "      <td>CourtneyHaley</td>\n",
       "      <td>23</td>\n",
       "      <td>Australia</td>\n",
       "      <td>20</td>\n",
       "      <td>65</td>\n",
       "      <td>152</td>\n",
       "      <td>65</td>\n",
       "      <td>1320</td>\n",
       "      <td>179</td>\n",
       "      <td>150</td>\n",
       "      <td>289</td>\n",
       "      <td>209</td>\n",
       "      <td>51</td>\n",
       "      <td>1</td>\n",
       "      <td>0</td>\n",
       "      <td>1</td>\n",
       "    </tr>\n",
       "    <tr>\n",
       "      <th>4</th>\n",
       "      <td>AliceMille</td>\n",
       "      <td>73</td>\n",
       "      <td>Europe</td>\n",
       "      <td>21</td>\n",
       "      <td>67</td>\n",
       "      <td>147</td>\n",
       "      <td>70</td>\n",
       "      <td>1260</td>\n",
       "      <td>183</td>\n",
       "      <td>132</td>\n",
       "      <td>265</td>\n",
       "      <td>227</td>\n",
       "      <td>20</td>\n",
       "      <td>0</td>\n",
       "      <td>0</td>\n",
       "      <td>0</td>\n",
       "    </tr>\n",
       "  </tbody>\n",
       "</table>\n",
       "</div>"
      ],
      "text/plain": [
       "               Name  rank         region  age  height  weight  run400  run5k  \\\n",
       "0       BrookeWells     5  North Central   19      66     156      78   1371   \n",
       "1      JackySchmitt    67         Europe   20      65     134      79   1340   \n",
       "2  FeeroozehSaghafi    24   Central East   20      62     135      80   1530   \n",
       "3     CourtneyHaley    23      Australia   20      65     152      65   1320   \n",
       "4        AliceMille    73         Europe   21      67     147      70   1260   \n",
       "\n",
       "   candj  snatch  deadlift  backsq  pullups  coach  certification  multiple  \n",
       "0    250     180       365     320       48      0              0         1  \n",
       "1    139     143       254     209       37      0              0         0  \n",
       "2    175     125       305     250       46      0              0         1  \n",
       "3    179     150       289     209       51      1              0         1  \n",
       "4    183     132       265     227       20      0              0         0  "
      ]
     },
     "execution_count": 201,
     "metadata": {},
     "output_type": "execute_result"
    }
   ],
   "source": [
    "women = pd.read_csv('sheet27.csv')\n",
    "# women = women.drop(columns=['Name', 'Region'])\n",
    "women = women.drop([10])\n",
    "women.head()\n",
    "# print(women.loc[[11]])\n"
   ]
  },
  {
   "cell_type": "code",
   "execution_count": 202,
   "metadata": {},
   "outputs": [
    {
     "data": {
      "text/plain": [
       "array([[ 1.30369728,  0.53653958, -0.88014291, -2.38586714,  0.36783809,\n",
       "         0.25413059,  1.7435104 ,  0.62404057,  1.28843241,  0.9606977 ,\n",
       "         0.31060783],\n",
       "       [-0.71064942,  0.11579991,  2.31770967, -2.12580762,  0.4555719 ,\n",
       "        -0.0136297 , -3.08808198, -1.1346985 , -2.2257118 , -1.96344858,\n",
       "        -0.49724204],\n",
       "       [-0.6190882 , -1.14641911,  0.09984417, -2.12580762,  0.54330571,\n",
       "         1.62748179, -1.52107904, -1.9903013 , -0.92769457, -0.61992191,\n",
       "         0.16372604],\n",
       "       [ 0.93745242,  0.11579991,  0.0482659 , -2.12580762, -0.77270145,\n",
       "        -0.18637828, -1.34696761, -0.80196409, -2.2257118 , -1.04142047,\n",
       "         0.53093053],\n",
       "       [ 0.47964636,  0.95727926,  2.62717927, -1.8657481 , -0.3340324 ,\n",
       "        -0.70462402, -1.17285617, -1.65756688, -1.65585058, -1.67366831,\n",
       "        -1.74573731],\n",
       "       [ 1.12057485,  0.95727926,  1.07983125, -1.8657481 ,  0.36783809,\n",
       "        -0.27275257, -1.17285617, -1.32483246, -1.52921475, -1.96344858,\n",
       "         0.38404873],\n",
       "       [ 0.75433   , -0.30493976, -0.00331237, -1.8657481 , -0.77270145,\n",
       "        -0.66143687,  0.43767462,  1.14690894,  0.65525327,  0.6972611 ,\n",
       "         0.82469412],\n",
       "       [ 0.93745242,  0.95727926, -1.08645598, -1.8657481 , -0.59723383,\n",
       "        -0.0136297 ,  0.26356318,  0.95677499, -0.80105874, -0.51454727,\n",
       "         1.92630759],\n",
       "       [ 0.47964636,  0.11579991,  2.36928794, -1.60568858, -0.42176621,\n",
       "         0.72055175, -2.39163623, -1.9903013 , -2.35234763, -1.93710492,\n",
       "        -3.06767347],\n",
       "       [ 0.38808514,  0.53653958,  0.0482659 , -1.60568858, -0.50950002,\n",
       "        -0.14319114,  1.09059251,  1.57471034,  0.97184284,  1.092416  ,\n",
       "         0.31060783]])"
      ]
     },
     "execution_count": 202,
     "metadata": {},
     "output_type": "execute_result"
    }
   ],
   "source": [
    "from sklearn.preprocessing import scale\n",
    "df = women[['weight', 'height', 'rank', 'age', 'run400', 'run5k', 'candj', 'snatch','backsq', 'deadlift', 'pullups']]\n",
    "X = scale(df)\n",
    "# y = pd.DataFrame(women['rank'])\n",
    "# variable_names = iris.feature_names\n",
    "X[0:10,]"
   ]
  },
  {
   "cell_type": "code",
   "execution_count": 203,
   "metadata": {},
   "outputs": [
    {
     "data": {
      "text/plain": [
       "KMeans(n_clusters=3, random_state=5)"
      ]
     },
     "execution_count": 203,
     "metadata": {},
     "output_type": "execute_result"
    }
   ],
   "source": [
    "clustering = KMeans(n_clusters=3,random_state=5)\n",
    "clustering.fit(X)"
   ]
  },
  {
   "cell_type": "code",
   "execution_count": 204,
   "metadata": {
    "scrolled": true
   },
   "outputs": [
    {
     "name": "stdout",
     "output_type": "stream",
     "text": [
      "<bound method NDFrame.rank of      weight  height  rank  age  run400  run5k  candj  snatch  backsq  \\\n",
      "0       156      66     5   19      78   1371    250     180     320   \n",
      "1       134      65    67   20      79   1340    139     143     209   \n",
      "2       135      62    24   20      80   1530    175     125     250   \n",
      "3       152      65    23   20      65   1320    179     150     209   \n",
      "4       147      67    73   21      70   1260    183     132     227   \n",
      "..      ...     ...   ...  ...     ...    ...    ...     ...     ...   \n",
      "105     130      63    11   34      69   1403    185     153     265   \n",
      "106     155      69    10   34      90   1345    215     163     265   \n",
      "107     152      66     9   34      67   1298    200     150     280   \n",
      "108     134      62     5   34      85   1382    215     175     270   \n",
      "109     150      67     3   34      69   1263    215     190     275   \n",
      "\n",
      "     deadlift  pullups  \n",
      "0         365       48  \n",
      "1         254       37  \n",
      "2         305       46  \n",
      "3         289       51  \n",
      "4         265       20  \n",
      "..        ...      ...  \n",
      "105       315       56  \n",
      "106       375       31  \n",
      "107       345       33  \n",
      "108       315       53  \n",
      "109       315       75  \n",
      "\n",
      "[109 rows x 11 columns]>\n",
      "0      156\n",
      "1      134\n",
      "2      135\n",
      "3      152\n",
      "4      147\n",
      "      ... \n",
      "105    130\n",
      "106    155\n",
      "107    152\n",
      "108    134\n",
      "109    150\n",
      "Name: weight, Length: 109, dtype: int64\n",
      "0      66\n",
      "1      65\n",
      "2      62\n",
      "3      65\n",
      "4      67\n",
      "       ..\n",
      "105    63\n",
      "106    69\n",
      "107    66\n",
      "108    62\n",
      "109    67\n",
      "Name: height, Length: 109, dtype: int64\n"
     ]
    }
   ],
   "source": [
    "# iris_df = pd.DataFrame(iris.data)\n",
    "# df1 = pd.DataFrame(df)\n",
    "df.columns = ['weight', 'height', 'rank', 'age', 'run400', 'run5k', 'candj', 'snatch', 'backsq', 'deadlift', 'pullups']\n",
    "# y.columns = ['rank']\n",
    "# print(y.columns)\n",
    "print(df.rank)\n",
    "print(df.weight)\n",
    "print(df.height)"
   ]
  },
  {
   "cell_type": "code",
   "execution_count": 206,
   "metadata": {},
   "outputs": [
    {
     "data": {
      "text/plain": [
       "Text(0.5, 1.0, 'K-Means Classification')"
      ]
     },
     "execution_count": 206,
     "metadata": {},
     "output_type": "execute_result"
    },
    {
     "data": {
      "image/png": "[encoded data removed]",
      "text/plain": [
       "<Figure size 432x288 with 2 Axes>"
      ]
     },
     "metadata": {
      "needs_background": "light"
     },
     "output_type": "display_data"
    }
   ],
   "source": [
    "color_theme = np.array(['darkgray','lightsalmon','powderblue'])\n",
    "\n",
    "plt.subplot(1,2,1)\n",
    "plt.scatter(x=df['weight'],y=df['rank'],c=color_theme[clustering.labels_],s=50)\n",
    "plt.title('Ground Truth Classification')\n",
    "\n",
    "plt.subplot(1,2,2)\n",
    "plt.scatter(x=df['rank'],y=df['run5k'],c=color_theme[clustering.labels_],s=50)\n",
    "plt.title('K-Means Classification')\n"
   ]
  },
  {
   "cell_type": "code",
   "execution_count": null,
   "metadata": {},
   "outputs": [],
   "source": []
  },
  {
   "cell_type": "code",
   "execution_count": null,
   "metadata": {},
   "outputs": [],
   "source": []
  }
 ],
 "metadata": {
  "kernelspec": {
   "display_name": "Python 3",
   "language": "python",
   "name": "python3"
  },
  "language_info": {
   "codemirror_mode": {
    "name": "ipython",
    "version": 3
   },
   "file_extension": ".py",
   "mimetype": "text/x-python",
   "name": "python",
   "nbconvert_exporter": "python",
   "pygments_lexer": "ipython3",
   "version": "3.8.5"
  }
 },
 "nbformat": 4,
 "nbformat_minor": 4
}
