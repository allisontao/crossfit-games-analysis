{
 "cells": [
  {
   "cell_type": "code",
   "execution_count": 33,
   "metadata": {},
   "outputs": [],
   "source": [
    "import numpy as np\n",
    "import pandas as pd\n",
    "\n",
    "import matplotlib.pyplot as plt\n",
    "\n",
    "import sklearn\n",
    "from sklearn.cluster import KMeans\n",
    "import sklearn.metrics as sm\n",
    "from sklearn import datasets\n",
    "from sklearn.metrics import confusion_matrix, classification_report"
   ]
  },
  {
   "cell_type": "code",
   "execution_count": 164,
   "metadata": {},
   "outputs": [
    {
     "data": {
      "text/html": [
       "<div>\n",
       "<style scoped>\n",
       "    .dataframe tbody tr th:only-of-type {\n",
       "        vertical-align: middle;\n",
       "    }\n",
       "\n",
       "    .dataframe tbody tr th {\n",
       "        vertical-align: top;\n",
       "    }\n",
       "\n",
       "    .dataframe thead th {\n",
       "        text-align: right;\n",
       "    }\n",
       "</style>\n",
       "<table border=\"1\" class=\"dataframe\">\n",
       "  <thead>\n",
       "    <tr style=\"text-align: right;\">\n",
       "      <th></th>\n",
       "      <th>Name</th>\n",
       "      <th>rank</th>\n",
       "      <th>region</th>\n",
       "      <th>longitude</th>\n",
       "      <th>latitude</th>\n",
       "      <th>age</th>\n",
       "      <th>height</th>\n",
       "      <th>weight</th>\n",
       "      <th>run400</th>\n",
       "      <th>run5k</th>\n",
       "      <th>fran</th>\n",
       "      <th>candj</th>\n",
       "      <th>snatch</th>\n",
       "      <th>deadlift</th>\n",
       "      <th>backsq</th>\n",
       "      <th>pullups</th>\n",
       "      <th>coach</th>\n",
       "      <th>certification</th>\n",
       "      <th>multiple</th>\n",
       "      <th>howlong</th>\n",
       "    </tr>\n",
       "  </thead>\n",
       "  <tbody>\n",
       "    <tr>\n",
       "      <th>0</th>\n",
       "      <td>DelainaSnider</td>\n",
       "      <td>9</td>\n",
       "      <td>Canada West (British Columbia)</td>\n",
       "      <td>-125.9066</td>\n",
       "      <td>49.1530</td>\n",
       "      <td>34</td>\n",
       "      <td>66</td>\n",
       "      <td>152</td>\n",
       "      <td>67</td>\n",
       "      <td>1204</td>\n",
       "      <td>53</td>\n",
       "      <td>200</td>\n",
       "      <td>150</td>\n",
       "      <td>345</td>\n",
       "      <td>280</td>\n",
       "      <td>45</td>\n",
       "      <td>1</td>\n",
       "      <td>0</td>\n",
       "      <td>1</td>\n",
       "      <td>3</td>\n",
       "    </tr>\n",
       "    <tr>\n",
       "      <th>1</th>\n",
       "      <td>CamilleLeblanc-Bazinet</td>\n",
       "      <td>1</td>\n",
       "      <td>South West (Virginia)</td>\n",
       "      <td>-76.2875</td>\n",
       "      <td>36.7682</td>\n",
       "      <td>26</td>\n",
       "      <td>62</td>\n",
       "      <td>130</td>\n",
       "      <td>80</td>\n",
       "      <td>1180</td>\n",
       "      <td>124</td>\n",
       "      <td>230</td>\n",
       "      <td>190</td>\n",
       "      <td>300</td>\n",
       "      <td>310</td>\n",
       "      <td>80</td>\n",
       "      <td>1</td>\n",
       "      <td>1</td>\n",
       "      <td>1</td>\n",
       "      <td>3</td>\n",
       "    </tr>\n",
       "    <tr>\n",
       "      <th>2</th>\n",
       "      <td>SarahScholl</td>\n",
       "      <td>4</td>\n",
       "      <td>Atlantic</td>\n",
       "      <td>-87.3595</td>\n",
       "      <td>36.5298</td>\n",
       "      <td>31</td>\n",
       "      <td>68</td>\n",
       "      <td>134</td>\n",
       "      <td>58</td>\n",
       "      <td>1110</td>\n",
       "      <td>125</td>\n",
       "      <td>195</td>\n",
       "      <td>155</td>\n",
       "      <td>305</td>\n",
       "      <td>295</td>\n",
       "      <td>40</td>\n",
       "      <td>0</td>\n",
       "      <td>1</td>\n",
       "      <td>0</td>\n",
       "      <td>3</td>\n",
       "    </tr>\n",
       "    <tr>\n",
       "      <th>3</th>\n",
       "      <td>KatrinTanjaDavidsdottir</td>\n",
       "      <td>1</td>\n",
       "      <td>Europe (Reykjavik, Iceland)</td>\n",
       "      <td>-21.9426</td>\n",
       "      <td>64.1466</td>\n",
       "      <td>21</td>\n",
       "      <td>67</td>\n",
       "      <td>152</td>\n",
       "      <td>67</td>\n",
       "      <td>1194</td>\n",
       "      <td>128</td>\n",
       "      <td>216</td>\n",
       "      <td>187</td>\n",
       "      <td>309</td>\n",
       "      <td>254</td>\n",
       "      <td>70</td>\n",
       "      <td>1</td>\n",
       "      <td>0</td>\n",
       "      <td>1</td>\n",
       "      <td>3</td>\n",
       "    </tr>\n",
       "    <tr>\n",
       "      <th>4</th>\n",
       "      <td>TalaynaFortunato</td>\n",
       "      <td>3</td>\n",
       "      <td>South East</td>\n",
       "      <td>-81.7948</td>\n",
       "      <td>26.1420</td>\n",
       "      <td>34</td>\n",
       "      <td>67</td>\n",
       "      <td>150</td>\n",
       "      <td>69</td>\n",
       "      <td>1263</td>\n",
       "      <td>128</td>\n",
       "      <td>215</td>\n",
       "      <td>190</td>\n",
       "      <td>315</td>\n",
       "      <td>275</td>\n",
       "      <td>55</td>\n",
       "      <td>0</td>\n",
       "      <td>0</td>\n",
       "      <td>1</td>\n",
       "      <td>3</td>\n",
       "    </tr>\n",
       "    <tr>\n",
       "      <th>...</th>\n",
       "      <td>...</td>\n",
       "      <td>...</td>\n",
       "      <td>...</td>\n",
       "      <td>...</td>\n",
       "      <td>...</td>\n",
       "      <td>...</td>\n",
       "      <td>...</td>\n",
       "      <td>...</td>\n",
       "      <td>...</td>\n",
       "      <td>...</td>\n",
       "      <td>...</td>\n",
       "      <td>...</td>\n",
       "      <td>...</td>\n",
       "      <td>...</td>\n",
       "      <td>...</td>\n",
       "      <td>...</td>\n",
       "      <td>...</td>\n",
       "      <td>...</td>\n",
       "      <td>...</td>\n",
       "      <td>...</td>\n",
       "    </tr>\n",
       "    <tr>\n",
       "      <th>220</th>\n",
       "      <td>MaryGilleland</td>\n",
       "      <td>9</td>\n",
       "      <td>Central East (Michigan)</td>\n",
       "      <td>-83.4833</td>\n",
       "      <td>42.4311</td>\n",
       "      <td>53</td>\n",
       "      <td>62</td>\n",
       "      <td>130</td>\n",
       "      <td>65</td>\n",
       "      <td>1224</td>\n",
       "      <td>396</td>\n",
       "      <td>135</td>\n",
       "      <td>90</td>\n",
       "      <td>280</td>\n",
       "      <td>165</td>\n",
       "      <td>40</td>\n",
       "      <td>1</td>\n",
       "      <td>0</td>\n",
       "      <td>1</td>\n",
       "      <td>4</td>\n",
       "    </tr>\n",
       "    <tr>\n",
       "      <th>221</th>\n",
       "      <td>JackySchmitt</td>\n",
       "      <td>67</td>\n",
       "      <td>Luxembourg</td>\n",
       "      <td>6.1296</td>\n",
       "      <td>49.8153</td>\n",
       "      <td>20</td>\n",
       "      <td>65</td>\n",
       "      <td>134</td>\n",
       "      <td>79</td>\n",
       "      <td>1630</td>\n",
       "      <td>405</td>\n",
       "      <td>139</td>\n",
       "      <td>143</td>\n",
       "      <td>254</td>\n",
       "      <td>209</td>\n",
       "      <td>28</td>\n",
       "      <td>0</td>\n",
       "      <td>0</td>\n",
       "      <td>0</td>\n",
       "      <td>2</td>\n",
       "    </tr>\n",
       "    <tr>\n",
       "      <th>222</th>\n",
       "      <td>KristenLim</td>\n",
       "      <td>68</td>\n",
       "      <td>Philippines</td>\n",
       "      <td>121.7740</td>\n",
       "      <td>12.8797</td>\n",
       "      <td>22</td>\n",
       "      <td>65</td>\n",
       "      <td>147</td>\n",
       "      <td>69</td>\n",
       "      <td>1525</td>\n",
       "      <td>554</td>\n",
       "      <td>155</td>\n",
       "      <td>125</td>\n",
       "      <td>255</td>\n",
       "      <td>205</td>\n",
       "      <td>25</td>\n",
       "      <td>1</td>\n",
       "      <td>0</td>\n",
       "      <td>1</td>\n",
       "      <td>1</td>\n",
       "    </tr>\n",
       "    <tr>\n",
       "      <th>223</th>\n",
       "      <td>CindyHinkle</td>\n",
       "      <td>4</td>\n",
       "      <td>Mid Atlantic</td>\n",
       "      <td>-117.9003</td>\n",
       "      <td>33.9165</td>\n",
       "      <td>50</td>\n",
       "      <td>62</td>\n",
       "      <td>159</td>\n",
       "      <td>71</td>\n",
       "      <td>1353</td>\n",
       "      <td>235</td>\n",
       "      <td>155</td>\n",
       "      <td>125</td>\n",
       "      <td>270</td>\n",
       "      <td>225</td>\n",
       "      <td>51</td>\n",
       "      <td>0</td>\n",
       "      <td>0</td>\n",
       "      <td>1</td>\n",
       "      <td>3</td>\n",
       "    </tr>\n",
       "    <tr>\n",
       "      <th>224</th>\n",
       "      <td>BonitaLThomsen</td>\n",
       "      <td>4</td>\n",
       "      <td>North West</td>\n",
       "      <td>-87.8290</td>\n",
       "      <td>42.1275</td>\n",
       "      <td>51</td>\n",
       "      <td>67</td>\n",
       "      <td>150</td>\n",
       "      <td>70</td>\n",
       "      <td>1272</td>\n",
       "      <td>241</td>\n",
       "      <td>160</td>\n",
       "      <td>110</td>\n",
       "      <td>305</td>\n",
       "      <td>245</td>\n",
       "      <td>72</td>\n",
       "      <td>1</td>\n",
       "      <td>0</td>\n",
       "      <td>1</td>\n",
       "      <td>3</td>\n",
       "    </tr>\n",
       "  </tbody>\n",
       "</table>\n",
       "<p>225 rows × 20 columns</p>\n",
       "</div>"
      ],
      "text/plain": [
       "                        Name  rank                          region  longitude  \\\n",
       "0              DelainaSnider     9  Canada West (British Columbia)  -125.9066   \n",
       "1     CamilleLeblanc-Bazinet     1           South West (Virginia)   -76.2875   \n",
       "2                SarahScholl     4                        Atlantic   -87.3595   \n",
       "3    KatrinTanjaDavidsdottir     1     Europe (Reykjavik, Iceland)   -21.9426   \n",
       "4           TalaynaFortunato     3                      South East   -81.7948   \n",
       "..                       ...   ...                             ...        ...   \n",
       "220            MaryGilleland     9         Central East (Michigan)   -83.4833   \n",
       "221             JackySchmitt    67                      Luxembourg     6.1296   \n",
       "222               KristenLim    68                     Philippines   121.7740   \n",
       "223              CindyHinkle     4                    Mid Atlantic  -117.9003   \n",
       "224           BonitaLThomsen     4                      North West   -87.8290   \n",
       "\n",
       "     latitude  age  height  weight  run400  run5k  fran  candj  snatch  \\\n",
       "0     49.1530   34      66     152      67   1204    53    200     150   \n",
       "1     36.7682   26      62     130      80   1180   124    230     190   \n",
       "2     36.5298   31      68     134      58   1110   125    195     155   \n",
       "3     64.1466   21      67     152      67   1194   128    216     187   \n",
       "4     26.1420   34      67     150      69   1263   128    215     190   \n",
       "..        ...  ...     ...     ...     ...    ...   ...    ...     ...   \n",
       "220   42.4311   53      62     130      65   1224   396    135      90   \n",
       "221   49.8153   20      65     134      79   1630   405    139     143   \n",
       "222   12.8797   22      65     147      69   1525   554    155     125   \n",
       "223   33.9165   50      62     159      71   1353   235    155     125   \n",
       "224   42.1275   51      67     150      70   1272   241    160     110   \n",
       "\n",
       "     deadlift  backsq  pullups  coach  certification  multiple  howlong  \n",
       "0         345     280       45      1              0         1        3  \n",
       "1         300     310       80      1              1         1        3  \n",
       "2         305     295       40      0              1         0        3  \n",
       "3         309     254       70      1              0         1        3  \n",
       "4         315     275       55      0              0         1        3  \n",
       "..        ...     ...      ...    ...            ...       ...      ...  \n",
       "220       280     165       40      1              0         1        4  \n",
       "221       254     209       28      0              0         0        2  \n",
       "222       255     205       25      1              0         1        1  \n",
       "223       270     225       51      0              0         1        3  \n",
       "224       305     245       72      1              0         1        3  \n",
       "\n",
       "[225 rows x 20 columns]"
      ]
     },
     "execution_count": 164,
     "metadata": {},
     "output_type": "execute_result"
    }
   ],
   "source": [
    "men = pd.read_csv('athletes-women.csv')\n",
    "women = pd.read_csv('athletes-men.csv')\n",
    "#women = women.drop(columns=['Name', 'Region'])\n",
    "#women = women.drop([10])\n",
    "women\n",
    "# missing = men.isnull().sum()\n",
    "# print(missing)\n"
   ]
  },
  {
   "cell_type": "code",
   "execution_count": 165,
   "metadata": {},
   "outputs": [
    {
     "data": {
      "text/plain": [
       "array([[-0.4113086 , -0.28080105, -1.09719481,  0.18389228, -2.36677404,\n",
       "        -0.88413799,  0.72164289],\n",
       "       [-0.87635601, -1.13458801, -1.31782682,  3.7332838 , -1.22315421,\n",
       "        -0.26328059,  0.18852315],\n",
       "       [-0.70196323, -0.60097116, -1.96133684, -0.32316365, -1.20704688,\n",
       "        -0.40181864,  0.17826092],\n",
       "       [-0.87635601, -1.66820486, -1.18912481,  2.71917194, -1.15872492,\n",
       "         0.41670823,  1.36706179],\n",
       "       [-0.76009416, -0.28080105, -0.55480779,  1.19800414, -1.15872492,\n",
       "        -0.3321905 , -0.26889537],\n",
       "       [-0.87635601, -1.24131138, -1.22589681,  2.61776075, -1.1426176 ,\n",
       "         0.41670823,  1.36706179],\n",
       "       [-0.70196323, -0.8144179 , -1.29944081, -0.83021958, -1.12651028,\n",
       "        -0.23306798,  0.5716653 ],\n",
       "       [-0.58570138, -1.02786464, -0.30659678,  0.38671466, -1.12651028,\n",
       "        -0.34602054, -0.00960171],\n",
       "       [-0.87635601, -0.49424779, -1.36379182,  2.61776075, -1.11040296,\n",
       "        -0.36487307,  0.2993157 ],\n",
       "       [-0.81822509, -1.24131138, -1.0420368 ,  1.90788245, -1.07818831,\n",
       "         2.60599725, -2.57671476]])"
      ]
     },
     "execution_count": 165,
     "metadata": {},
     "output_type": "execute_result"
    }
   ],
   "source": [
    "from sklearn.preprocessing import scale\n",
    "df = women[['rank', 'age', 'run5k', 'pullups', 'fran', 'longitude', 'latitude']]\n",
    "X = scale(df)\n",
    "X[0:10,]"
   ]
  },
  {
   "cell_type": "code",
   "execution_count": 191,
   "metadata": {},
   "outputs": [],
   "source": [
    "df = men[['rank', 'age', 'run5k', 'pullups', 'fran', 'longitude', 'latitude']]\n",
    "M = scale(df)\n",
    "M[0:10,]\n",
    "clustering = KMeans(n_clusters=3,random_state=5)\n",
    "clustering.fit(M)\n",
    "df.columns = ['rank', 'age', 'run5k', 'pullups', 'fran', 'longitude', 'latitude']"
   ]
  },
  {
   "cell_type": "code",
   "execution_count": 192,
   "metadata": {},
   "outputs": [
    {
     "data": {
      "text/plain": [
       "Text(0.5, 1.0, 'K-Means Classification Location')"
      ]
     },
     "execution_count": 192,
     "metadata": {},
     "output_type": "execute_result"
    },
    {
     "data": {
      "image/png": "[encoded data removed]",
      "text/plain": [
       "<Figure size 432x288 with 1 Axes>"
      ]
     },
     "metadata": {},
     "output_type": "display_data"
    }
   ],
   "source": [
    "mask = (df['longitude'] >= -135) & (df['longitude'] <= -60) & (df['latitude'] >= 25) & (df['latitude'] <= 60)\n",
    "# mask = (df['longitude'] >= -85) & (df['longitude'] <= -75) & (df['latitude'] >= 25) & (df['latitude'] <= 35)\n",
    "df2 = df.loc[mask]\n",
    "df2\n",
    "x = scale(df2)\n",
    "color_theme = np.array(['darkgray','lightsalmon', 'blue', 'red', 'green', 'yellow', 'purple', 'black', 'brown', 'pink', 'lightblue', 'lightgreen'])\n",
    "clustering = KMeans(n_clusters=12,random_state=4)\n",
    "clustering.fit(x)\n",
    "plt.subplot(1,2,2)\n",
    "plt.scatter(x=df2['longitude'],y=df2['latitude'],c=color_theme[clustering.labels_],s=50)\n",
    "plt.title('K-Means Classification Location')"
   ]
  },
  {
   "cell_type": "code",
   "execution_count": 166,
   "metadata": {},
   "outputs": [
    {
     "data": {
      "text/plain": [
       "KMeans(n_clusters=3, random_state=5)"
      ]
     },
     "execution_count": 166,
     "metadata": {},
     "output_type": "execute_result"
    }
   ],
   "source": [
    "clustering = KMeans(n_clusters=3,random_state=5)\n",
    "clustering.fit(X)"
   ]
  },
  {
   "cell_type": "code",
   "execution_count": 167,
   "metadata": {
    "scrolled": true
   },
   "outputs": [],
   "source": [
    "df.columns = ['rank', 'age', 'run5k', 'pullups', 'fran', 'longitude', 'latitude']"
   ]
  },
  {
   "cell_type": "code",
   "execution_count": 168,
   "metadata": {},
   "outputs": [
    {
     "data": {
      "text/plain": [
       "Text(0.5, 1.0, 'K-Means Classification Pullups')"
      ]
     },
     "execution_count": 168,
     "metadata": {},
     "output_type": "execute_result"
    },
    {
     "data": {
      "image/png": "[encoded data removed]",
      "text/plain": [
       "<Figure size 432x288 with 1 Axes>"
      ]
     },
     "metadata": {
      "needs_background": "light"
     },
     "output_type": "display_data"
    }
   ],
   "source": [
    "color_theme = np.array(['darkgray','lightsalmon', 'blue'])\n",
    "\n",
    "plt.subplot(1,2,2)\n",
    "plt.scatter(x=df['rank'],y=df['pullups'],c=color_theme[clustering.labels_],s=50)\n",
    "plt.title('K-Means Classification Pullups')"
   ]
  },
  {
   "cell_type": "code",
   "execution_count": 190,
   "metadata": {},
   "outputs": [
    {
     "data": {
      "text/plain": [
       "Text(0.5, 1.0, 'K-Means Classification Location')"
      ]
     },
     "execution_count": 190,
     "metadata": {},
     "output_type": "execute_result"
    },
    {
     "data": {
      "image/png": "[encoded data removed]",
      "text/plain": [
       "<Figure size 432x288 with 1 Axes>"
      ]
     },
     "metadata": {},
     "output_type": "display_data"
    }
   ],
   "source": [
    "mask = (df['longitude'] >= -135) & (df['longitude'] <= -60) & (df['latitude'] >= 25) & (df['latitude'] <= 60)\n",
    "# mask = (df['longitude'] >= -85) & (df['longitude'] <= -75) & (df['latitude'] >= 25) & (df['latitude'] <= 35)\n",
    "df2 = df.loc[mask]\n",
    "df2\n",
    "x = scale(df2)\n",
    "color_theme = np.array(['darkgray','lightsalmon', 'blue', 'red', 'green', 'yellow', 'purple', 'black', 'brown', 'pink', 'lightblue', 'lightgreen'])\n",
    "clustering = KMeans(n_clusters=12,random_state=4)\n",
    "clustering.fit(x)\n",
    "plt.subplot(1,2,2)\n",
    "plt.scatter(x=df2['longitude'],y=df2['latitude'],c=color_theme[clustering.labels_],s=50)\n",
    "plt.title('K-Means Classification Location')"
   ]
  },
  {
   "cell_type": "code",
   "execution_count": 188,
   "metadata": {},
   "outputs": [
    {
     "ename": "ValueError",
     "evalue": "Length of list vectors must match length of `data` when both are used, but `data` has length 225 and the vector passed to `y` has length 1.",
     "output_type": "error",
     "traceback": [
      "\u001b[0;31m---------------------------------------------------------------------------\u001b[0m",
      "\u001b[0;31mValueError\u001b[0m                                Traceback (most recent call last)",
      "\u001b[0;32m<ipython-input-188-ec1e66f31573>\u001b[0m in \u001b[0;36m<module>\u001b[0;34m\u001b[0m\n\u001b[1;32m      7\u001b[0m \u001b[0;34m\u001b[0m\u001b[0m\n\u001b[1;32m      8\u001b[0m \u001b[0mcmap\u001b[0m \u001b[0;34m=\u001b[0m \u001b[0msns\u001b[0m\u001b[0;34m.\u001b[0m\u001b[0mcubehelix_palette\u001b[0m\u001b[0;34m(\u001b[0m\u001b[0mrot\u001b[0m\u001b[0;34m=\u001b[0m\u001b[0;34m-\u001b[0m\u001b[0;36m.2\u001b[0m\u001b[0;34m,\u001b[0m \u001b[0mas_cmap\u001b[0m\u001b[0;34m=\u001b[0m\u001b[0;32mTrue\u001b[0m\u001b[0;34m)\u001b[0m\u001b[0;34m\u001b[0m\u001b[0;34m\u001b[0m\u001b[0m\n\u001b[0;32m----> 9\u001b[0;31m g = sns.relplot(\n\u001b[0m\u001b[1;32m     10\u001b[0m     \u001b[0mdata\u001b[0m\u001b[0;34m=\u001b[0m\u001b[0mdf\u001b[0m\u001b[0;34m,\u001b[0m\u001b[0;34m\u001b[0m\u001b[0;34m\u001b[0m\u001b[0m\n\u001b[1;32m     11\u001b[0m     \u001b[0mx\u001b[0m\u001b[0;34m=\u001b[0m\u001b[0mdf\u001b[0m\u001b[0;34m[\u001b[0m\u001b[0;34m'longitude'\u001b[0m\u001b[0;34m]\u001b[0m\u001b[0;34m,\u001b[0m \u001b[0my\u001b[0m\u001b[0;34m=\u001b[0m\u001b[0;34m[\u001b[0m\u001b[0;34m'latitude'\u001b[0m\u001b[0;34m]\u001b[0m\u001b[0;34m,\u001b[0m\u001b[0;34m\u001b[0m\u001b[0;34m\u001b[0m\u001b[0m\n",
      "\u001b[0;32m~/anaconda3/lib/python3.8/site-packages/seaborn/_decorators.py\u001b[0m in \u001b[0;36minner_f\u001b[0;34m(*args, **kwargs)\u001b[0m\n\u001b[1;32m     44\u001b[0m             )\n\u001b[1;32m     45\u001b[0m         \u001b[0mkwargs\u001b[0m\u001b[0;34m.\u001b[0m\u001b[0mupdate\u001b[0m\u001b[0;34m(\u001b[0m\u001b[0;34m{\u001b[0m\u001b[0mk\u001b[0m\u001b[0;34m:\u001b[0m \u001b[0marg\u001b[0m \u001b[0;32mfor\u001b[0m \u001b[0mk\u001b[0m\u001b[0;34m,\u001b[0m \u001b[0marg\u001b[0m \u001b[0;32min\u001b[0m \u001b[0mzip\u001b[0m\u001b[0;34m(\u001b[0m\u001b[0msig\u001b[0m\u001b[0;34m.\u001b[0m\u001b[0mparameters\u001b[0m\u001b[0;34m,\u001b[0m \u001b[0margs\u001b[0m\u001b[0;34m)\u001b[0m\u001b[0;34m}\u001b[0m\u001b[0;34m)\u001b[0m\u001b[0;34m\u001b[0m\u001b[0;34m\u001b[0m\u001b[0m\n\u001b[0;32m---> 46\u001b[0;31m         \u001b[0;32mreturn\u001b[0m \u001b[0mf\u001b[0m\u001b[0;34m(\u001b[0m\u001b[0;34m**\u001b[0m\u001b[0mkwargs\u001b[0m\u001b[0;34m)\u001b[0m\u001b[0;34m\u001b[0m\u001b[0;34m\u001b[0m\u001b[0m\n\u001b[0m\u001b[1;32m     47\u001b[0m     \u001b[0;32mreturn\u001b[0m \u001b[0minner_f\u001b[0m\u001b[0;34m\u001b[0m\u001b[0;34m\u001b[0m\u001b[0m\n\u001b[1;32m     48\u001b[0m \u001b[0;34m\u001b[0m\u001b[0m\n",
      "\u001b[0;32m~/anaconda3/lib/python3.8/site-packages/seaborn/relational.py\u001b[0m in \u001b[0;36mrelplot\u001b[0;34m(x, y, hue, size, style, data, row, col, col_wrap, row_order, col_order, palette, hue_order, hue_norm, sizes, size_order, size_norm, markers, dashes, style_order, legend, kind, height, aspect, facet_kws, units, **kwargs)\u001b[0m\n\u001b[1;32m    931\u001b[0m \u001b[0;34m\u001b[0m\u001b[0m\n\u001b[1;32m    932\u001b[0m     \u001b[0;31m# Use the full dataset to map the semantics\u001b[0m\u001b[0;34m\u001b[0m\u001b[0;34m\u001b[0m\u001b[0;34m\u001b[0m\u001b[0m\n\u001b[0;32m--> 933\u001b[0;31m     p = plotter(\n\u001b[0m\u001b[1;32m    934\u001b[0m         \u001b[0mdata\u001b[0m\u001b[0;34m=\u001b[0m\u001b[0mdata\u001b[0m\u001b[0;34m,\u001b[0m\u001b[0;34m\u001b[0m\u001b[0;34m\u001b[0m\u001b[0m\n\u001b[1;32m    935\u001b[0m         \u001b[0mvariables\u001b[0m\u001b[0;34m=\u001b[0m\u001b[0mplotter\u001b[0m\u001b[0;34m.\u001b[0m\u001b[0mget_semantics\u001b[0m\u001b[0;34m(\u001b[0m\u001b[0mlocals\u001b[0m\u001b[0;34m(\u001b[0m\u001b[0;34m)\u001b[0m\u001b[0;34m)\u001b[0m\u001b[0;34m,\u001b[0m\u001b[0;34m\u001b[0m\u001b[0;34m\u001b[0m\u001b[0m\n",
      "\u001b[0;32m~/anaconda3/lib/python3.8/site-packages/seaborn/relational.py\u001b[0m in \u001b[0;36m__init__\u001b[0;34m(self, data, variables, x_bins, y_bins, estimator, ci, n_boot, alpha, x_jitter, y_jitter, legend)\u001b[0m\n\u001b[1;32m    578\u001b[0m         )\n\u001b[1;32m    579\u001b[0m \u001b[0;34m\u001b[0m\u001b[0m\n\u001b[0;32m--> 580\u001b[0;31m         \u001b[0msuper\u001b[0m\u001b[0;34m(\u001b[0m\u001b[0;34m)\u001b[0m\u001b[0;34m.\u001b[0m\u001b[0m__init__\u001b[0m\u001b[0;34m(\u001b[0m\u001b[0mdata\u001b[0m\u001b[0;34m=\u001b[0m\u001b[0mdata\u001b[0m\u001b[0;34m,\u001b[0m \u001b[0mvariables\u001b[0m\u001b[0;34m=\u001b[0m\u001b[0mvariables\u001b[0m\u001b[0;34m)\u001b[0m\u001b[0;34m\u001b[0m\u001b[0;34m\u001b[0m\u001b[0m\n\u001b[0m\u001b[1;32m    581\u001b[0m \u001b[0;34m\u001b[0m\u001b[0m\n\u001b[1;32m    582\u001b[0m         \u001b[0mself\u001b[0m\u001b[0;34m.\u001b[0m\u001b[0malpha\u001b[0m \u001b[0;34m=\u001b[0m \u001b[0malpha\u001b[0m\u001b[0;34m\u001b[0m\u001b[0;34m\u001b[0m\u001b[0m\n",
      "\u001b[0;32m~/anaconda3/lib/python3.8/site-packages/seaborn/_core.py\u001b[0m in \u001b[0;36m__init__\u001b[0;34m(self, data, variables)\u001b[0m\n\u001b[1;32m    602\u001b[0m     \u001b[0;32mdef\u001b[0m \u001b[0m__init__\u001b[0m\u001b[0;34m(\u001b[0m\u001b[0mself\u001b[0m\u001b[0;34m,\u001b[0m \u001b[0mdata\u001b[0m\u001b[0;34m=\u001b[0m\u001b[0;32mNone\u001b[0m\u001b[0;34m,\u001b[0m \u001b[0mvariables\u001b[0m\u001b[0;34m=\u001b[0m\u001b[0;34m{\u001b[0m\u001b[0;34m}\u001b[0m\u001b[0;34m)\u001b[0m\u001b[0;34m:\u001b[0m\u001b[0;34m\u001b[0m\u001b[0;34m\u001b[0m\u001b[0m\n\u001b[1;32m    603\u001b[0m \u001b[0;34m\u001b[0m\u001b[0m\n\u001b[0;32m--> 604\u001b[0;31m         \u001b[0mself\u001b[0m\u001b[0;34m.\u001b[0m\u001b[0massign_variables\u001b[0m\u001b[0;34m(\u001b[0m\u001b[0mdata\u001b[0m\u001b[0;34m,\u001b[0m \u001b[0mvariables\u001b[0m\u001b[0;34m)\u001b[0m\u001b[0;34m\u001b[0m\u001b[0;34m\u001b[0m\u001b[0m\n\u001b[0m\u001b[1;32m    605\u001b[0m \u001b[0;34m\u001b[0m\u001b[0m\n\u001b[1;32m    606\u001b[0m         \u001b[0;32mfor\u001b[0m \u001b[0mvar\u001b[0m\u001b[0;34m,\u001b[0m \u001b[0mcls\u001b[0m \u001b[0;32min\u001b[0m \u001b[0mself\u001b[0m\u001b[0;34m.\u001b[0m\u001b[0m_semantic_mappings\u001b[0m\u001b[0;34m.\u001b[0m\u001b[0mitems\u001b[0m\u001b[0;34m(\u001b[0m\u001b[0;34m)\u001b[0m\u001b[0;34m:\u001b[0m\u001b[0;34m\u001b[0m\u001b[0;34m\u001b[0m\u001b[0m\n",
      "\u001b[0;32m~/anaconda3/lib/python3.8/site-packages/seaborn/_core.py\u001b[0m in \u001b[0;36massign_variables\u001b[0;34m(self, data, variables)\u001b[0m\n\u001b[1;32m    665\u001b[0m         \u001b[0;32melse\u001b[0m\u001b[0;34m:\u001b[0m\u001b[0;34m\u001b[0m\u001b[0;34m\u001b[0m\u001b[0m\n\u001b[1;32m    666\u001b[0m             \u001b[0mself\u001b[0m\u001b[0;34m.\u001b[0m\u001b[0minput_format\u001b[0m \u001b[0;34m=\u001b[0m \u001b[0;34m\"long\"\u001b[0m\u001b[0;34m\u001b[0m\u001b[0;34m\u001b[0m\u001b[0m\n\u001b[0;32m--> 667\u001b[0;31m             plot_data, variables = self._assign_variables_longform(\n\u001b[0m\u001b[1;32m    668\u001b[0m                 \u001b[0mdata\u001b[0m\u001b[0;34m,\u001b[0m \u001b[0;34m**\u001b[0m\u001b[0mvariables\u001b[0m\u001b[0;34m,\u001b[0m\u001b[0;34m\u001b[0m\u001b[0;34m\u001b[0m\u001b[0m\n\u001b[1;32m    669\u001b[0m             )\n",
      "\u001b[0;32m~/anaconda3/lib/python3.8/site-packages/seaborn/_core.py\u001b[0m in \u001b[0;36m_assign_variables_longform\u001b[0;34m(self, data, **kwargs)\u001b[0m\n\u001b[1;32m    900\u001b[0m                             \u001b[0;34mf\" and the vector passed to `{key}` has length {len(val)}.\"\u001b[0m\u001b[0;34m\u001b[0m\u001b[0;34m\u001b[0m\u001b[0m\n\u001b[1;32m    901\u001b[0m                         )\n\u001b[0;32m--> 902\u001b[0;31m                         \u001b[0;32mraise\u001b[0m \u001b[0mValueError\u001b[0m\u001b[0;34m(\u001b[0m\u001b[0merr\u001b[0m\u001b[0;34m)\u001b[0m\u001b[0;34m\u001b[0m\u001b[0;34m\u001b[0m\u001b[0m\n\u001b[0m\u001b[1;32m    903\u001b[0m \u001b[0;34m\u001b[0m\u001b[0m\n\u001b[1;32m    904\u001b[0m                 \u001b[0mplot_data\u001b[0m\u001b[0;34m[\u001b[0m\u001b[0mkey\u001b[0m\u001b[0;34m]\u001b[0m \u001b[0;34m=\u001b[0m \u001b[0mval\u001b[0m\u001b[0;34m\u001b[0m\u001b[0;34m\u001b[0m\u001b[0m\n",
      "\u001b[0;31mValueError\u001b[0m: Length of list vectors must match length of `data` when both are used, but `data` has length 225 and the vector passed to `y` has length 1."
     ]
    }
   ],
   "source": [
    "# import seaborn as sns\n",
    "# sns.set_theme(style=\"whitegrid\")\n",
    "\n",
    "# df = women[['longitude', 'latitude']]\n",
    "\n",
    "# # Load the example planets dataset\n",
    "\n",
    "# cmap = sns.cubehelix_palette(rot=-.2, as_cmap=True)\n",
    "# g = sns.relplot(\n",
    "#     data=df,\n",
    "#     x=df['longitude'], y=['latitude'],\n",
    "#     hue=\"year\", size=\"mass\",\n",
    "#     palette=cmap, sizes=(10, 200),\n",
    "# )\n",
    "# g.set(xscale=\"log\", yscale=\"log\")\n",
    "# g.ax.xaxis.grid(True, \"minor\", linewidth=.25)\n",
    "# g.ax.yaxis.grid(True, \"minor\", linewidth=.25)\n",
    "# g.despine(left=True, bottom=True)"
   ]
  },
  {
   "cell_type": "code",
   "execution_count": 180,
   "metadata": {},
   "outputs": [
    {
     "data": {
      "text/html": [
       "<div>\n",
       "<style scoped>\n",
       "    .dataframe tbody tr th:only-of-type {\n",
       "        vertical-align: middle;\n",
       "    }\n",
       "\n",
       "    .dataframe tbody tr th {\n",
       "        vertical-align: top;\n",
       "    }\n",
       "\n",
       "    .dataframe thead th {\n",
       "        text-align: right;\n",
       "    }\n",
       "</style>\n",
       "<table border=\"1\" class=\"dataframe\">\n",
       "  <thead>\n",
       "    <tr style=\"text-align: right;\">\n",
       "      <th></th>\n",
       "      <th>rank</th>\n",
       "      <th>age</th>\n",
       "      <th>run5k</th>\n",
       "      <th>pullups</th>\n",
       "      <th>fran</th>\n",
       "      <th>longitude</th>\n",
       "      <th>latitude</th>\n",
       "    </tr>\n",
       "  </thead>\n",
       "  <tbody>\n",
       "    <tr>\n",
       "      <th>0</th>\n",
       "      <td>9</td>\n",
       "      <td>34</td>\n",
       "      <td>1204</td>\n",
       "      <td>45</td>\n",
       "      <td>53</td>\n",
       "      <td>-125.9066</td>\n",
       "      <td>49.1530</td>\n",
       "    </tr>\n",
       "    <tr>\n",
       "      <th>1</th>\n",
       "      <td>1</td>\n",
       "      <td>26</td>\n",
       "      <td>1180</td>\n",
       "      <td>80</td>\n",
       "      <td>124</td>\n",
       "      <td>-76.2875</td>\n",
       "      <td>36.7682</td>\n",
       "    </tr>\n",
       "    <tr>\n",
       "      <th>2</th>\n",
       "      <td>4</td>\n",
       "      <td>31</td>\n",
       "      <td>1110</td>\n",
       "      <td>40</td>\n",
       "      <td>125</td>\n",
       "      <td>-87.3595</td>\n",
       "      <td>36.5298</td>\n",
       "    </tr>\n",
       "    <tr>\n",
       "      <th>4</th>\n",
       "      <td>3</td>\n",
       "      <td>34</td>\n",
       "      <td>1263</td>\n",
       "      <td>55</td>\n",
       "      <td>128</td>\n",
       "      <td>-81.7948</td>\n",
       "      <td>26.1420</td>\n",
       "    </tr>\n",
       "    <tr>\n",
       "      <th>6</th>\n",
       "      <td>4</td>\n",
       "      <td>29</td>\n",
       "      <td>1182</td>\n",
       "      <td>35</td>\n",
       "      <td>130</td>\n",
       "      <td>-73.8729</td>\n",
       "      <td>45.6689</td>\n",
       "    </tr>\n",
       "    <tr>\n",
       "      <th>...</th>\n",
       "      <td>...</td>\n",
       "      <td>...</td>\n",
       "      <td>...</td>\n",
       "      <td>...</td>\n",
       "      <td>...</td>\n",
       "      <td>...</td>\n",
       "      <td>...</td>\n",
       "    </tr>\n",
       "    <tr>\n",
       "      <th>217</th>\n",
       "      <td>18</td>\n",
       "      <td>51</td>\n",
       "      <td>1400</td>\n",
       "      <td>39</td>\n",
       "      <td>355</td>\n",
       "      <td>-120.5542</td>\n",
       "      <td>43.8041</td>\n",
       "    </tr>\n",
       "    <tr>\n",
       "      <th>218</th>\n",
       "      <td>17</td>\n",
       "      <td>54</td>\n",
       "      <td>1349</td>\n",
       "      <td>42</td>\n",
       "      <td>368</td>\n",
       "      <td>-88.7879</td>\n",
       "      <td>43.7844</td>\n",
       "    </tr>\n",
       "    <tr>\n",
       "      <th>220</th>\n",
       "      <td>9</td>\n",
       "      <td>53</td>\n",
       "      <td>1224</td>\n",
       "      <td>40</td>\n",
       "      <td>396</td>\n",
       "      <td>-83.4833</td>\n",
       "      <td>42.4311</td>\n",
       "    </tr>\n",
       "    <tr>\n",
       "      <th>223</th>\n",
       "      <td>4</td>\n",
       "      <td>50</td>\n",
       "      <td>1353</td>\n",
       "      <td>51</td>\n",
       "      <td>235</td>\n",
       "      <td>-117.9003</td>\n",
       "      <td>33.9165</td>\n",
       "    </tr>\n",
       "    <tr>\n",
       "      <th>224</th>\n",
       "      <td>4</td>\n",
       "      <td>51</td>\n",
       "      <td>1272</td>\n",
       "      <td>72</td>\n",
       "      <td>241</td>\n",
       "      <td>-87.8290</td>\n",
       "      <td>42.1275</td>\n",
       "    </tr>\n",
       "  </tbody>\n",
       "</table>\n",
       "<p>169 rows × 7 columns</p>\n",
       "</div>"
      ],
      "text/plain": [
       "     rank  age  run5k  pullups  fran  longitude  latitude\n",
       "0       9   34   1204       45    53  -125.9066   49.1530\n",
       "1       1   26   1180       80   124   -76.2875   36.7682\n",
       "2       4   31   1110       40   125   -87.3595   36.5298\n",
       "4       3   34   1263       55   128   -81.7948   26.1420\n",
       "6       4   29   1182       35   130   -73.8729   45.6689\n",
       "..    ...  ...    ...      ...   ...        ...       ...\n",
       "217    18   51   1400       39   355  -120.5542   43.8041\n",
       "218    17   54   1349       42   368   -88.7879   43.7844\n",
       "220     9   53   1224       40   396   -83.4833   42.4311\n",
       "223     4   50   1353       51   235  -117.9003   33.9165\n",
       "224     4   51   1272       72   241   -87.8290   42.1275\n",
       "\n",
       "[169 rows x 7 columns]"
      ]
     },
     "execution_count": 180,
     "metadata": {},
     "output_type": "execute_result"
    }
   ],
   "source": [
    "mask = (df['longitude'] >= -135) & (df['longitude'] <= -60) & (df['latitude'] >= 25) & (df['latitude'] <= 60)\n",
    "df2 = df.loc[mask]\n",
    "df2"
   ]
  },
  {
   "cell_type": "code",
   "execution_count": 105,
   "metadata": {},
   "outputs": [
    {
     "data": {
      "text/plain": [
       "Text(0.5, 1.0, 'K-Means Classification Location')"
      ]
     },
     "execution_count": 105,
     "metadata": {},
     "output_type": "execute_result"
    },
    {
     "data": {
      "image/png": "[encoded data removed]",
      "text/plain": [
       "<Figure size 432x288 with 1 Axes>"
      ]
     },
     "metadata": {
      "needs_background": "light"
     },
     "output_type": "display_data"
    }
   ],
   "source": [
    "plt.subplot(1,2,2)\n",
    "plt.scatter(x=df['longitude'],y=df['latitude'],c=color_theme[clustering.labels_],s=50)\n",
    "plt.title('K-Means Classification Location')"
   ]
  },
  {
   "cell_type": "code",
   "execution_count": 94,
   "metadata": {
    "scrolled": true
   },
   "outputs": [
    {
     "data": {
      "text/plain": [
       "Text(0.5, 1.0, 'K-Means Classification Run5k')"
      ]
     },
     "execution_count": 94,
     "metadata": {},
     "output_type": "execute_result"
    },
    {
     "data": {
      "image/png": "[encoded data removed]",
      "text/plain": [
       "<Figure size 432x288 with 1 Axes>"
      ]
     },
     "metadata": {
      "needs_background": "light"
     },
     "output_type": "display_data"
    }
   ],
   "source": [
    "plt.subplot(1,2,2)\n",
    "plt.scatter(x=df['rank'],y=df['run5k'],c=color_theme[clustering.labels_],s=50)\n",
    "plt.title('K-Means Classification Run5k')"
   ]
  },
  {
   "cell_type": "code",
   "execution_count": 106,
   "metadata": {},
   "outputs": [
    {
     "data": {
      "text/plain": [
       "KMeans(n_clusters=2, random_state=5)"
      ]
     },
     "execution_count": 106,
     "metadata": {},
     "output_type": "execute_result"
    }
   ],
   "source": [
    "# df2 = df.iloc[:, lambda x: x.index >= 18 and x.index <= 34]\n",
    "# df2 = df['age'].between(18, 34, inclusive=True)\n",
    "mask = (df['age'] >= 18) & (df['age'] <= 34)\n",
    "df2 = df.loc[mask]\n",
    "df2.head()\n",
    "x = scale(df2)\n",
    "clustering = KMeans(n_clusters=2,random_state=5)\n",
    "clustering.fit(x)"
   ]
  },
  {
   "cell_type": "code",
   "execution_count": 107,
   "metadata": {},
   "outputs": [
    {
     "data": {
      "text/plain": [
       "Text(0.5, 1.0, 'K-Means Classification Fran')"
      ]
     },
     "execution_count": 107,
     "metadata": {},
     "output_type": "execute_result"
    },
    {
     "data": {
      "image/png": "[encoded data removed]",
      "text/plain": [
       "<Figure size 432x288 with 1 Axes>"
      ]
     },
     "metadata": {
      "needs_background": "light"
     },
     "output_type": "display_data"
    }
   ],
   "source": [
    "plt.subplot(1,2,2)\n",
    "plt.scatter(x=df2['rank'],y=df2['fran'],c=color_theme[clustering.labels_],s=50)\n",
    "plt.title('K-Means Classification Fran')"
   ]
  },
  {
   "cell_type": "code",
   "execution_count": 108,
   "metadata": {},
   "outputs": [
    {
     "data": {
      "text/plain": [
       "Text(0.5, 1.0, 'K-Means Classification Pullups by age')"
      ]
     },
     "execution_count": 108,
     "metadata": {},
     "output_type": "execute_result"
    },
    {
     "data": {
      "image/png": "[encoded data removed]",
      "text/plain": [
       "<Figure size 432x288 with 1 Axes>"
      ]
     },
     "metadata": {
      "needs_background": "light"
     },
     "output_type": "display_data"
    }
   ],
   "source": [
    "plt.subplot(1,2,2)\n",
    "plt.scatter(x=df2['rank'],y=df2['pullups'],c=color_theme[clustering.labels_],s=50)\n",
    "plt.title('K-Means Classification Pullups by age')"
   ]
  },
  {
   "cell_type": "code",
   "execution_count": 109,
   "metadata": {},
   "outputs": [
    {
     "data": {
      "text/plain": [
       "Text(0.5, 1.0, 'K-Means Classification Location')"
      ]
     },
     "execution_count": 109,
     "metadata": {},
     "output_type": "execute_result"
    },
    {
     "data": {
      "image/png": "[encoded data removed]",
      "text/plain": [
       "<Figure size 432x288 with 1 Axes>"
      ]
     },
     "metadata": {
      "needs_background": "light"
     },
     "output_type": "display_data"
    }
   ],
   "source": [
    "plt.subplot(1,2,2)\n",
    "plt.scatter(x=df2['longitude'],y=df2['latitude'],c=color_theme[clustering.labels_],s=50)\n",
    "plt.title('K-Means Classification Location')"
   ]
  },
  {
   "cell_type": "code",
   "execution_count": 98,
   "metadata": {},
   "outputs": [
    {
     "data": {
      "text/plain": [
       "Text(0.5, 1.0, 'K-Means Classification Pullups')"
      ]
     },
     "execution_count": 98,
     "metadata": {},
     "output_type": "execute_result"
    },
    {
     "data": {
      "image/png": "[encoded data removed]",
      "text/plain": [
       "<Figure size 432x288 with 1 Axes>"
      ]
     },
     "metadata": {
      "needs_background": "light"
     },
     "output_type": "display_data"
    }
   ],
   "source": [
    "mask = (df['age'] >= 34) & (df['age'] <= 39)\n",
    "df2 = df.loc[mask]\n",
    "df2.head()\n",
    "x = scale(df2)\n",
    "clustering = KMeans(n_clusters=2,random_state=5)\n",
    "clustering.fit(x)\n",
    "plt.subplot(1,2,2)\n",
    "plt.scatter(x=df2['rank'],y=df2['pullups'],c=color_theme[clustering.labels_],s=50)\n",
    "plt.title('K-Means Classification Pullups by age')"
   ]
  },
  {
   "cell_type": "code",
   "execution_count": null,
   "metadata": {},
   "outputs": [],
   "source": []
  },
  {
   "cell_type": "code",
   "execution_count": null,
   "metadata": {},
   "outputs": [],
   "source": []
  }
 ],
 "metadata": {
  "kernelspec": {
   "display_name": "Python 3",
   "language": "python",
   "name": "python3"
  },
  "language_info": {
   "codemirror_mode": {
    "name": "ipython",
    "version": 3
   },
   "file_extension": ".py",
   "mimetype": "text/x-python",
   "name": "python",
   "nbconvert_exporter": "python",
   "pygments_lexer": "ipython3",
   "version": "3.8.5"
  }
 },
 "nbformat": 4,
 "nbformat_minor": 4
}
