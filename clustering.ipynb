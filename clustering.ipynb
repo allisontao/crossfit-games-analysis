{
 "cells": [
  {
   "cell_type": "code",
   "execution_count": 33,
   "metadata": {},
   "outputs": [],
   "source": [
    "import numpy as np\n",
    "import pandas as pd\n",
    "\n",
    "import matplotlib.pyplot as plt\n",
    "\n",
    "import sklearn\n",
    "from sklearn.cluster import KMeans\n",
    "import sklearn.metrics as sm\n",
    "from sklearn import datasets\n",
    "from sklearn.metrics import confusion_matrix, classification_report"
   ]
  },
  {
   "cell_type": "code",
   "execution_count": 76,
   "metadata": {},
   "outputs": [
    {
     "data": {
      "text/html": [
       "<div>\n",
       "<style scoped>\n",
       "    .dataframe tbody tr th:only-of-type {\n",
       "        vertical-align: middle;\n",
       "    }\n",
       "\n",
       "    .dataframe tbody tr th {\n",
       "        vertical-align: top;\n",
       "    }\n",
       "\n",
       "    .dataframe thead th {\n",
       "        text-align: right;\n",
       "    }\n",
       "</style>\n",
       "<table border=\"1\" class=\"dataframe\">\n",
       "  <thead>\n",
       "    <tr style=\"text-align: right;\">\n",
       "      <th></th>\n",
       "      <th>Name</th>\n",
       "      <th>rank</th>\n",
       "      <th>region</th>\n",
       "      <th>longitude</th>\n",
       "      <th>latitude</th>\n",
       "      <th>age</th>\n",
       "      <th>height</th>\n",
       "      <th>weight</th>\n",
       "      <th>run400</th>\n",
       "      <th>run5k</th>\n",
       "      <th>fran</th>\n",
       "      <th>candj</th>\n",
       "      <th>snatch</th>\n",
       "      <th>deadlift</th>\n",
       "      <th>backsq</th>\n",
       "      <th>pullups</th>\n",
       "      <th>coach</th>\n",
       "      <th>certification</th>\n",
       "      <th>multiple</th>\n",
       "      <th>howlong</th>\n",
       "    </tr>\n",
       "  </thead>\n",
       "  <tbody>\n",
       "    <tr>\n",
       "      <th>0</th>\n",
       "      <td>DelainaSnider</td>\n",
       "      <td>9</td>\n",
       "      <td>Canada West (British Columbia)</td>\n",
       "      <td>125.9066° W</td>\n",
       "      <td>49.1530° N</td>\n",
       "      <td>34</td>\n",
       "      <td>66</td>\n",
       "      <td>152</td>\n",
       "      <td>67</td>\n",
       "      <td>1204</td>\n",
       "      <td>53</td>\n",
       "      <td>200</td>\n",
       "      <td>150</td>\n",
       "      <td>345</td>\n",
       "      <td>280</td>\n",
       "      <td>45</td>\n",
       "      <td>1</td>\n",
       "      <td>0</td>\n",
       "      <td>1</td>\n",
       "      <td>3</td>\n",
       "    </tr>\n",
       "    <tr>\n",
       "      <th>1</th>\n",
       "      <td>CamilleLeblanc-Bazinet</td>\n",
       "      <td>1</td>\n",
       "      <td>South West (Virginia)</td>\n",
       "      <td>76.2875° W</td>\n",
       "      <td>36.7682° N</td>\n",
       "      <td>26</td>\n",
       "      <td>62</td>\n",
       "      <td>130</td>\n",
       "      <td>80</td>\n",
       "      <td>1180</td>\n",
       "      <td>124</td>\n",
       "      <td>230</td>\n",
       "      <td>190</td>\n",
       "      <td>300</td>\n",
       "      <td>310</td>\n",
       "      <td>80</td>\n",
       "      <td>1</td>\n",
       "      <td>1</td>\n",
       "      <td>1</td>\n",
       "      <td>3</td>\n",
       "    </tr>\n",
       "    <tr>\n",
       "      <th>2</th>\n",
       "      <td>SarahScholl</td>\n",
       "      <td>4</td>\n",
       "      <td>Atlantic</td>\n",
       "      <td>87.3595° W</td>\n",
       "      <td>36.5298° N</td>\n",
       "      <td>31</td>\n",
       "      <td>68</td>\n",
       "      <td>134</td>\n",
       "      <td>58</td>\n",
       "      <td>1110</td>\n",
       "      <td>125</td>\n",
       "      <td>195</td>\n",
       "      <td>155</td>\n",
       "      <td>305</td>\n",
       "      <td>295</td>\n",
       "      <td>40</td>\n",
       "      <td>0</td>\n",
       "      <td>1</td>\n",
       "      <td>0</td>\n",
       "      <td>3</td>\n",
       "    </tr>\n",
       "    <tr>\n",
       "      <th>3</th>\n",
       "      <td>KatrinTanjaDavidsdottir</td>\n",
       "      <td>1</td>\n",
       "      <td>Europe (Reykjavik, Iceland)</td>\n",
       "      <td>21.9426° W</td>\n",
       "      <td>64.1466° N</td>\n",
       "      <td>21</td>\n",
       "      <td>67</td>\n",
       "      <td>152</td>\n",
       "      <td>67</td>\n",
       "      <td>1194</td>\n",
       "      <td>128</td>\n",
       "      <td>216</td>\n",
       "      <td>187</td>\n",
       "      <td>309</td>\n",
       "      <td>254</td>\n",
       "      <td>70</td>\n",
       "      <td>1</td>\n",
       "      <td>0</td>\n",
       "      <td>1</td>\n",
       "      <td>3</td>\n",
       "    </tr>\n",
       "    <tr>\n",
       "      <th>4</th>\n",
       "      <td>TalaynaFortunato</td>\n",
       "      <td>3</td>\n",
       "      <td>South East</td>\n",
       "      <td>81.7948° W</td>\n",
       "      <td>26.1420° N</td>\n",
       "      <td>34</td>\n",
       "      <td>67</td>\n",
       "      <td>150</td>\n",
       "      <td>69</td>\n",
       "      <td>1263</td>\n",
       "      <td>128</td>\n",
       "      <td>215</td>\n",
       "      <td>190</td>\n",
       "      <td>315</td>\n",
       "      <td>275</td>\n",
       "      <td>55</td>\n",
       "      <td>0</td>\n",
       "      <td>0</td>\n",
       "      <td>1</td>\n",
       "      <td>3</td>\n",
       "    </tr>\n",
       "  </tbody>\n",
       "</table>\n",
       "</div>"
      ],
      "text/plain": [
       "                      Name  rank                          region    longitude  \\\n",
       "0            DelainaSnider     9  Canada West (British Columbia)  125.9066° W   \n",
       "1   CamilleLeblanc-Bazinet     1           South West (Virginia)   76.2875° W   \n",
       "2              SarahScholl     4                        Atlantic   87.3595° W   \n",
       "3  KatrinTanjaDavidsdottir     1     Europe (Reykjavik, Iceland)   21.9426° W   \n",
       "4         TalaynaFortunato     3                      South East   81.7948° W   \n",
       "\n",
       "     latitude  age  height  weight  run400  run5k  fran  candj  snatch  \\\n",
       "0  49.1530° N   34      66     152      67   1204    53    200     150   \n",
       "1  36.7682° N   26      62     130      80   1180   124    230     190   \n",
       "2  36.5298° N   31      68     134      58   1110   125    195     155   \n",
       "3  64.1466° N   21      67     152      67   1194   128    216     187   \n",
       "4  26.1420° N   34      67     150      69   1263   128    215     190   \n",
       "\n",
       "   deadlift  backsq  pullups  coach  certification  multiple  howlong  \n",
       "0       345     280       45      1              0         1        3  \n",
       "1       300     310       80      1              1         1        3  \n",
       "2       305     295       40      0              1         0        3  \n",
       "3       309     254       70      1              0         1        3  \n",
       "4       315     275       55      0              0         1        3  "
      ]
     },
     "execution_count": 76,
     "metadata": {},
     "output_type": "execute_result"
    }
   ],
   "source": [
    "women = pd.read_csv('athletes-women.csv')\n",
    "men = pd.read_csv('athletes-men.csv')\n",
    "#women = women.drop(columns=['Name', 'Region'])\n",
    "#women = women.drop([10])\n",
    "women.head()\n",
    "# missing = men.isnull().sum()\n",
    "# print(missing)\n"
   ]
  },
  {
   "cell_type": "code",
   "execution_count": 77,
   "metadata": {},
   "outputs": [
    {
     "data": {
      "text/plain": [
       "array([[-0.4113086 , -0.28080105, -1.09719481,  0.18389228, -2.36677404],\n",
       "       [-0.87635601, -1.13458801, -1.31782682,  3.7332838 , -1.22315421],\n",
       "       [-0.70196323, -0.60097116, -1.96133684, -0.32316365, -1.20704688],\n",
       "       [-0.87635601, -1.66820486, -1.18912481,  2.71917194, -1.15872492],\n",
       "       [-0.76009416, -0.28080105, -0.55480779,  1.19800414, -1.15872492],\n",
       "       [-0.87635601, -1.24131138, -1.22589681,  2.61776075, -1.1426176 ],\n",
       "       [-0.70196323, -0.8144179 , -1.29944081, -0.83021958, -1.12651028],\n",
       "       [-0.58570138, -1.02786464, -0.30659678,  0.38671466, -1.12651028],\n",
       "       [-0.87635601, -0.49424779, -1.36379182,  2.61776075, -1.11040296],\n",
       "       [-0.81822509, -1.24131138, -1.0420368 ,  1.90788245, -1.07818831]])"
      ]
     },
     "execution_count": 77,
     "metadata": {},
     "output_type": "execute_result"
    }
   ],
   "source": [
    "from sklearn.preprocessing import scale\n",
    "df = women[['rank', 'age', 'run5k', 'pullups', 'fran']]\n",
    "X = scale(df)\n",
    "X[0:10,]"
   ]
  },
  {
   "cell_type": "code",
   "execution_count": 78,
   "metadata": {},
   "outputs": [
    {
     "data": {
      "text/plain": [
       "KMeans(n_clusters=2, random_state=5)"
      ]
     },
     "execution_count": 78,
     "metadata": {},
     "output_type": "execute_result"
    }
   ],
   "source": [
    "clustering = KMeans(n_clusters=2,random_state=5)\n",
    "clustering.fit(X)"
   ]
  },
  {
   "cell_type": "code",
   "execution_count": 79,
   "metadata": {
    "scrolled": true
   },
   "outputs": [],
   "source": [
    "df.columns = ['rank', 'age', 'run5k', 'pullups', 'fran']"
   ]
  },
  {
   "cell_type": "code",
   "execution_count": 80,
   "metadata": {},
   "outputs": [
    {
     "data": {
      "text/plain": [
       "Text(0.5, 1.0, 'K-Means Classification Pullups')"
      ]
     },
     "execution_count": 80,
     "metadata": {},
     "output_type": "execute_result"
    },
    {
     "data": {
      "image/png": "[encoded data removed]",
      "text/plain": [
       "<Figure size 432x288 with 1 Axes>"
      ]
     },
     "metadata": {
      "needs_background": "light"
     },
     "output_type": "display_data"
    }
   ],
   "source": [
    "color_theme = np.array(['darkgray','lightsalmon'])\n",
    "\n",
    "plt.subplot(1,2,2)\n",
    "plt.scatter(x=df['rank'],y=df['pullups'],c=color_theme[clustering.labels_],s=50)\n",
    "plt.title('K-Means Classification Pullups')"
   ]
  },
  {
   "cell_type": "code",
   "execution_count": 64,
   "metadata": {
    "scrolled": true
   },
   "outputs": [
    {
     "data": {
      "text/plain": [
       "Text(0.5, 1.0, 'K-Means Classification Run5k')"
      ]
     },
     "execution_count": 64,
     "metadata": {},
     "output_type": "execute_result"
    },
    {
     "data": {
      "image/png": "[encoded data removed]",
      "text/plain": [
       "<Figure size 432x288 with 1 Axes>"
      ]
     },
     "metadata": {
      "needs_background": "light"
     },
     "output_type": "display_data"
    }
   ],
   "source": [
    "plt.subplot(1,2,2)\n",
    "plt.scatter(x=df['rank'],y=df['run5k'],c=color_theme[clustering.labels_],s=50)\n",
    "plt.title('K-Means Classification Run5k')"
   ]
  },
  {
   "cell_type": "code",
   "execution_count": 69,
   "metadata": {},
   "outputs": [
    {
     "data": {
      "text/plain": [
       "KMeans(n_clusters=2, random_state=5)"
      ]
     },
     "execution_count": 69,
     "metadata": {},
     "output_type": "execute_result"
    }
   ],
   "source": [
    "# df2 = df.iloc[:, lambda x: x.index >= 18 and x.index <= 34]\n",
    "# df2 = df['age'].between(18, 34, inclusive=True)\n",
    "mask = (df['age'] >= 18) & (df['age'] <= 34)\n",
    "df2 = df.loc[mask]\n",
    "df2.head()\n",
    "x = scale(df2)\n",
    "clustering = KMeans(n_clusters=2,random_state=5)\n",
    "clustering.fit(x)"
   ]
  },
  {
   "cell_type": "code",
   "execution_count": 70,
   "metadata": {},
   "outputs": [
    {
     "data": {
      "text/plain": [
       "Text(0.5, 1.0, 'K-Means Classification Fran')"
      ]
     },
     "execution_count": 70,
     "metadata": {},
     "output_type": "execute_result"
    },
    {
     "data": {
      "image/png": "[encoded data removed]",
      "text/plain": [
       "<Figure size 432x288 with 1 Axes>"
      ]
     },
     "metadata": {
      "needs_background": "light"
     },
     "output_type": "display_data"
    }
   ],
   "source": [
    "plt.subplot(1,2,2)\n",
    "plt.scatter(x=df2['rank'],y=df2['fran'],c=color_theme[clustering.labels_],s=50)\n",
    "plt.title('K-Means Classification Fran')"
   ]
  },
  {
   "cell_type": "code",
   "execution_count": 71,
   "metadata": {},
   "outputs": [
    {
     "data": {
      "text/plain": [
       "Text(0.5, 1.0, 'K-Means Classification Fran')"
      ]
     },
     "execution_count": 71,
     "metadata": {},
     "output_type": "execute_result"
    },
    {
     "data": {
      "image/png": "[encoded data removed]",
      "text/plain": [
       "<Figure size 432x288 with 1 Axes>"
      ]
     },
     "metadata": {
      "needs_background": "light"
     },
     "output_type": "display_data"
    }
   ],
   "source": [
    "plt.subplot(1,2,2)\n",
    "plt.scatter(x=df2['rank'],y=df2['pullups'],c=color_theme[clustering.labels_],s=50)\n",
    "plt.title('K-Means Classification Fran')"
   ]
  },
  {
   "cell_type": "code",
   "execution_count": 87,
   "metadata": {},
   "outputs": [
    {
     "data": {
      "text/plain": [
       "Text(0.5, 1.0, 'K-Means Classification Pullups')"
      ]
     },
     "execution_count": 87,
     "metadata": {},
     "output_type": "execute_result"
    },
    {
     "data": {
      "image/png": "[encoded data removed]",
      "text/plain": [
       "<Figure size 432x288 with 1 Axes>"
      ]
     },
     "metadata": {
      "needs_background": "light"
     },
     "output_type": "display_data"
    }
   ],
   "source": [
    "mask = (df['age'] >= 34) & (df['age'] <= 39)\n",
    "df2 = df.loc[mask]\n",
    "df2.head()\n",
    "x = scale(df2)\n",
    "clustering = KMeans(n_clusters=2,random_state=5)\n",
    "clustering.fit(x)\n",
    "plt.subplot(1,2,2)\n",
    "plt.scatter(x=df2['rank'],y=df2['pullups'],c=color_theme[clustering.labels_],s=50)\n",
    "plt.title('K-Means Classification Pullups')"
   ]
  },
  {
   "cell_type": "code",
   "execution_count": null,
   "metadata": {},
   "outputs": [],
   "source": []
  },
  {
   "cell_type": "code",
   "execution_count": null,
   "metadata": {},
   "outputs": [],
   "source": []
  }
 ],
 "metadata": {
  "kernelspec": {
   "display_name": "Python 3",
   "language": "python",
   "name": "python3"
  },
  "language_info": {
   "codemirror_mode": {
    "name": "ipython",
    "version": 3
   },
   "file_extension": ".py",
   "mimetype": "text/x-python",
   "name": "python",
   "nbconvert_exporter": "python",
   "pygments_lexer": "ipython3",
   "version": "3.8.5"
  }
 },
 "nbformat": 4,
 "nbformat_minor": 4
}
