{
 "cells": [
  {
   "cell_type": "code",
   "execution_count": 708,
   "metadata": {},
   "outputs": [],
   "source": [
    "import numpy as np\n",
    "import pandas as pd\n",
    "\n",
    "import matplotlib.pyplot as plt\n",
    "\n",
    "import sklearn\n",
    "import sklearn.metrics as sm\n",
    "from sklearn.preprocessing import scale\n",
    "from sklearn.cluster import KMeans\n",
    "from sklearn import datasets\n",
    "from sklearn.metrics import confusion_matrix, classification_report"
   ]
  },
  {
   "cell_type": "code",
   "execution_count": 724,
   "metadata": {},
   "outputs": [
    {
     "data": {
      "text/html": [
       "<div>\n",
       "<style scoped>\n",
       "    .dataframe tbody tr th:only-of-type {\n",
       "        vertical-align: middle;\n",
       "    }\n",
       "\n",
       "    .dataframe tbody tr th {\n",
       "        vertical-align: top;\n",
       "    }\n",
       "\n",
       "    .dataframe thead th {\n",
       "        text-align: right;\n",
       "    }\n",
       "</style>\n",
       "<table border=\"1\" class=\"dataframe\">\n",
       "  <thead>\n",
       "    <tr style=\"text-align: right;\">\n",
       "      <th></th>\n",
       "      <th>Name</th>\n",
       "      <th>rank</th>\n",
       "      <th>region</th>\n",
       "      <th>longitude</th>\n",
       "      <th>latitude</th>\n",
       "      <th>age</th>\n",
       "      <th>height</th>\n",
       "      <th>weight</th>\n",
       "      <th>run400</th>\n",
       "      <th>run5k</th>\n",
       "      <th>fran</th>\n",
       "      <th>candj</th>\n",
       "      <th>snatch</th>\n",
       "      <th>deadlift</th>\n",
       "      <th>backsq</th>\n",
       "      <th>pullups</th>\n",
       "      <th>coach</th>\n",
       "      <th>certification</th>\n",
       "      <th>multiple</th>\n",
       "      <th>howlong</th>\n",
       "    </tr>\n",
       "  </thead>\n",
       "  <tbody>\n",
       "    <tr>\n",
       "      <th>0</th>\n",
       "      <td>DelainaSnider</td>\n",
       "      <td>9</td>\n",
       "      <td>Canada West (British Columbia)</td>\n",
       "      <td>-125.9066</td>\n",
       "      <td>49.1530</td>\n",
       "      <td>34</td>\n",
       "      <td>66</td>\n",
       "      <td>152</td>\n",
       "      <td>67</td>\n",
       "      <td>1204</td>\n",
       "      <td>53</td>\n",
       "      <td>200</td>\n",
       "      <td>150</td>\n",
       "      <td>345</td>\n",
       "      <td>280</td>\n",
       "      <td>45</td>\n",
       "      <td>1</td>\n",
       "      <td>0</td>\n",
       "      <td>1</td>\n",
       "      <td>3</td>\n",
       "    </tr>\n",
       "    <tr>\n",
       "      <th>1</th>\n",
       "      <td>ErinLight</td>\n",
       "      <td>27</td>\n",
       "      <td>Canada West (British Columbia)</td>\n",
       "      <td>-125.9066</td>\n",
       "      <td>49.1530</td>\n",
       "      <td>27</td>\n",
       "      <td>67</td>\n",
       "      <td>155</td>\n",
       "      <td>71</td>\n",
       "      <td>1494</td>\n",
       "      <td>171</td>\n",
       "      <td>215</td>\n",
       "      <td>140</td>\n",
       "      <td>325</td>\n",
       "      <td>240</td>\n",
       "      <td>60</td>\n",
       "      <td>0</td>\n",
       "      <td>0</td>\n",
       "      <td>1</td>\n",
       "      <td>3</td>\n",
       "    </tr>\n",
       "    <tr>\n",
       "      <th>2</th>\n",
       "      <td>HeatherGillespie</td>\n",
       "      <td>44</td>\n",
       "      <td>Canada West (British Columbia)</td>\n",
       "      <td>-125.9066</td>\n",
       "      <td>49.1530</td>\n",
       "      <td>35</td>\n",
       "      <td>64</td>\n",
       "      <td>138</td>\n",
       "      <td>69</td>\n",
       "      <td>1610</td>\n",
       "      <td>207</td>\n",
       "      <td>215</td>\n",
       "      <td>185</td>\n",
       "      <td>325</td>\n",
       "      <td>255</td>\n",
       "      <td>29</td>\n",
       "      <td>0</td>\n",
       "      <td>1</td>\n",
       "      <td>0</td>\n",
       "      <td>4</td>\n",
       "    </tr>\n",
       "    <tr>\n",
       "      <th>3</th>\n",
       "      <td>NancyMcKeage</td>\n",
       "      <td>8</td>\n",
       "      <td>Canada West (British Columbia)</td>\n",
       "      <td>-125.9066</td>\n",
       "      <td>49.1530</td>\n",
       "      <td>43</td>\n",
       "      <td>69</td>\n",
       "      <td>150</td>\n",
       "      <td>70</td>\n",
       "      <td>1180</td>\n",
       "      <td>214</td>\n",
       "      <td>180</td>\n",
       "      <td>130</td>\n",
       "      <td>275</td>\n",
       "      <td>215</td>\n",
       "      <td>44</td>\n",
       "      <td>1</td>\n",
       "      <td>0</td>\n",
       "      <td>0</td>\n",
       "      <td>4</td>\n",
       "    </tr>\n",
       "    <tr>\n",
       "      <th>4</th>\n",
       "      <td>JenniferDober</td>\n",
       "      <td>12</td>\n",
       "      <td>Canada West (British Columbia)</td>\n",
       "      <td>-125.9066</td>\n",
       "      <td>49.1530</td>\n",
       "      <td>41</td>\n",
       "      <td>65</td>\n",
       "      <td>145</td>\n",
       "      <td>74</td>\n",
       "      <td>1289</td>\n",
       "      <td>222</td>\n",
       "      <td>160</td>\n",
       "      <td>115</td>\n",
       "      <td>315</td>\n",
       "      <td>225</td>\n",
       "      <td>42</td>\n",
       "      <td>0</td>\n",
       "      <td>1</td>\n",
       "      <td>1</td>\n",
       "      <td>4</td>\n",
       "    </tr>\n",
       "    <tr>\n",
       "      <th>...</th>\n",
       "      <td>...</td>\n",
       "      <td>...</td>\n",
       "      <td>...</td>\n",
       "      <td>...</td>\n",
       "      <td>...</td>\n",
       "      <td>...</td>\n",
       "      <td>...</td>\n",
       "      <td>...</td>\n",
       "      <td>...</td>\n",
       "      <td>...</td>\n",
       "      <td>...</td>\n",
       "      <td>...</td>\n",
       "      <td>...</td>\n",
       "      <td>...</td>\n",
       "      <td>...</td>\n",
       "      <td>...</td>\n",
       "      <td>...</td>\n",
       "      <td>...</td>\n",
       "      <td>...</td>\n",
       "      <td>...</td>\n",
       "    </tr>\n",
       "    <tr>\n",
       "      <th>72</th>\n",
       "      <td>LeonieHenrich</td>\n",
       "      <td>43</td>\n",
       "      <td>Netherlands</td>\n",
       "      <td>5.2913</td>\n",
       "      <td>52.1326</td>\n",
       "      <td>21</td>\n",
       "      <td>67</td>\n",
       "      <td>154</td>\n",
       "      <td>78</td>\n",
       "      <td>1480</td>\n",
       "      <td>215</td>\n",
       "      <td>183</td>\n",
       "      <td>139</td>\n",
       "      <td>254</td>\n",
       "      <td>231</td>\n",
       "      <td>30</td>\n",
       "      <td>0</td>\n",
       "      <td>0</td>\n",
       "      <td>0</td>\n",
       "      <td>2</td>\n",
       "    </tr>\n",
       "    <tr>\n",
       "      <th>73</th>\n",
       "      <td>LynnHunter</td>\n",
       "      <td>5</td>\n",
       "      <td>United Arab Emirates</td>\n",
       "      <td>53.8478</td>\n",
       "      <td>23.4241</td>\n",
       "      <td>47</td>\n",
       "      <td>66</td>\n",
       "      <td>145</td>\n",
       "      <td>68</td>\n",
       "      <td>1253</td>\n",
       "      <td>210</td>\n",
       "      <td>145</td>\n",
       "      <td>125</td>\n",
       "      <td>255</td>\n",
       "      <td>200</td>\n",
       "      <td>50</td>\n",
       "      <td>0</td>\n",
       "      <td>1</td>\n",
       "      <td>1</td>\n",
       "      <td>4</td>\n",
       "    </tr>\n",
       "    <tr>\n",
       "      <th>74</th>\n",
       "      <td>JackySchmitt</td>\n",
       "      <td>67</td>\n",
       "      <td>Luxembourg</td>\n",
       "      <td>6.1296</td>\n",
       "      <td>49.8153</td>\n",
       "      <td>20</td>\n",
       "      <td>65</td>\n",
       "      <td>134</td>\n",
       "      <td>79</td>\n",
       "      <td>1630</td>\n",
       "      <td>405</td>\n",
       "      <td>139</td>\n",
       "      <td>143</td>\n",
       "      <td>254</td>\n",
       "      <td>209</td>\n",
       "      <td>28</td>\n",
       "      <td>0</td>\n",
       "      <td>0</td>\n",
       "      <td>0</td>\n",
       "      <td>2</td>\n",
       "    </tr>\n",
       "    <tr>\n",
       "      <th>75</th>\n",
       "      <td>ThuridurErlaHelgadottir</td>\n",
       "      <td>9</td>\n",
       "      <td>Switzerland</td>\n",
       "      <td>8.2275</td>\n",
       "      <td>46.8182</td>\n",
       "      <td>23</td>\n",
       "      <td>65</td>\n",
       "      <td>128</td>\n",
       "      <td>61</td>\n",
       "      <td>1286</td>\n",
       "      <td>159</td>\n",
       "      <td>214</td>\n",
       "      <td>170</td>\n",
       "      <td>295</td>\n",
       "      <td>254</td>\n",
       "      <td>48</td>\n",
       "      <td>0</td>\n",
       "      <td>1</td>\n",
       "      <td>1</td>\n",
       "      <td>4</td>\n",
       "    </tr>\n",
       "    <tr>\n",
       "      <th>76</th>\n",
       "      <td>AnneWaage</td>\n",
       "      <td>16</td>\n",
       "      <td>Norway</td>\n",
       "      <td>8.4689</td>\n",
       "      <td>60.4720</td>\n",
       "      <td>43</td>\n",
       "      <td>66</td>\n",
       "      <td>148</td>\n",
       "      <td>77</td>\n",
       "      <td>1320</td>\n",
       "      <td>206</td>\n",
       "      <td>187</td>\n",
       "      <td>132</td>\n",
       "      <td>319</td>\n",
       "      <td>242</td>\n",
       "      <td>41</td>\n",
       "      <td>0</td>\n",
       "      <td>1</td>\n",
       "      <td>1</td>\n",
       "      <td>3</td>\n",
       "    </tr>\n",
       "  </tbody>\n",
       "</table>\n",
       "<p>77 rows × 20 columns</p>\n",
       "</div>"
      ],
      "text/plain": [
       "                       Name  rank                          region  longitude  \\\n",
       "0             DelainaSnider     9  Canada West (British Columbia)  -125.9066   \n",
       "1                 ErinLight    27  Canada West (British Columbia)  -125.9066   \n",
       "2          HeatherGillespie    44  Canada West (British Columbia)  -125.9066   \n",
       "3              NancyMcKeage     8  Canada West (British Columbia)  -125.9066   \n",
       "4             JenniferDober    12  Canada West (British Columbia)  -125.9066   \n",
       "..                      ...   ...                             ...        ...   \n",
       "72            LeonieHenrich    43                     Netherlands     5.2913   \n",
       "73               LynnHunter     5            United Arab Emirates    53.8478   \n",
       "74             JackySchmitt    67                      Luxembourg     6.1296   \n",
       "75  ThuridurErlaHelgadottir     9                     Switzerland     8.2275   \n",
       "76                AnneWaage    16                          Norway     8.4689   \n",
       "\n",
       "    latitude  age  height  weight  run400  run5k  fran  candj  snatch  \\\n",
       "0    49.1530   34      66     152      67   1204    53    200     150   \n",
       "1    49.1530   27      67     155      71   1494   171    215     140   \n",
       "2    49.1530   35      64     138      69   1610   207    215     185   \n",
       "3    49.1530   43      69     150      70   1180   214    180     130   \n",
       "4    49.1530   41      65     145      74   1289   222    160     115   \n",
       "..       ...  ...     ...     ...     ...    ...   ...    ...     ...   \n",
       "72   52.1326   21      67     154      78   1480   215    183     139   \n",
       "73   23.4241   47      66     145      68   1253   210    145     125   \n",
       "74   49.8153   20      65     134      79   1630   405    139     143   \n",
       "75   46.8182   23      65     128      61   1286   159    214     170   \n",
       "76   60.4720   43      66     148      77   1320   206    187     132   \n",
       "\n",
       "    deadlift  backsq  pullups  coach  certification  multiple  howlong  \n",
       "0        345     280       45      1              0         1        3  \n",
       "1        325     240       60      0              0         1        3  \n",
       "2        325     255       29      0              1         0        4  \n",
       "3        275     215       44      1              0         0        4  \n",
       "4        315     225       42      0              1         1        4  \n",
       "..       ...     ...      ...    ...            ...       ...      ...  \n",
       "72       254     231       30      0              0         0        2  \n",
       "73       255     200       50      0              1         1        4  \n",
       "74       254     209       28      0              0         0        2  \n",
       "75       295     254       48      0              1         1        4  \n",
       "76       319     242       41      0              1         1        3  \n",
       "\n",
       "[77 rows x 20 columns]"
      ]
     },
     "execution_count": 724,
     "metadata": {},
     "output_type": "execute_result"
    }
   ],
   "source": [
    "# Reading csv files\n",
    "women = pd.read_csv('athletes-women.csv')\n",
    "men = pd.read_csv('athletes-men.csv')\n",
    "\n",
    "# CSV with only US athletes\n",
    "men_us = pd.read_csv('us_men.csv')\n",
    "no_us = pd.read_csv('other_men.csv')\n",
    "no_us_women = pd.read_csv('other_women.csv')\n",
    "no_us_women"
   ]
  },
  {
   "cell_type": "markdown",
   "metadata": {},
   "source": [
    "# Unsupervised"
   ]
  },
  {
   "cell_type": "code",
   "execution_count": 725,
   "metadata": {},
   "outputs": [],
   "source": [
    "df_women = women[['rank', 'age', 'run5k', 'pullups', 'fran', 'longitude', 'latitude']]\n",
    "X_w = scale(df_women)\n",
    "# X[0:10,]\n",
    "\n",
    "df_men = men[['rank', 'age', 'run5k', 'pullups', 'fran', 'longitude', 'latitude']]\n",
    "X_m = scale(df_men)\n",
    "# M[0:10,]"
   ]
  },
  {
   "cell_type": "markdown",
   "metadata": {},
   "source": [
    "# Location"
   ]
  },
  {
   "cell_type": "code",
   "execution_count": 727,
   "metadata": {},
   "outputs": [
    {
     "data": {
      "text/plain": [
       "<matplotlib.collections.PathCollection at 0x7fb46df1ac40>"
      ]
     },
     "execution_count": 727,
     "metadata": {},
     "output_type": "execute_result"
    },
    {
     "data": {
      "image/png": "[encoded data removed]",
      "text/plain": [
       "<Figure size 432x288 with 1 Axes>"
      ]
     },
     "metadata": {
      "needs_background": "light"
     },
     "output_type": "display_data"
    }
   ],
   "source": [
    "# location women other\n",
    "df_women_other = no_us_women.loc[:,['rank','latitude','longitude']]\n",
    "\n",
    "X_w_other = scale(df_women_other)\n",
    "\n",
    "\n",
    "num_clusters = 7\n",
    "\n",
    "\n",
    "color_theme = np.array(['darkgray','lightsalmon', 'blue', 'red', 'green', 'orange', 'purple', 'black', 'brown', 'pink', 'lightblue', 'lightgreen', 'teal'])\n",
    "\n",
    "clustering = KMeans(n_clusters=num_clusters, random_state=3)\n",
    "\n",
    "clustering.fit(X_w_other)\n",
    "\n",
    "\n",
    "\n",
    "df_women_other['cluster_label'] = kmeans.fit_predict(df_women_other[df_women_other.columns[1:3]])\n",
    "\n",
    "centers = kmeans.cluster_centers_ # Coordinates of cluster centers.\n",
    "\n",
    "labels = kmeans.predict(df_women_other[df_women_other.columns[1:3]]) # Labels of each point\n",
    "\n",
    "df_women_other.head(10)\n",
    "\n",
    "\n",
    "\n",
    "plt.scatter(x=df_women_other['longitude'],y=df_women_other['latitude'],c=color_theme[clustering.labels_],s=50)"
   ]
  },
  {
   "cell_type": "code",
   "execution_count": 715,
   "metadata": {},
   "outputs": [
    {
     "data": {
      "text/plain": [
       "<matplotlib.collections.PathCollection at 0x7fb46d72a490>"
      ]
     },
     "execution_count": 715,
     "metadata": {},
     "output_type": "execute_result"
    },
    {
     "data": {
      "image/png": "[encoded data removed]",
      "text/plain": [
       "<Figure size 432x288 with 1 Axes>"
      ]
     },
     "metadata": {
      "needs_background": "light"
     },
     "output_type": "display_data"
    }
   ],
   "source": [
    "# location women us\n",
    "mask = (df_women['longitude'] >= -135) & (df_women['longitude'] <= -60) & (df_women['latitude'] >= 25) & (df_women['latitude'] <= 60) #& (df_women['age'] <= 34) & (df_women['rank'] <= 50)\n",
    "\n",
    "l = df_women.loc[mask]\n",
    "\n",
    "df_women_us=l.loc[:,['rank','latitude','longitude']]\n",
    "\n",
    "X_w_us = scale(df_women_us)\n",
    "\n",
    "\n",
    "\n",
    "num_clusters = 5\n",
    "\n",
    "\n",
    "\n",
    "color_theme = np.array(['darkgray','lightsalmon', 'blue', 'red', 'green', 'orange', 'purple', 'black', 'brown', 'pink', 'lightblue', 'lightgreen', 'teal'])\n",
    "\n",
    "clustering = KMeans(n_clusters=num_clusters, random_state=5)\n",
    "\n",
    "clustering.fit(X_w_us)\n",
    "\n",
    "\n",
    "\n",
    "df_women_us['cluster_label'] = kmeans.fit_predict(df_women_us[df_women_us.columns[1:3]])\n",
    "\n",
    "centers = kmeans.cluster_centers_ # Coordinates of cluster centers.\n",
    "\n",
    "labels = kmeans.predict(df_women_us[df_women_us.columns[1:3]]) # Labels of each point\n",
    "\n",
    "df_women_us.head(10)\n",
    "\n",
    "\n",
    "\n",
    "plt.scatter(x=df_women_us['longitude'],y=df_women_us['latitude'],c=color_theme[clustering.labels_],s=50)"
   ]
  },
  {
   "cell_type": "code",
   "execution_count": 717,
   "metadata": {},
   "outputs": [
    {
     "data": {
      "text/plain": [
       "<matplotlib.collections.PathCollection at 0x7fb46d8f1b50>"
      ]
     },
     "execution_count": 717,
     "metadata": {},
     "output_type": "execute_result"
    },
    {
     "data": {
      "image/png": "[encoded data removed]",
      "text/plain": [
       "<Figure size 432x288 with 1 Axes>"
      ]
     },
     "metadata": {
      "needs_background": "light"
     },
     "output_type": "display_data"
    }
   ],
   "source": [
    "# location men other\n",
    "df_men_other = no_us.loc[:,['rank','latitude','longitude']]\n",
    "\n",
    "X_m_other = scale(df_men_other)\n",
    "\n",
    "\n",
    "num_clusters = 7\n",
    "\n",
    "\n",
    "color_theme = np.array(['darkgray','lightsalmon', 'blue', 'red', 'green', 'orange', 'purple', 'black', 'brown', 'pink', 'lightblue', 'lightgreen', 'teal'])\n",
    "\n",
    "clustering = KMeans(n_clusters=num_clusters, random_state=3)\n",
    "\n",
    "clustering.fit(X_m_other)\n",
    "\n",
    "\n",
    "\n",
    "df_men_other['cluster_label'] = kmeans.fit_predict(df_men_other[df_men_other.columns[1:3]])\n",
    "\n",
    "centers = kmeans.cluster_centers_ # Coordinates of cluster centers.\n",
    "\n",
    "labels = kmeans.predict(df_men_other[df_men_other.columns[1:3]]) # Labels of each point\n",
    "\n",
    "df_men_other.head(10)\n",
    "\n",
    "\n",
    "\n",
    "plt.scatter(x=df_men_other['longitude'],y=df_men_other['latitude'],c=color_theme[clustering.labels_],s=50)"
   ]
  },
  {
   "cell_type": "code",
   "execution_count": 716,
   "metadata": {},
   "outputs": [
    {
     "data": {
      "text/plain": [
       "<matplotlib.collections.PathCollection at 0x7fb46d536d00>"
      ]
     },
     "execution_count": 716,
     "metadata": {},
     "output_type": "execute_result"
    },
    {
     "data": {
      "image/png": "[encoded data removed]",
      "text/plain": [
       "<Figure size 432x288 with 1 Axes>"
      ]
     },
     "metadata": {
      "needs_background": "light"
     },
     "output_type": "display_data"
    }
   ],
   "source": [
    "# location men us\n",
    "mask = (df_men['longitude'] >= -135) & (df_men['longitude'] <= -60) & (df_men['latitude'] >= 25) & (df_men['latitude'] <= 60) #& (df_women['age'] <= 34) & (df_women['rank'] <= 50)\n",
    "l = df_men.loc[mask]\n",
    "df_men_us=l.loc[:,['rank','latitude','longitude']]\n",
    "X_m_us = scale(df_men_us)\n",
    "\n",
    "\n",
    "\n",
    "num_clusters = 4\n",
    "\n",
    "\n",
    "\n",
    "color_theme = np.array(['darkgray','lightsalmon', 'blue', 'red', 'green', 'orange', 'purple', 'black', 'brown', 'pink', 'lightblue', 'lightgreen', 'teal'])\n",
    "clustering = KMeans(n_clusters=num_clusters, random_state=5)\n",
    "clustering.fit(X_m_us)\n",
    "\n",
    "\n",
    "\n",
    "df_men_us['cluster_label'] = kmeans.fit_predict(df_men_us[df_men_us.columns[1:3]])\n",
    "centers = kmeans.cluster_centers_ # Coordinates of cluster centers.\n",
    "labels = kmeans.predict(df_men_us[df_men_us.columns[1:3]]) # Labels of each point\n",
    "df_men_us.head(10)\n",
    "\n",
    "\n",
    "\n",
    "plt.scatter(x=df_men_us['longitude'],y=df_men_us['latitude'],c=color_theme[clustering.labels_],s=50)"
   ]
  },
  {
   "cell_type": "code",
   "execution_count": 667,
   "metadata": {},
   "outputs": [],
   "source": [
    "# All men clustering setups\n",
    "clustering = KMeans(n_clusters=3,random_state=5)\n",
    "clustering.fit(X_m)\n",
    "df.columns = ['rank', 'age', 'run5k', 'pullups', 'fran', 'longitude', 'latitude']"
   ]
  },
  {
   "cell_type": "code",
   "execution_count": 668,
   "metadata": {},
   "outputs": [
    {
     "data": {
      "text/plain": [
       "Text(0.5, 1.0, 'K-Means Classification Pullups')"
      ]
     },
     "execution_count": 668,
     "metadata": {},
     "output_type": "execute_result"
    },
    {
     "data": {
      "image/png": "[encoded data removed]",
      "text/plain": [
       "<Figure size 432x288 with 1 Axes>"
      ]
     },
     "metadata": {
      "needs_background": "light"
     },
     "output_type": "display_data"
    }
   ],
   "source": [
    "color_theme = np.array(['darkgray','lightsalmon', 'blue'])\n",
    "\n",
    "plt.subplot(1,2,2)\n",
    "plt.scatter(x=df_men['rank'],y=df_men['pullups'],c=color_theme[clustering.labels_],s=50)\n",
    "plt.title('K-Means Classification Pullups')"
   ]
  },
  {
   "cell_type": "code",
   "execution_count": 669,
   "metadata": {},
   "outputs": [
    {
     "data": {
      "text/plain": [
       "Text(0.5, 1.0, 'K-Means Classification Location')"
      ]
     },
     "execution_count": 669,
     "metadata": {},
     "output_type": "execute_result"
    },
    {
     "data": {
      "image/png": "[encoded data removed]",
      "text/plain": [
       "<Figure size 432x288 with 1 Axes>"
      ]
     },
     "metadata": {
      "needs_background": "light"
     },
     "output_type": "display_data"
    }
   ],
   "source": [
    "plt.subplot(1,2,2)\n",
    "plt.scatter(x=df['longitude'],y=df['latitude'],c=color_theme[clustering.labels_],s=50)\n",
    "plt.title('K-Means Classification Location')"
   ]
  },
  {
   "cell_type": "code",
   "execution_count": 670,
   "metadata": {
    "scrolled": true
   },
   "outputs": [
    {
     "data": {
      "text/plain": [
       "Text(0.5, 1.0, 'K-Means Classification Run5k')"
      ]
     },
     "execution_count": 670,
     "metadata": {},
     "output_type": "execute_result"
    },
    {
     "data": {
      "image/png": "[encoded data removed]",
      "text/plain": [
       "<Figure size 432x288 with 1 Axes>"
      ]
     },
     "metadata": {
      "needs_background": "light"
     },
     "output_type": "display_data"
    }
   ],
   "source": [
    "plt.subplot(1,2,2)\n",
    "plt.scatter(x=df['rank'],y=df['run5k'],c=color_theme[clustering.labels_],s=50)\n",
    "plt.title('K-Means Classification Run5k')"
   ]
  },
  {
   "cell_type": "code",
   "execution_count": 676,
   "metadata": {},
   "outputs": [
    {
     "data": {
      "text/plain": [
       "KMeans(n_clusters=2, random_state=5)"
      ]
     },
     "execution_count": 676,
     "metadata": {},
     "output_type": "execute_result"
    }
   ],
   "source": [
    "# df2 = df.iloc[:, lambda x: x.index >= 18 and x.index <= 34]\n",
    "# df2 = df['age'].between(18, 34, inclusive=True)\n",
    "mask = (df['age'] >= 18) & (df['age'] <= 34)\n",
    "df2 = df.loc[mask]\n",
    "df2.head()\n",
    "x = scale(df2)\n",
    "clustering = KMeans(n_clusters=2,random_state=5)\n",
    "clustering.fit(x)"
   ]
  },
  {
   "cell_type": "code",
   "execution_count": 677,
   "metadata": {},
   "outputs": [
    {
     "data": {
      "text/plain": [
       "Text(0.5, 1.0, 'K-Means Classification Fran')"
      ]
     },
     "execution_count": 677,
     "metadata": {},
     "output_type": "execute_result"
    },
    {
     "data": {
      "image/png": "[encoded data removed]",
      "text/plain": [
       "<Figure size 432x288 with 1 Axes>"
      ]
     },
     "metadata": {
      "needs_background": "light"
     },
     "output_type": "display_data"
    }
   ],
   "source": [
    "plt.subplot(1,2,2)\n",
    "plt.scatter(x=df2['rank'],y=df2['fran'],c=color_theme[clustering.labels_],s=50)\n",
    "plt.title('K-Means Classification Fran')"
   ]
  },
  {
   "cell_type": "code",
   "execution_count": 678,
   "metadata": {},
   "outputs": [
    {
     "data": {
      "text/plain": [
       "Text(0.5, 1.0, 'K-Means Classification Pullups by age')"
      ]
     },
     "execution_count": 678,
     "metadata": {},
     "output_type": "execute_result"
    },
    {
     "data": {
      "image/png": "[encoded data removed]",
      "text/plain": [
       "<Figure size 432x288 with 1 Axes>"
      ]
     },
     "metadata": {
      "needs_background": "light"
     },
     "output_type": "display_data"
    }
   ],
   "source": [
    "plt.subplot(1,2,2)\n",
    "plt.scatter(x=df2['rank'],y=df2['pullups'],c=color_theme[clustering.labels_],s=50)\n",
    "plt.title('K-Means Classification Pullups by age')"
   ]
  },
  {
   "cell_type": "code",
   "execution_count": 679,
   "metadata": {},
   "outputs": [
    {
     "data": {
      "text/plain": [
       "Text(0.5, 1.0, 'K-Means Classification Location')"
      ]
     },
     "execution_count": 679,
     "metadata": {},
     "output_type": "execute_result"
    },
    {
     "data": {
      "image/png": "[encoded data removed]",
      "text/plain": [
       "<Figure size 432x288 with 1 Axes>"
      ]
     },
     "metadata": {
      "needs_background": "light"
     },
     "output_type": "display_data"
    }
   ],
   "source": [
    "plt.subplot(1,2,2)\n",
    "plt.scatter(x=df2['longitude'],y=df2['latitude'],c=color_theme[clustering.labels_],s=50)\n",
    "plt.title('K-Means Classification Location')"
   ]
  },
  {
   "cell_type": "code",
   "execution_count": 680,
   "metadata": {},
   "outputs": [
    {
     "data": {
      "text/plain": [
       "Text(0.5, 1.0, 'K-Means Classification Pullups by age')"
      ]
     },
     "execution_count": 680,
     "metadata": {},
     "output_type": "execute_result"
    },
    {
     "data": {
      "image/png": "[encoded data removed]",
      "text/plain": [
       "<Figure size 432x288 with 1 Axes>"
      ]
     },
     "metadata": {
      "needs_background": "light"
     },
     "output_type": "display_data"
    }
   ],
   "source": [
    "mask = (df['age'] >= 34) & (df['age'] <= 39)\n",
    "df2 = df.loc[mask]\n",
    "df2.head()\n",
    "x = scale(df2)\n",
    "clustering = KMeans(n_clusters=2,random_state=5)\n",
    "clustering.fit(x)\n",
    "plt.subplot(1,2,2)\n",
    "plt.scatter(x=df2['rank'],y=df2['pullups'],c=color_theme[clustering.labels_],s=50)\n",
    "plt.title('K-Means Classification Pullups by age')"
   ]
  },
  {
   "cell_type": "markdown",
   "metadata": {},
   "source": [
    "# Supervised"
   ]
  },
  {
   "cell_type": "code",
   "execution_count": null,
   "metadata": {},
   "outputs": [],
   "source": []
  }
 ],
 "metadata": {
  "kernelspec": {
   "display_name": "Python 3",
   "language": "python",
   "name": "python3"
  },
  "language_info": {
   "codemirror_mode": {
    "name": "ipython",
    "version": 3
   },
   "file_extension": ".py",
   "mimetype": "text/x-python",
   "name": "python",
   "nbconvert_exporter": "python",
   "pygments_lexer": "ipython3",
   "version": "3.8.5"
  }
 },
 "nbformat": 4,
 "nbformat_minor": 4
}
