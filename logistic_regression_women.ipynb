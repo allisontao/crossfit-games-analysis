{
 "cells": [
  {
   "cell_type": "markdown",
   "id": "79d34a37",
   "metadata": {},
   "source": [
    "# Logistic Regression - Female Athletes"
   ]
  },
  {
   "cell_type": "code",
   "execution_count": 103,
   "id": "bd49f5b9",
   "metadata": {},
   "outputs": [],
   "source": [
    "# Data Imports\n",
    "import numpy as np\n",
    "import pandas as pd\n",
    "\n",
    "\n",
    "# Math\n",
    "import math\n",
    "\n",
    "# Plot imports\n",
    "import matplotlib.pyplot as plt\n",
    "import seaborn as sns\n",
    "sns.set_style('whitegrid')\n",
    "%matplotlib inline\n",
    "\n",
    "# Machine Learning Imports\n",
    "from sklearn.linear_model import LogisticRegression\n",
    "from sklearn.model_selection import train_test_split\n",
    "\n",
    "# For evaluating our ML results\n",
    "from sklearn import metrics\n",
    "\n",
    "# Dataset Import\n",
    "import statsmodels.api as sm"
   ]
  },
  {
   "cell_type": "code",
   "execution_count": 104,
   "id": "7015a69a",
   "metadata": {
    "scrolled": true
   },
   "outputs": [
    {
     "name": "stderr",
     "output_type": "stream",
     "text": [
      "/Applications/anaconda3/lib/python3.9/site-packages/IPython/core/interactiveshell.py:3444: DtypeWarning: Columns (27) have mixed types.Specify dtype option on import or set low_memory=False.\n",
      "  exec(code_obj, self.user_global_ns, self.user_ns)\n"
     ]
    }
   ],
   "source": [
    "# Reading csv files\n",
    "games_women = pd.read_csv('athletes-women.csv')\n",
    "games_men = pd.read_csv('athletes-men.csv')\n",
    "athletes = pd.read_csv('athletes-all.csv')\n",
    "\n",
    "# athletes who made it into the games\n",
    "games_all = pd.concat([games_women, games_men])\n",
    "games_women = games_women.drop(columns = ['rank', 'latitude', 'longitude', 'name', 'region'])\n",
    "games_men = games_men.drop(columns = ['rank', 'latitude', 'longitude', 'name', 'region'])"
   ]
  },
  {
   "cell_type": "code",
   "execution_count": 105,
   "id": "d7d2230f",
   "metadata": {},
   "outputs": [],
   "source": [
    "df = athletes.merge(games_all.drop_duplicates(), on=['athlete_id'],\n",
    "                   how='left', indicator=True)"
   ]
  },
  {
   "cell_type": "code",
   "execution_count": 106,
   "id": "e4cb33da",
   "metadata": {},
   "outputs": [],
   "source": [
    "# taking only the columns we want\n",
    "df_all = df[['athlete_id', 'age_x', 'gender', 'height_x', 'weight_x', 'fran_x', 'run5k_x', 'pullups_x', '_merge', 'train', 'experience', 'schedule', 'howlong_x', 'run400_x', 'candj_x', 'snatch_x', 'deadlift_x', 'backsq_x']]\n",
    "df_all = df_all.dropna()\n",
    "\n",
    "df_all_women = df_all.loc[df_all['gender'] == 'Female']"
   ]
  },
  {
   "cell_type": "code",
   "execution_count": 107,
   "id": "43ee84c1",
   "metadata": {},
   "outputs": [
    {
     "name": "stderr",
     "output_type": "stream",
     "text": [
      "/var/folders/1_/slt2s8nn5cxcjxnzwzm7bn2m0000gn/T/ipykernel_1170/1739751025.py:4: SettingWithCopyWarning: \n",
      "A value is trying to be set on a copy of a slice from a DataFrame.\n",
      "Try using .loc[row_indexer,col_indexer] = value instead\n",
      "\n",
      "See the caveats in the documentation: https://pandas.pydata.org/pandas-docs/stable/user_guide/indexing.html#returning-a-view-versus-a-copy\n",
      "  not_make['howlong_x'] = not_make['howlong_x'].str.slice(0, 6)\n",
      "/var/folders/1_/slt2s8nn5cxcjxnzwzm7bn2m0000gn/T/ipykernel_1170/1739751025.py:10: SettingWithCopyWarning: \n",
      "A value is trying to be set on a copy of a slice from a DataFrame.\n",
      "Try using .loc[row_indexer,col_indexer] = value instead\n",
      "\n",
      "See the caveats in the documentation: https://pandas.pydata.org/pandas-docs/stable/user_guide/indexing.html#returning-a-view-versus-a-copy\n",
      "  not_make[\"howlong\"] = np.select(conditions, choices)\n",
      "/var/folders/1_/slt2s8nn5cxcjxnzwzm7bn2m0000gn/T/ipykernel_1170/1739751025.py:12: SettingWithCopyWarning: \n",
      "A value is trying to be set on a copy of a slice from a DataFrame.\n",
      "Try using .loc[row_indexer,col_indexer] = value instead\n",
      "\n",
      "See the caveats in the documentation: https://pandas.pydata.org/pandas-docs/stable/user_guide/indexing.html#returning-a-view-versus-a-copy\n",
      "  not_make['coach'] = np.where(not_make['train'].str.contains(\"have a coach\"), 1, 0)\n",
      "/var/folders/1_/slt2s8nn5cxcjxnzwzm7bn2m0000gn/T/ipykernel_1170/1739751025.py:13: SettingWithCopyWarning: \n",
      "A value is trying to be set on a copy of a slice from a DataFrame.\n",
      "Try using .loc[row_indexer,col_indexer] = value instead\n",
      "\n",
      "See the caveats in the documentation: https://pandas.pydata.org/pandas-docs/stable/user_guide/indexing.html#returning-a-view-versus-a-copy\n",
      "  not_make['certification'] = np.where(not_make['experience'].str.contains(\"Level 1\"), 1, 0)\n",
      "/var/folders/1_/slt2s8nn5cxcjxnzwzm7bn2m0000gn/T/ipykernel_1170/1739751025.py:14: SettingWithCopyWarning: \n",
      "A value is trying to be set on a copy of a slice from a DataFrame.\n",
      "Try using .loc[row_indexer,col_indexer] = value instead\n",
      "\n",
      "See the caveats in the documentation: https://pandas.pydata.org/pandas-docs/stable/user_guide/indexing.html#returning-a-view-versus-a-copy\n",
      "  not_make['multiple'] = np.where(not_make['schedule'].str.contains(\"multiple workouts\"), 1, 0)\n"
     ]
    }
   ],
   "source": [
    "# ones who have not made it who have stats filled out, temp while cleaning up\n",
    "def make_columns_numeric(df):    \n",
    "    not_make = df.loc[df['_merge'] == 'left_only']\n",
    "    not_make['howlong_x'] = not_make['howlong_x'].str.slice(0, 6)\n",
    "\n",
    "    col         = 'howlong_x'\n",
    "    conditions  = [ not_make[col].str.contains(\"Less\"), not_make[col].str.contains(\"6-12\"), not_make[col].str.contains(\"1-2\"), not_make[col].str.contains(\"2-4\"), not_make[col].str.contains(\"4+\") ]\n",
    "    choices     = [0,1,2,3,4]\n",
    "\n",
    "    not_make[\"howlong\"] = np.select(conditions, choices)\n",
    "\n",
    "    not_make['coach'] = np.where(not_make['train'].str.contains(\"have a coach\"), 1, 0)\n",
    "    not_make['certification'] = np.where(not_make['experience'].str.contains(\"Level 1\"), 1, 0)\n",
    "    not_make['multiple'] = np.where(not_make['schedule'].str.contains(\"multiple workouts\"), 1, 0)\n",
    "\n",
    "    return not_make\n",
    "\n",
    "not_make_women = make_columns_numeric(df_all_women)\n"
   ]
  },
  {
   "cell_type": "code",
   "execution_count": 108,
   "id": "cf31d035",
   "metadata": {},
   "outputs": [
    {
     "name": "stderr",
     "output_type": "stream",
     "text": [
      "/Applications/anaconda3/lib/python3.9/site-packages/pandas/core/frame.py:5039: SettingWithCopyWarning: \n",
      "A value is trying to be set on a copy of a slice from a DataFrame\n",
      "\n",
      "See the caveats in the documentation: https://pandas.pydata.org/pandas-docs/stable/user_guide/indexing.html#returning-a-view-versus-a-copy\n",
      "  return super().rename(\n"
     ]
    }
   ],
   "source": [
    "#not_in_games will contain all athletes that did not make it, with stats, with cleaned up columns\n",
    "not_in_games_women = not_make_women[['athlete_id', 'age_x', 'height_x', 'weight_x', 'fran_x', 'run5k_x', 'pullups_x', 'run400_x', 'candj_x', 'snatch_x', 'deadlift_x', 'backsq_x','howlong','coach','certification','multiple']]\n",
    "not_in_games_women.rename(columns={\"age_x\": \"age\",'height_x': 'height', 'weight_x':'weight', 'fran_x':'fran', 'run5k_x':'run5k','pullups_x':'pullups', 'run400_x':'run400', 'candj_x':'candj', 'snatch_x':'snatch', 'deadlift_x':'deadlift', 'backsq_x':'backsq'}, inplace = True)"
   ]
  },
  {
   "cell_type": "code",
   "execution_count": 137,
   "id": "1016435f",
   "metadata": {},
   "outputs": [
    {
     "data": {
      "text/html": [
       "<div>\n",
       "<style scoped>\n",
       "    .dataframe tbody tr th:only-of-type {\n",
       "        vertical-align: middle;\n",
       "    }\n",
       "\n",
       "    .dataframe tbody tr th {\n",
       "        vertical-align: top;\n",
       "    }\n",
       "\n",
       "    .dataframe thead th {\n",
       "        text-align: right;\n",
       "    }\n",
       "</style>\n",
       "<table border=\"1\" class=\"dataframe\">\n",
       "  <thead>\n",
       "    <tr style=\"text-align: right;\">\n",
       "      <th></th>\n",
       "      <th>athlete_id</th>\n",
       "      <th>age</th>\n",
       "      <th>height</th>\n",
       "      <th>weight</th>\n",
       "      <th>fran</th>\n",
       "      <th>run5k</th>\n",
       "      <th>pullups</th>\n",
       "      <th>run400</th>\n",
       "      <th>candj</th>\n",
       "      <th>snatch</th>\n",
       "      <th>deadlift</th>\n",
       "      <th>backsq</th>\n",
       "      <th>howlong</th>\n",
       "      <th>coach</th>\n",
       "      <th>certification</th>\n",
       "      <th>multiple</th>\n",
       "    </tr>\n",
       "  </thead>\n",
       "  <tbody>\n",
       "    <tr>\n",
       "      <th>min</th>\n",
       "      <td>1659.0</td>\n",
       "      <td>18.0</td>\n",
       "      <td>58.0</td>\n",
       "      <td>100.0</td>\n",
       "      <td>125.0</td>\n",
       "      <td>945.0</td>\n",
       "      <td>0.0</td>\n",
       "      <td>51.0</td>\n",
       "      <td>0.0</td>\n",
       "      <td>0.0</td>\n",
       "      <td>0.0</td>\n",
       "      <td>0.0</td>\n",
       "      <td>0</td>\n",
       "      <td>0</td>\n",
       "      <td>0</td>\n",
       "      <td>0</td>\n",
       "    </tr>\n",
       "    <tr>\n",
       "      <th>max</th>\n",
       "      <td>591544.0</td>\n",
       "      <td>55.0</td>\n",
       "      <td>74.0</td>\n",
       "      <td>235.0</td>\n",
       "      <td>600.0</td>\n",
       "      <td>2565.0</td>\n",
       "      <td>100.0</td>\n",
       "      <td>170.0</td>\n",
       "      <td>355.0</td>\n",
       "      <td>285.0</td>\n",
       "      <td>606.0</td>\n",
       "      <td>551.0</td>\n",
       "      <td>4</td>\n",
       "      <td>1</td>\n",
       "      <td>1</td>\n",
       "      <td>1</td>\n",
       "    </tr>\n",
       "  </tbody>\n",
       "</table>\n",
       "</div>"
      ],
      "text/plain": [
       "     athlete_id   age  height  weight   fran   run5k  pullups  run400  candj  \\\n",
       "min      1659.0  18.0    58.0   100.0  125.0   945.0      0.0    51.0    0.0   \n",
       "max    591544.0  55.0    74.0   235.0  600.0  2565.0    100.0   170.0  355.0   \n",
       "\n",
       "     snatch  deadlift  backsq  howlong  coach  certification  multiple  \n",
       "min     0.0       0.0     0.0        0      0              0         0  \n",
       "max   285.0     606.0   551.0        4      1              1         1  "
      ]
     },
     "execution_count": 137,
     "metadata": {},
     "output_type": "execute_result"
    }
   ],
   "source": [
    "#Min and Max of women\n",
    "not_in_games_women2 = not_in_games_women.loc[(not_in_games_women[\"age\"] >= 18) & (not_in_games_women[\"height\"] <= 108) & (not_in_games_women[\"height\"] >= 50) & (not_in_games_women[\"weight\"] <= 1400) & (not_in_games_women[\"weight\"] >= 100) &(not_in_games_women[\"fran\"] <= 600) & (not_in_games_women[\"fran\"] >= 113) & (not_in_games_women[\"run400\"] <= 180) & (not_in_games_women[\"run5k\"] >= 769)]\n",
    "not_in_games_women2.agg([min, max])\n",
    "\n"
   ]
  },
  {
   "cell_type": "code",
   "execution_count": 110,
   "id": "9a1af4ca",
   "metadata": {},
   "outputs": [
    {
     "name": "stderr",
     "output_type": "stream",
     "text": [
      "/var/folders/1_/slt2s8nn5cxcjxnzwzm7bn2m0000gn/T/ipykernel_1170/2858586611.py:2: SettingWithCopyWarning: \n",
      "A value is trying to be set on a copy of a slice from a DataFrame.\n",
      "Try using .loc[row_indexer,col_indexer] = value instead\n",
      "\n",
      "See the caveats in the documentation: https://pandas.pydata.org/pandas-docs/stable/user_guide/indexing.html#returning-a-view-versus-a-copy\n",
      "  not_in_games_women2['in_games'] = 0\n"
     ]
    }
   ],
   "source": [
    "games_women['in_games'] = 1\n",
    "not_in_games_women2['in_games'] = 0"
   ]
  },
  {
   "cell_type": "code",
   "execution_count": 111,
   "id": "bbf1ecb8",
   "metadata": {},
   "outputs": [],
   "source": [
    "df_women = not_in_games_women2.append(games_women)\n",
    "\n",
    "# Drop ID column\n",
    "df_women = df_women.drop(['athlete_id'],axis=1)"
   ]
  },
  {
   "cell_type": "markdown",
   "id": "c0463449",
   "metadata": {},
   "source": [
    "# Histograms"
   ]
  },
  {
   "cell_type": "code",
   "execution_count": 112,
   "id": "50195a0a",
   "metadata": {},
   "outputs": [
    {
     "data": {
      "text/html": [
       "<div>\n",
       "<style scoped>\n",
       "    .dataframe tbody tr th:only-of-type {\n",
       "        vertical-align: middle;\n",
       "    }\n",
       "\n",
       "    .dataframe tbody tr th {\n",
       "        vertical-align: top;\n",
       "    }\n",
       "\n",
       "    .dataframe thead th {\n",
       "        text-align: right;\n",
       "    }\n",
       "</style>\n",
       "<table border=\"1\" class=\"dataframe\">\n",
       "  <thead>\n",
       "    <tr style=\"text-align: right;\">\n",
       "      <th></th>\n",
       "      <th>age</th>\n",
       "      <th>height</th>\n",
       "      <th>weight</th>\n",
       "      <th>fran</th>\n",
       "      <th>run5k</th>\n",
       "      <th>pullups</th>\n",
       "      <th>run400</th>\n",
       "      <th>candj</th>\n",
       "      <th>snatch</th>\n",
       "      <th>deadlift</th>\n",
       "      <th>backsq</th>\n",
       "      <th>howlong</th>\n",
       "      <th>coach</th>\n",
       "      <th>certification</th>\n",
       "      <th>multiple</th>\n",
       "    </tr>\n",
       "    <tr>\n",
       "      <th>in_games</th>\n",
       "      <th></th>\n",
       "      <th></th>\n",
       "      <th></th>\n",
       "      <th></th>\n",
       "      <th></th>\n",
       "      <th></th>\n",
       "      <th></th>\n",
       "      <th></th>\n",
       "      <th></th>\n",
       "      <th></th>\n",
       "      <th></th>\n",
       "      <th></th>\n",
       "      <th></th>\n",
       "      <th></th>\n",
       "      <th></th>\n",
       "    </tr>\n",
       "  </thead>\n",
       "  <tbody>\n",
       "    <tr>\n",
       "      <th>0</th>\n",
       "      <td>33.346983</td>\n",
       "      <td>64.952586</td>\n",
       "      <td>140.596983</td>\n",
       "      <td>325.889009</td>\n",
       "      <td>1488.015086</td>\n",
       "      <td>23.753233</td>\n",
       "      <td>83.140086</td>\n",
       "      <td>151.575431</td>\n",
       "      <td>114.686422</td>\n",
       "      <td>268.995690</td>\n",
       "      <td>213.733836</td>\n",
       "      <td>2.943966</td>\n",
       "      <td>0.436422</td>\n",
       "      <td>0.517241</td>\n",
       "      <td>0.491379</td>\n",
       "    </tr>\n",
       "    <tr>\n",
       "      <th>1</th>\n",
       "      <td>36.616071</td>\n",
       "      <td>64.821429</td>\n",
       "      <td>140.312500</td>\n",
       "      <td>199.950893</td>\n",
       "      <td>1322.553571</td>\n",
       "      <td>43.200893</td>\n",
       "      <td>76.504464</td>\n",
       "      <td>190.852679</td>\n",
       "      <td>150.482143</td>\n",
       "      <td>315.214286</td>\n",
       "      <td>260.504464</td>\n",
       "      <td>2.982143</td>\n",
       "      <td>0.633929</td>\n",
       "      <td>0.589286</td>\n",
       "      <td>0.665179</td>\n",
       "    </tr>\n",
       "  </tbody>\n",
       "</table>\n",
       "</div>"
      ],
      "text/plain": [
       "                age     height      weight        fran        run5k  \\\n",
       "in_games                                                              \n",
       "0         33.346983  64.952586  140.596983  325.889009  1488.015086   \n",
       "1         36.616071  64.821429  140.312500  199.950893  1322.553571   \n",
       "\n",
       "            pullups     run400       candj      snatch    deadlift  \\\n",
       "in_games                                                             \n",
       "0         23.753233  83.140086  151.575431  114.686422  268.995690   \n",
       "1         43.200893  76.504464  190.852679  150.482143  315.214286   \n",
       "\n",
       "              backsq   howlong     coach  certification  multiple  \n",
       "in_games                                                           \n",
       "0         213.733836  2.943966  0.436422       0.517241  0.491379  \n",
       "1         260.504464  2.982143  0.633929       0.589286  0.665179  "
      ]
     },
     "execution_count": 112,
     "metadata": {},
     "output_type": "execute_result"
    }
   ],
   "source": [
    "df_women.groupby('in_games').mean()"
   ]
  },
  {
   "cell_type": "code",
   "execution_count": 113,
   "id": "98586039",
   "metadata": {},
   "outputs": [],
   "source": [
    "#Separating in and not in games\n",
    "df_women_ingames = df_women.loc[df_women['in_games'] == 1]\n",
    "df_women_nogames = df_women.loc[df_women['in_games'] == 0]"
   ]
  },
  {
   "cell_type": "markdown",
   "id": "a3684a83",
   "metadata": {},
   "source": [
    "### Age"
   ]
  },
  {
   "cell_type": "code",
   "execution_count": 114,
   "id": "9b83d4cc",
   "metadata": {},
   "outputs": [
    {
     "data": {
      "text/plain": [
       "Text(0.5, 1.0, 'Overlapping plots')"
      ]
     },
     "execution_count": 114,
     "metadata": {},
     "output_type": "execute_result"
    },
    {
     "data": {
      "image/png": "[encoded data removed]",
      "text/plain": [
       "<Figure size 1080x360 with 3 Axes>"
      ]
     },
     "metadata": {
      "needs_background": "light"
     },
     "output_type": "display_data"
    }
   ],
   "source": [
    "fig, axes = plt.subplots(1, 3, figsize=(15, 5))\n",
    "fig.suptitle('Age of Women in CrossFit')\n",
    "\n",
    "# In games\n",
    "sns.histplot(ax=axes[0],data=df_women_ingames, x=\"age\", color=\"orange\")\n",
    "axes[0].set_title(\"Made it to the games\")\n",
    "\n",
    "# Not\n",
    "sns.histplot(ax=axes[1],data=df_women_nogames, x=\"age\", alpha=0.3)\n",
    "axes[1].set_title(\"Did not make it to the games\")\n",
    "\n",
    "#Overlay\n",
    "sns.histplot(ax=axes[2],data=df_women_ingames, x=\"age\", color=\"orange\")\n",
    "sns.histplot(ax=axes[2],data=df_women_nogames, x=\"age\", alpha=0.3)\n",
    "axes[2].set_title(\"Overlapping plots\")"
   ]
  },
  {
   "cell_type": "markdown",
   "id": "a1974af4",
   "metadata": {},
   "source": [
    "### Weight"
   ]
  },
  {
   "cell_type": "code",
   "execution_count": 115,
   "id": "9ddd4131",
   "metadata": {},
   "outputs": [
    {
     "data": {
      "text/plain": [
       "Text(0.5, 1.0, 'Overlapping plots')"
      ]
     },
     "execution_count": 115,
     "metadata": {},
     "output_type": "execute_result"
    },
    {
     "data": {
      "image/png": "[encoded data removed]",
      "text/plain": [
       "<Figure size 1080x360 with 3 Axes>"
      ]
     },
     "metadata": {
      "needs_background": "light"
     },
     "output_type": "display_data"
    }
   ],
   "source": [
    "fig, axes = plt.subplots(1, 3, figsize=(15, 5))\n",
    "fig.suptitle('Weight of Women in CrossFit')\n",
    "\n",
    "# In games\n",
    "sns.histplot(ax=axes[0],data=df_women_ingames, x=\"weight\", color=\"orange\")\n",
    "axes[0].set_title(\"Made it to the games\")\n",
    "\n",
    "# Not\n",
    "sns.histplot(ax=axes[1],data=df_women_nogames, x=\"weight\", alpha=0.3)\n",
    "axes[1].set_title(\"Did not make it to the games\")\n",
    "\n",
    "#Overlay\n",
    "sns.histplot(ax=axes[2],data=df_women_ingames, x=\"weight\", color=\"orange\")\n",
    "sns.histplot(ax=axes[2],data=df_women_nogames, x=\"weight\", alpha=0.3)\n",
    "axes[2].set_title(\"Overlapping plots\")"
   ]
  },
  {
   "cell_type": "markdown",
   "id": "4ea9c721",
   "metadata": {},
   "source": [
    "### Height"
   ]
  },
  {
   "cell_type": "code",
   "execution_count": 116,
   "id": "22d0d9ac",
   "metadata": {},
   "outputs": [
    {
     "data": {
      "text/plain": [
       "Text(0.5, 1.0, 'Overlapping plots')"
      ]
     },
     "execution_count": 116,
     "metadata": {},
     "output_type": "execute_result"
    },
    {
     "data": {
      "image/png": "[encoded data removed]",
      "text/plain": [
       "<Figure size 1080x360 with 3 Axes>"
      ]
     },
     "metadata": {
      "needs_background": "light"
     },
     "output_type": "display_data"
    }
   ],
   "source": [
    "fig, axes = plt.subplots(1, 3, figsize=(15, 5))\n",
    "fig.suptitle('Height of Women in CrossFit')\n",
    "\n",
    "# In games\n",
    "sns.histplot(ax=axes[0],data=df_women_ingames, x=\"height\", color=\"orange\")\n",
    "axes[0].set_title(\"Made it to the games\")\n",
    "\n",
    "# Not\n",
    "sns.histplot(ax=axes[1],data=df_women_nogames, x=\"height\", alpha=0.3)\n",
    "axes[1].set_title(\"Did not make it to the games\")\n",
    "\n",
    "#Overlay\n",
    "sns.histplot(ax=axes[2],data=df_women_ingames, x=\"height\", color=\"orange\")\n",
    "sns.histplot(ax=axes[2],data=df_women_nogames, x=\"height\", alpha=0.3)\n",
    "axes[2].set_title(\"Overlapping plots\")"
   ]
  },
  {
   "cell_type": "markdown",
   "id": "b5737409",
   "metadata": {},
   "source": [
    "### Run5k"
   ]
  },
  {
   "cell_type": "code",
   "execution_count": 117,
   "id": "141d6ce0",
   "metadata": {},
   "outputs": [
    {
     "data": {
      "text/plain": [
       "Text(0.5, 1.0, 'Overlapping plots')"
      ]
     },
     "execution_count": 117,
     "metadata": {},
     "output_type": "execute_result"
    },
    {
     "data": {
      "image/png": "[encoded data removed]",
      "text/plain": [
       "<Figure size 1080x360 with 3 Axes>"
      ]
     },
     "metadata": {
      "needs_background": "light"
     },
     "output_type": "display_data"
    }
   ],
   "source": [
    "fig, axes = plt.subplots(1, 3, figsize=(15, 5))\n",
    "fig.suptitle('5k Run Times of Women in CrossFit')\n",
    "\n",
    "# In games\n",
    "sns.histplot(ax=axes[0],data=df_women_ingames, x=\"run5k\", color=\"orange\")\n",
    "axes[0].set_title(\"Made it to the games\")\n",
    "\n",
    "# Not\n",
    "sns.histplot(ax=axes[1],data=df_women_nogames, x=\"run5k\", alpha=0.3)\n",
    "axes[1].set_title(\"Did not make it to the games\")\n",
    "\n",
    "#Overlay\n",
    "sns.histplot(ax=axes[2],data=df_women_ingames, x=\"run5k\", color=\"orange\")\n",
    "sns.histplot(ax=axes[2],data=df_women_nogames, x=\"run5k\", alpha=0.3)\n",
    "axes[2].set_title(\"Overlapping plots\")"
   ]
  },
  {
   "cell_type": "markdown",
   "id": "0cf635d5",
   "metadata": {},
   "source": [
    "### Run400"
   ]
  },
  {
   "cell_type": "code",
   "execution_count": 118,
   "id": "844c1ddb",
   "metadata": {},
   "outputs": [
    {
     "data": {
      "text/plain": [
       "Text(0.5, 1.0, 'Overlapping plots')"
      ]
     },
     "execution_count": 118,
     "metadata": {},
     "output_type": "execute_result"
    },
    {
     "data": {
      "image/png": "[encoded data removed]",
      "text/plain": [
       "<Figure size 1080x360 with 3 Axes>"
      ]
     },
     "metadata": {
      "needs_background": "light"
     },
     "output_type": "display_data"
    }
   ],
   "source": [
    "fig, axes = plt.subplots(1, 3, figsize=(15, 5))\n",
    "fig.suptitle('400m Run Times of Women in CrossFit')\n",
    "\n",
    "# In games\n",
    "sns.histplot(ax=axes[0],data=df_women_ingames, x=\"run400\", color=\"orange\")\n",
    "axes[0].set_title(\"Made it to the games\")\n",
    "\n",
    "# Not\n",
    "sns.histplot(ax=axes[1],data=df_women_nogames, x=\"run400\", alpha=0.3)\n",
    "axes[1].set_title(\"Did not make it to the games\")\n",
    "\n",
    "#Overlay\n",
    "sns.histplot(ax=axes[2],data=df_women_ingames, x=\"run400\", color=\"orange\")\n",
    "sns.histplot(ax=axes[2],data=df_women_nogames, x=\"run400\", alpha=0.3)\n",
    "axes[2].set_title(\"Overlapping plots\")"
   ]
  },
  {
   "cell_type": "markdown",
   "id": "687575a8",
   "metadata": {},
   "source": [
    "### Clean and Jerk (candj)"
   ]
  },
  {
   "cell_type": "code",
   "execution_count": 119,
   "id": "c390dc89",
   "metadata": {},
   "outputs": [
    {
     "data": {
      "text/plain": [
       "Text(0.5, 1.0, 'Overlapping plots')"
      ]
     },
     "execution_count": 119,
     "metadata": {},
     "output_type": "execute_result"
    },
    {
     "data": {
      "image/png": "[encoded data removed]",
      "text/plain": [
       "<Figure size 1080x360 with 3 Axes>"
      ]
     },
     "metadata": {
      "needs_background": "light"
     },
     "output_type": "display_data"
    }
   ],
   "source": [
    "fig, axes = plt.subplots(1, 3, figsize=(15, 5))\n",
    "fig.suptitle('Clean and Jerk Weights of Women in CrossFit')\n",
    "\n",
    "# In games\n",
    "sns.histplot(ax=axes[0],data=df_women_ingames, x=\"candj\", color=\"orange\")\n",
    "axes[0].set_title(\"Made it to the games\")\n",
    "\n",
    "# Not\n",
    "sns.histplot(ax=axes[1],data=df_women_nogames, x=\"candj\", alpha=0.3)\n",
    "axes[1].set_title(\"Did not make it to the games\")\n",
    "\n",
    "#Overlay\n",
    "sns.histplot(ax=axes[2],data=df_women_ingames, x=\"candj\", color=\"orange\")\n",
    "sns.histplot(ax=axes[2],data=df_women_nogames, x=\"candj\", alpha=0.3)\n",
    "axes[2].set_title(\"Overlapping plots\")"
   ]
  },
  {
   "cell_type": "markdown",
   "id": "fb1c9017",
   "metadata": {},
   "source": [
    "### Snatch"
   ]
  },
  {
   "cell_type": "code",
   "execution_count": 120,
   "id": "e64ba83c",
   "metadata": {},
   "outputs": [
    {
     "data": {
      "text/plain": [
       "Text(0.5, 1.0, 'Overlapping plots')"
      ]
     },
     "execution_count": 120,
     "metadata": {},
     "output_type": "execute_result"
    },
    {
     "data": {
      "image/png": "[encoded data removed]",
      "text/plain": [
       "<Figure size 1080x360 with 3 Axes>"
      ]
     },
     "metadata": {
      "needs_background": "light"
     },
     "output_type": "display_data"
    }
   ],
   "source": [
    "fig, axes = plt.subplots(1, 3, figsize=(15, 5))\n",
    "fig.suptitle('Snatch Weights of Women in CrossFit')\n",
    "\n",
    "# In games\n",
    "sns.histplot(ax=axes[0],data=df_women_ingames, x=\"snatch\", color=\"orange\")\n",
    "axes[0].set_title(\"Made it to the games\")\n",
    "\n",
    "# Not\n",
    "sns.histplot(ax=axes[1],data=df_women_nogames, x=\"snatch\", alpha=0.3)\n",
    "axes[1].set_title(\"Did not make it to the games\")\n",
    "\n",
    "#Overlay\n",
    "sns.histplot(ax=axes[2],data=df_women_ingames, x=\"snatch\", color=\"orange\")\n",
    "sns.histplot(ax=axes[2],data=df_women_nogames, x=\"snatch\", alpha=0.3)\n",
    "axes[2].set_title(\"Overlapping plots\")"
   ]
  },
  {
   "cell_type": "markdown",
   "id": "dd5ba34a",
   "metadata": {},
   "source": [
    "### Back Squat (backsq)"
   ]
  },
  {
   "cell_type": "code",
   "execution_count": 121,
   "id": "a36b5a5e",
   "metadata": {},
   "outputs": [
    {
     "data": {
      "text/plain": [
       "Text(0.5, 1.0, 'Overlapping plots')"
      ]
     },
     "execution_count": 121,
     "metadata": {},
     "output_type": "execute_result"
    },
    {
     "data": {
      "image/png": "[encoded data removed]",
      "text/plain": [
       "<Figure size 1080x360 with 3 Axes>"
      ]
     },
     "metadata": {
      "needs_background": "light"
     },
     "output_type": "display_data"
    }
   ],
   "source": [
    "fig, axes = plt.subplots(1, 3, figsize=(15, 5))\n",
    "fig.suptitle('Back Squat Weights of Women in CrossFit')\n",
    "\n",
    "# In games\n",
    "sns.histplot(ax=axes[0],data=df_women_ingames, x=\"backsq\", color=\"orange\")\n",
    "axes[0].set_title(\"Made it to the games\")\n",
    "\n",
    "# Not\n",
    "sns.histplot(ax=axes[1],data=df_women_nogames, x=\"backsq\", alpha=0.3)\n",
    "axes[1].set_title(\"Did not make it to the games\")\n",
    "\n",
    "#Overlay\n",
    "sns.histplot(ax=axes[2],data=df_women_ingames, x=\"backsq\", color=\"orange\")\n",
    "sns.histplot(ax=axes[2],data=df_women_nogames, x=\"backsq\", alpha=0.3)\n",
    "axes[2].set_title(\"Overlapping plots\")"
   ]
  },
  {
   "cell_type": "markdown",
   "id": "880d962b",
   "metadata": {},
   "source": [
    "### Deadlift"
   ]
  },
  {
   "cell_type": "code",
   "execution_count": 122,
   "id": "bc1c5a8a",
   "metadata": {},
   "outputs": [
    {
     "data": {
      "text/plain": [
       "Text(0.5, 1.0, 'Overlapping plots')"
      ]
     },
     "execution_count": 122,
     "metadata": {},
     "output_type": "execute_result"
    },
    {
     "data": {
      "image/png": "[encoded data removed]",
      "text/plain": [
       "<Figure size 1080x360 with 3 Axes>"
      ]
     },
     "metadata": {
      "needs_background": "light"
     },
     "output_type": "display_data"
    }
   ],
   "source": [
    "fig, axes = plt.subplots(1, 3, figsize=(15, 5))\n",
    "fig.suptitle('Deadlift Weights of Women in CrossFit')\n",
    "\n",
    "# In games\n",
    "sns.histplot(ax=axes[0],data=df_women_ingames, x=\"deadlift\", color=\"orange\")\n",
    "axes[0].set_title(\"Made it to the games\")\n",
    "\n",
    "# Not\n",
    "sns.histplot(ax=axes[1],data=df_women_nogames, x=\"deadlift\", alpha=0.3)\n",
    "axes[1].set_title(\"Did not make it to the games\")\n",
    "\n",
    "#Overlay\n",
    "sns.histplot(ax=axes[2],data=df_women_ingames, x=\"deadlift\", color=\"orange\")\n",
    "sns.histplot(ax=axes[2],data=df_women_nogames, x=\"deadlift\", alpha=0.3)\n",
    "axes[2].set_title(\"Overlapping plots\")"
   ]
  },
  {
   "cell_type": "markdown",
   "id": "b23f0864",
   "metadata": {},
   "source": [
    "### Pullups"
   ]
  },
  {
   "cell_type": "code",
   "execution_count": 123,
   "id": "c87e7556",
   "metadata": {},
   "outputs": [
    {
     "data": {
      "text/plain": [
       "Text(0.5, 1.0, 'Overlapping plots')"
      ]
     },
     "execution_count": 123,
     "metadata": {},
     "output_type": "execute_result"
    },
    {
     "data": {
      "image/png": "[encoded data removed]",
      "text/plain": [
       "<Figure size 1080x360 with 3 Axes>"
      ]
     },
     "metadata": {
      "needs_background": "light"
     },
     "output_type": "display_data"
    }
   ],
   "source": [
    "fig, axes = plt.subplots(1, 3, figsize=(15, 5))\n",
    "fig.suptitle('Number of Pullups of Women in CrossFit')\n",
    "\n",
    "# In games\n",
    "sns.histplot(ax=axes[0],data=df_women_ingames, x=\"pullups\", color=\"orange\")\n",
    "axes[0].set_title(\"Made it to the games\")\n",
    "\n",
    "# Not\n",
    "sns.histplot(ax=axes[1],data=df_women_nogames, x=\"pullups\", alpha=0.3)\n",
    "axes[1].set_title(\"Did not make it to the games\")\n",
    "\n",
    "#Overlay\n",
    "sns.histplot(ax=axes[2],data=df_women_ingames, x=\"pullups\", color=\"orange\")\n",
    "sns.histplot(ax=axes[2],data=df_women_nogames, x=\"pullups\", alpha=0.3)\n",
    "axes[2].set_title(\"Overlapping plots\")"
   ]
  },
  {
   "cell_type": "markdown",
   "id": "780a71c3",
   "metadata": {},
   "source": [
    "## Clean up Categorical"
   ]
  },
  {
   "cell_type": "code",
   "execution_count": 124,
   "id": "03d255f4",
   "metadata": {},
   "outputs": [
    {
     "data": {
      "text/html": [
       "<div>\n",
       "<style scoped>\n",
       "    .dataframe tbody tr th:only-of-type {\n",
       "        vertical-align: middle;\n",
       "    }\n",
       "\n",
       "    .dataframe tbody tr th {\n",
       "        vertical-align: top;\n",
       "    }\n",
       "\n",
       "    .dataframe thead th {\n",
       "        text-align: right;\n",
       "    }\n",
       "</style>\n",
       "<table border=\"1\" class=\"dataframe\">\n",
       "  <thead>\n",
       "    <tr style=\"text-align: right;\">\n",
       "      <th></th>\n",
       "      <th>0</th>\n",
       "      <th>1</th>\n",
       "      <th>2</th>\n",
       "      <th>3</th>\n",
       "      <th>4</th>\n",
       "    </tr>\n",
       "  </thead>\n",
       "  <tbody>\n",
       "    <tr>\n",
       "      <th>64482</th>\n",
       "      <td>0</td>\n",
       "      <td>0</td>\n",
       "      <td>0</td>\n",
       "      <td>1</td>\n",
       "      <td>0</td>\n",
       "    </tr>\n",
       "    <tr>\n",
       "      <th>97672</th>\n",
       "      <td>0</td>\n",
       "      <td>0</td>\n",
       "      <td>1</td>\n",
       "      <td>0</td>\n",
       "      <td>0</td>\n",
       "    </tr>\n",
       "    <tr>\n",
       "      <th>144480</th>\n",
       "      <td>0</td>\n",
       "      <td>0</td>\n",
       "      <td>1</td>\n",
       "      <td>0</td>\n",
       "      <td>0</td>\n",
       "    </tr>\n",
       "    <tr>\n",
       "      <th>159571</th>\n",
       "      <td>0</td>\n",
       "      <td>0</td>\n",
       "      <td>0</td>\n",
       "      <td>0</td>\n",
       "      <td>1</td>\n",
       "    </tr>\n",
       "    <tr>\n",
       "      <th>159574</th>\n",
       "      <td>0</td>\n",
       "      <td>0</td>\n",
       "      <td>0</td>\n",
       "      <td>0</td>\n",
       "      <td>1</td>\n",
       "    </tr>\n",
       "    <tr>\n",
       "      <th>...</th>\n",
       "      <td>...</td>\n",
       "      <td>...</td>\n",
       "      <td>...</td>\n",
       "      <td>...</td>\n",
       "      <td>...</td>\n",
       "    </tr>\n",
       "    <tr>\n",
       "      <th>219</th>\n",
       "      <td>0</td>\n",
       "      <td>0</td>\n",
       "      <td>0</td>\n",
       "      <td>0</td>\n",
       "      <td>1</td>\n",
       "    </tr>\n",
       "    <tr>\n",
       "      <th>220</th>\n",
       "      <td>0</td>\n",
       "      <td>0</td>\n",
       "      <td>1</td>\n",
       "      <td>0</td>\n",
       "      <td>0</td>\n",
       "    </tr>\n",
       "    <tr>\n",
       "      <th>221</th>\n",
       "      <td>0</td>\n",
       "      <td>1</td>\n",
       "      <td>0</td>\n",
       "      <td>0</td>\n",
       "      <td>0</td>\n",
       "    </tr>\n",
       "    <tr>\n",
       "      <th>222</th>\n",
       "      <td>0</td>\n",
       "      <td>0</td>\n",
       "      <td>0</td>\n",
       "      <td>1</td>\n",
       "      <td>0</td>\n",
       "    </tr>\n",
       "    <tr>\n",
       "      <th>223</th>\n",
       "      <td>0</td>\n",
       "      <td>0</td>\n",
       "      <td>0</td>\n",
       "      <td>1</td>\n",
       "      <td>0</td>\n",
       "    </tr>\n",
       "  </tbody>\n",
       "</table>\n",
       "<p>1152 rows × 5 columns</p>\n",
       "</div>"
      ],
      "text/plain": [
       "        0  1  2  3  4\n",
       "64482   0  0  0  1  0\n",
       "97672   0  0  1  0  0\n",
       "144480  0  0  1  0  0\n",
       "159571  0  0  0  0  1\n",
       "159574  0  0  0  0  1\n",
       "...    .. .. .. .. ..\n",
       "219     0  0  0  0  1\n",
       "220     0  0  1  0  0\n",
       "221     0  1  0  0  0\n",
       "222     0  0  0  1  0\n",
       "223     0  0  0  1  0\n",
       "\n",
       "[1152 rows x 5 columns]"
      ]
     },
     "execution_count": 124,
     "metadata": {},
     "output_type": "execute_result"
    }
   ],
   "source": [
    "# Create Dataframes for Categorical Variables\n",
    "howlong_women_dummies = pd.get_dummies(df_women['howlong']) # women athletes\n",
    "\n",
    "howlong_women_dummies"
   ]
  },
  {
   "cell_type": "code",
   "execution_count": 125,
   "id": "5d5f8f72",
   "metadata": {},
   "outputs": [],
   "source": [
    "# Create column names for the new DataFrames\n",
    "howlong_women_dummies.columns = ['hl1','hl2','hl3','hl4','hl5']"
   ]
  },
  {
   "cell_type": "code",
   "execution_count": 126,
   "id": "cb844f13",
   "metadata": {},
   "outputs": [],
   "source": [
    "# Set X as new DataFrame without the howlong columns or the Y target\n",
    "X_w = df_women.drop(['howlong'],axis=1)"
   ]
  },
  {
   "cell_type": "code",
   "execution_count": 127,
   "id": "b2a9d67f",
   "metadata": {},
   "outputs": [
    {
     "data": {
      "text/html": [
       "<div>\n",
       "<style scoped>\n",
       "    .dataframe tbody tr th:only-of-type {\n",
       "        vertical-align: middle;\n",
       "    }\n",
       "\n",
       "    .dataframe tbody tr th {\n",
       "        vertical-align: top;\n",
       "    }\n",
       "\n",
       "    .dataframe thead th {\n",
       "        text-align: right;\n",
       "    }\n",
       "</style>\n",
       "<table border=\"1\" class=\"dataframe\">\n",
       "  <thead>\n",
       "    <tr style=\"text-align: right;\">\n",
       "      <th></th>\n",
       "      <th>age</th>\n",
       "      <th>height</th>\n",
       "      <th>weight</th>\n",
       "      <th>fran</th>\n",
       "      <th>run5k</th>\n",
       "      <th>pullups</th>\n",
       "      <th>run400</th>\n",
       "      <th>candj</th>\n",
       "      <th>snatch</th>\n",
       "      <th>deadlift</th>\n",
       "      <th>backsq</th>\n",
       "      <th>coach</th>\n",
       "      <th>certification</th>\n",
       "      <th>multiple</th>\n",
       "      <th>in_games</th>\n",
       "      <th>hl1</th>\n",
       "      <th>hl2</th>\n",
       "      <th>hl3</th>\n",
       "      <th>hl4</th>\n",
       "      <th>hl5</th>\n",
       "    </tr>\n",
       "  </thead>\n",
       "  <tbody>\n",
       "    <tr>\n",
       "      <th>64482</th>\n",
       "      <td>32.0</td>\n",
       "      <td>66.0</td>\n",
       "      <td>135.0</td>\n",
       "      <td>264.0</td>\n",
       "      <td>1355.0</td>\n",
       "      <td>36.0</td>\n",
       "      <td>75.0</td>\n",
       "      <td>165.0</td>\n",
       "      <td>125.0</td>\n",
       "      <td>266.0</td>\n",
       "      <td>195.0</td>\n",
       "      <td>1</td>\n",
       "      <td>0</td>\n",
       "      <td>0</td>\n",
       "      <td>0</td>\n",
       "      <td>0</td>\n",
       "      <td>0</td>\n",
       "      <td>0</td>\n",
       "      <td>1</td>\n",
       "      <td>0</td>\n",
       "    </tr>\n",
       "    <tr>\n",
       "      <th>97672</th>\n",
       "      <td>32.0</td>\n",
       "      <td>69.0</td>\n",
       "      <td>185.0</td>\n",
       "      <td>455.0</td>\n",
       "      <td>2172.0</td>\n",
       "      <td>20.0</td>\n",
       "      <td>137.0</td>\n",
       "      <td>115.0</td>\n",
       "      <td>85.0</td>\n",
       "      <td>205.0</td>\n",
       "      <td>155.0</td>\n",
       "      <td>0</td>\n",
       "      <td>0</td>\n",
       "      <td>0</td>\n",
       "      <td>0</td>\n",
       "      <td>0</td>\n",
       "      <td>0</td>\n",
       "      <td>1</td>\n",
       "      <td>0</td>\n",
       "      <td>0</td>\n",
       "    </tr>\n",
       "    <tr>\n",
       "      <th>144480</th>\n",
       "      <td>40.0</td>\n",
       "      <td>64.0</td>\n",
       "      <td>168.0</td>\n",
       "      <td>380.0</td>\n",
       "      <td>1753.0</td>\n",
       "      <td>6.0</td>\n",
       "      <td>108.0</td>\n",
       "      <td>140.0</td>\n",
       "      <td>90.0</td>\n",
       "      <td>295.0</td>\n",
       "      <td>225.0</td>\n",
       "      <td>1</td>\n",
       "      <td>0</td>\n",
       "      <td>1</td>\n",
       "      <td>0</td>\n",
       "      <td>0</td>\n",
       "      <td>0</td>\n",
       "      <td>1</td>\n",
       "      <td>0</td>\n",
       "      <td>0</td>\n",
       "    </tr>\n",
       "    <tr>\n",
       "      <th>159571</th>\n",
       "      <td>29.0</td>\n",
       "      <td>64.0</td>\n",
       "      <td>135.0</td>\n",
       "      <td>159.0</td>\n",
       "      <td>1195.0</td>\n",
       "      <td>44.0</td>\n",
       "      <td>65.0</td>\n",
       "      <td>210.0</td>\n",
       "      <td>163.0</td>\n",
       "      <td>330.0</td>\n",
       "      <td>270.0</td>\n",
       "      <td>1</td>\n",
       "      <td>1</td>\n",
       "      <td>1</td>\n",
       "      <td>0</td>\n",
       "      <td>0</td>\n",
       "      <td>0</td>\n",
       "      <td>0</td>\n",
       "      <td>0</td>\n",
       "      <td>1</td>\n",
       "    </tr>\n",
       "    <tr>\n",
       "      <th>159574</th>\n",
       "      <td>34.0</td>\n",
       "      <td>61.0</td>\n",
       "      <td>130.0</td>\n",
       "      <td>164.0</td>\n",
       "      <td>1269.0</td>\n",
       "      <td>37.0</td>\n",
       "      <td>70.0</td>\n",
       "      <td>173.0</td>\n",
       "      <td>138.0</td>\n",
       "      <td>333.0</td>\n",
       "      <td>253.0</td>\n",
       "      <td>0</td>\n",
       "      <td>1</td>\n",
       "      <td>1</td>\n",
       "      <td>0</td>\n",
       "      <td>0</td>\n",
       "      <td>0</td>\n",
       "      <td>0</td>\n",
       "      <td>0</td>\n",
       "      <td>1</td>\n",
       "    </tr>\n",
       "  </tbody>\n",
       "</table>\n",
       "</div>"
      ],
      "text/plain": [
       "         age  height  weight   fran   run5k  pullups  run400  candj  snatch  \\\n",
       "64482   32.0    66.0   135.0  264.0  1355.0     36.0    75.0  165.0   125.0   \n",
       "97672   32.0    69.0   185.0  455.0  2172.0     20.0   137.0  115.0    85.0   \n",
       "144480  40.0    64.0   168.0  380.0  1753.0      6.0   108.0  140.0    90.0   \n",
       "159571  29.0    64.0   135.0  159.0  1195.0     44.0    65.0  210.0   163.0   \n",
       "159574  34.0    61.0   130.0  164.0  1269.0     37.0    70.0  173.0   138.0   \n",
       "\n",
       "        deadlift  backsq  coach  certification  multiple  in_games  hl1  hl2  \\\n",
       "64482      266.0   195.0      1              0         0         0    0    0   \n",
       "97672      205.0   155.0      0              0         0         0    0    0   \n",
       "144480     295.0   225.0      1              0         1         0    0    0   \n",
       "159571     330.0   270.0      1              1         1         0    0    0   \n",
       "159574     333.0   253.0      0              1         1         0    0    0   \n",
       "\n",
       "        hl3  hl4  hl5  \n",
       "64482     0    1    0  \n",
       "97672     1    0    0  \n",
       "144480    1    0    0  \n",
       "159571    0    0    1  \n",
       "159574    0    0    1  "
      ]
     },
     "execution_count": 127,
     "metadata": {},
     "output_type": "execute_result"
    }
   ],
   "source": [
    "# Now Concat the X DataFrame with the dummy variables\n",
    "X_w = pd.concat([X_w,howlong_women_dummies],axis=1)\n",
    "\n",
    "# Preview of Result\n",
    "X_w.head()"
   ]
  },
  {
   "cell_type": "code",
   "execution_count": 128,
   "id": "9864df05",
   "metadata": {},
   "outputs": [
    {
     "data": {
      "text/plain": [
       "64482     0\n",
       "97672     0\n",
       "144480    0\n",
       "159571    0\n",
       "159574    0\n",
       "         ..\n",
       "219       1\n",
       "220       1\n",
       "221       1\n",
       "222       1\n",
       "223       1\n",
       "Name: in_games, Length: 1152, dtype: int64"
      ]
     },
     "execution_count": 128,
     "metadata": {},
     "output_type": "execute_result"
    }
   ],
   "source": [
    "# Set Y as Target class, in games, for men and women\n",
    "Y_w = df_women.in_games\n",
    "\n",
    "# Preview\n",
    "Y_w"
   ]
  },
  {
   "cell_type": "code",
   "execution_count": 129,
   "id": "7d926eb9",
   "metadata": {},
   "outputs": [
    {
     "data": {
      "text/html": [
       "<div>\n",
       "<style scoped>\n",
       "    .dataframe tbody tr th:only-of-type {\n",
       "        vertical-align: middle;\n",
       "    }\n",
       "\n",
       "    .dataframe tbody tr th {\n",
       "        vertical-align: top;\n",
       "    }\n",
       "\n",
       "    .dataframe thead th {\n",
       "        text-align: right;\n",
       "    }\n",
       "</style>\n",
       "<table border=\"1\" class=\"dataframe\">\n",
       "  <thead>\n",
       "    <tr style=\"text-align: right;\">\n",
       "      <th></th>\n",
       "      <th>age</th>\n",
       "      <th>height</th>\n",
       "      <th>weight</th>\n",
       "      <th>fran</th>\n",
       "      <th>run5k</th>\n",
       "      <th>pullups</th>\n",
       "      <th>run400</th>\n",
       "      <th>candj</th>\n",
       "      <th>snatch</th>\n",
       "      <th>deadlift</th>\n",
       "      <th>backsq</th>\n",
       "      <th>coach</th>\n",
       "      <th>certification</th>\n",
       "      <th>multiple</th>\n",
       "      <th>hl2</th>\n",
       "      <th>hl3</th>\n",
       "      <th>hl4</th>\n",
       "      <th>hl5</th>\n",
       "    </tr>\n",
       "  </thead>\n",
       "  <tbody>\n",
       "    <tr>\n",
       "      <th>64482</th>\n",
       "      <td>32.0</td>\n",
       "      <td>66.0</td>\n",
       "      <td>135.0</td>\n",
       "      <td>264.0</td>\n",
       "      <td>1355.0</td>\n",
       "      <td>36.0</td>\n",
       "      <td>75.0</td>\n",
       "      <td>165.0</td>\n",
       "      <td>125.0</td>\n",
       "      <td>266.0</td>\n",
       "      <td>195.0</td>\n",
       "      <td>1</td>\n",
       "      <td>0</td>\n",
       "      <td>0</td>\n",
       "      <td>0</td>\n",
       "      <td>0</td>\n",
       "      <td>1</td>\n",
       "      <td>0</td>\n",
       "    </tr>\n",
       "    <tr>\n",
       "      <th>97672</th>\n",
       "      <td>32.0</td>\n",
       "      <td>69.0</td>\n",
       "      <td>185.0</td>\n",
       "      <td>455.0</td>\n",
       "      <td>2172.0</td>\n",
       "      <td>20.0</td>\n",
       "      <td>137.0</td>\n",
       "      <td>115.0</td>\n",
       "      <td>85.0</td>\n",
       "      <td>205.0</td>\n",
       "      <td>155.0</td>\n",
       "      <td>0</td>\n",
       "      <td>0</td>\n",
       "      <td>0</td>\n",
       "      <td>0</td>\n",
       "      <td>1</td>\n",
       "      <td>0</td>\n",
       "      <td>0</td>\n",
       "    </tr>\n",
       "    <tr>\n",
       "      <th>144480</th>\n",
       "      <td>40.0</td>\n",
       "      <td>64.0</td>\n",
       "      <td>168.0</td>\n",
       "      <td>380.0</td>\n",
       "      <td>1753.0</td>\n",
       "      <td>6.0</td>\n",
       "      <td>108.0</td>\n",
       "      <td>140.0</td>\n",
       "      <td>90.0</td>\n",
       "      <td>295.0</td>\n",
       "      <td>225.0</td>\n",
       "      <td>1</td>\n",
       "      <td>0</td>\n",
       "      <td>1</td>\n",
       "      <td>0</td>\n",
       "      <td>1</td>\n",
       "      <td>0</td>\n",
       "      <td>0</td>\n",
       "    </tr>\n",
       "    <tr>\n",
       "      <th>159571</th>\n",
       "      <td>29.0</td>\n",
       "      <td>64.0</td>\n",
       "      <td>135.0</td>\n",
       "      <td>159.0</td>\n",
       "      <td>1195.0</td>\n",
       "      <td>44.0</td>\n",
       "      <td>65.0</td>\n",
       "      <td>210.0</td>\n",
       "      <td>163.0</td>\n",
       "      <td>330.0</td>\n",
       "      <td>270.0</td>\n",
       "      <td>1</td>\n",
       "      <td>1</td>\n",
       "      <td>1</td>\n",
       "      <td>0</td>\n",
       "      <td>0</td>\n",
       "      <td>0</td>\n",
       "      <td>1</td>\n",
       "    </tr>\n",
       "    <tr>\n",
       "      <th>159574</th>\n",
       "      <td>34.0</td>\n",
       "      <td>61.0</td>\n",
       "      <td>130.0</td>\n",
       "      <td>164.0</td>\n",
       "      <td>1269.0</td>\n",
       "      <td>37.0</td>\n",
       "      <td>70.0</td>\n",
       "      <td>173.0</td>\n",
       "      <td>138.0</td>\n",
       "      <td>333.0</td>\n",
       "      <td>253.0</td>\n",
       "      <td>0</td>\n",
       "      <td>1</td>\n",
       "      <td>1</td>\n",
       "      <td>0</td>\n",
       "      <td>0</td>\n",
       "      <td>0</td>\n",
       "      <td>1</td>\n",
       "    </tr>\n",
       "  </tbody>\n",
       "</table>\n",
       "</div>"
      ],
      "text/plain": [
       "         age  height  weight   fran   run5k  pullups  run400  candj  snatch  \\\n",
       "64482   32.0    66.0   135.0  264.0  1355.0     36.0    75.0  165.0   125.0   \n",
       "97672   32.0    69.0   185.0  455.0  2172.0     20.0   137.0  115.0    85.0   \n",
       "144480  40.0    64.0   168.0  380.0  1753.0      6.0   108.0  140.0    90.0   \n",
       "159571  29.0    64.0   135.0  159.0  1195.0     44.0    65.0  210.0   163.0   \n",
       "159574  34.0    61.0   130.0  164.0  1269.0     37.0    70.0  173.0   138.0   \n",
       "\n",
       "        deadlift  backsq  coach  certification  multiple  hl2  hl3  hl4  hl5  \n",
       "64482      266.0   195.0      1              0         0    0    0    1    0  \n",
       "97672      205.0   155.0      0              0         0    0    1    0    0  \n",
       "144480     295.0   225.0      1              0         1    0    1    0    0  \n",
       "159571     330.0   270.0      1              1         1    0    0    0    1  \n",
       "159574     333.0   253.0      0              1         1    0    0    0    1  "
      ]
     },
     "execution_count": 129,
     "metadata": {},
     "output_type": "execute_result"
    }
   ],
   "source": [
    "# Dropping one column of each dummy variable set to avoid multicollinearity\n",
    "X_w = X_w.drop(['hl1'],axis=1)\n",
    "\n",
    "# Drop affairs column so Y target makes sense\n",
    "X_w = X_w.drop(['in_games'],axis=1)\n",
    "\n",
    "# Preview\n",
    "X_w.head()"
   ]
  },
  {
   "cell_type": "code",
   "execution_count": 130,
   "id": "a76d72fc",
   "metadata": {},
   "outputs": [
    {
     "data": {
      "text/plain": [
       "array([0, 0, 0, ..., 1, 1, 1])"
      ]
     },
     "execution_count": 130,
     "metadata": {},
     "output_type": "execute_result"
    }
   ],
   "source": [
    "# Flatten array\n",
    "Y_w = np.ravel(Y_w)\n",
    "\n",
    "# Check result\n",
    "Y_w"
   ]
  },
  {
   "cell_type": "markdown",
   "id": "fa6cc1f5",
   "metadata": {},
   "source": [
    "# Logistic Regression"
   ]
  },
  {
   "cell_type": "code",
   "execution_count": 131,
   "id": "03eec181",
   "metadata": {},
   "outputs": [
    {
     "name": "stderr",
     "output_type": "stream",
     "text": [
      "/Applications/anaconda3/lib/python3.9/site-packages/sklearn/linear_model/_logistic.py:763: ConvergenceWarning: lbfgs failed to converge (status=1):\n",
      "STOP: TOTAL NO. of ITERATIONS REACHED LIMIT.\n",
      "\n",
      "Increase the number of iterations (max_iter) or scale the data as shown in:\n",
      "    https://scikit-learn.org/stable/modules/preprocessing.html\n",
      "Please also refer to the documentation for alternative solver options:\n",
      "    https://scikit-learn.org/stable/modules/linear_model.html#logistic-regression\n",
      "  n_iter_i = _check_optimize_result(\n"
     ]
    },
    {
     "data": {
      "text/plain": [
       "0.8854166666666666"
      ]
     },
     "execution_count": 131,
     "metadata": {},
     "output_type": "execute_result"
    }
   ],
   "source": [
    "# Create LogisticRegression model\n",
    "log_model_w = LogisticRegression()\n",
    "\n",
    "# Fit our data\n",
    "log_model_w.fit(X_w,Y_w)\n",
    "\n",
    "# Check our accuracy\n",
    "log_model_w.score(X_w,Y_w)"
   ]
  },
  {
   "cell_type": "code",
   "execution_count": 132,
   "id": "b1c5baf2",
   "metadata": {},
   "outputs": [
    {
     "data": {
      "text/plain": [
       "0.19444444444444445"
      ]
     },
     "execution_count": 132,
     "metadata": {},
     "output_type": "execute_result"
    }
   ],
   "source": [
    "# Check percentage of women that made it to the games\n",
    "Y_w.mean()"
   ]
  },
  {
   "cell_type": "code",
   "execution_count": 133,
   "id": "1ef52189",
   "metadata": {},
   "outputs": [
    {
     "data": {
      "text/html": [
       "<div>\n",
       "<style scoped>\n",
       "    .dataframe tbody tr th:only-of-type {\n",
       "        vertical-align: middle;\n",
       "    }\n",
       "\n",
       "    .dataframe tbody tr th {\n",
       "        vertical-align: top;\n",
       "    }\n",
       "\n",
       "    .dataframe thead th {\n",
       "        text-align: right;\n",
       "    }\n",
       "</style>\n",
       "<table border=\"1\" class=\"dataframe\">\n",
       "  <thead>\n",
       "    <tr style=\"text-align: right;\">\n",
       "      <th></th>\n",
       "      <th>0</th>\n",
       "      <th>1</th>\n",
       "    </tr>\n",
       "  </thead>\n",
       "  <tbody>\n",
       "    <tr>\n",
       "      <th>0</th>\n",
       "      <td>age</td>\n",
       "      <td>[0.13188300759691232]</td>\n",
       "    </tr>\n",
       "    <tr>\n",
       "      <th>1</th>\n",
       "      <td>height</td>\n",
       "      <td>[-0.12017073841870657]</td>\n",
       "    </tr>\n",
       "    <tr>\n",
       "      <th>2</th>\n",
       "      <td>weight</td>\n",
       "      <td>[-0.0036719283918102905]</td>\n",
       "    </tr>\n",
       "    <tr>\n",
       "      <th>3</th>\n",
       "      <td>fran</td>\n",
       "      <td>[-0.004498531419721372]</td>\n",
       "    </tr>\n",
       "    <tr>\n",
       "      <th>4</th>\n",
       "      <td>run5k</td>\n",
       "      <td>[-0.003896914894081673]</td>\n",
       "    </tr>\n",
       "    <tr>\n",
       "      <th>5</th>\n",
       "      <td>pullups</td>\n",
       "      <td>[0.048395853086409854]</td>\n",
       "    </tr>\n",
       "    <tr>\n",
       "      <th>6</th>\n",
       "      <td>run400</td>\n",
       "      <td>[0.011239558974799113]</td>\n",
       "    </tr>\n",
       "    <tr>\n",
       "      <th>7</th>\n",
       "      <td>candj</td>\n",
       "      <td>[0.0192593439885912]</td>\n",
       "    </tr>\n",
       "    <tr>\n",
       "      <th>8</th>\n",
       "      <td>snatch</td>\n",
       "      <td>[0.022804019439910825]</td>\n",
       "    </tr>\n",
       "    <tr>\n",
       "      <th>9</th>\n",
       "      <td>deadlift</td>\n",
       "      <td>[-0.0013089836144267398]</td>\n",
       "    </tr>\n",
       "    <tr>\n",
       "      <th>10</th>\n",
       "      <td>backsq</td>\n",
       "      <td>[0.0012654853330719223]</td>\n",
       "    </tr>\n",
       "    <tr>\n",
       "      <th>11</th>\n",
       "      <td>coach</td>\n",
       "      <td>[0.008072899246875365]</td>\n",
       "    </tr>\n",
       "    <tr>\n",
       "      <th>12</th>\n",
       "      <td>certification</td>\n",
       "      <td>[-0.019964363657884555]</td>\n",
       "    </tr>\n",
       "    <tr>\n",
       "      <th>13</th>\n",
       "      <td>multiple</td>\n",
       "      <td>[-0.0018409673615070862]</td>\n",
       "    </tr>\n",
       "    <tr>\n",
       "      <th>14</th>\n",
       "      <td>hl2</td>\n",
       "      <td>[0.008265100725925381]</td>\n",
       "    </tr>\n",
       "    <tr>\n",
       "      <th>15</th>\n",
       "      <td>hl3</td>\n",
       "      <td>[0.009349024242111982]</td>\n",
       "    </tr>\n",
       "    <tr>\n",
       "      <th>16</th>\n",
       "      <td>hl4</td>\n",
       "      <td>[-0.008490570704242953]</td>\n",
       "    </tr>\n",
       "    <tr>\n",
       "      <th>17</th>\n",
       "      <td>hl5</td>\n",
       "      <td>[-0.013187784115992394]</td>\n",
       "    </tr>\n",
       "  </tbody>\n",
       "</table>\n",
       "</div>"
      ],
      "text/plain": [
       "                0                         1\n",
       "0             age     [0.13188300759691232]\n",
       "1          height    [-0.12017073841870657]\n",
       "2          weight  [-0.0036719283918102905]\n",
       "3            fran   [-0.004498531419721372]\n",
       "4           run5k   [-0.003896914894081673]\n",
       "5         pullups    [0.048395853086409854]\n",
       "6          run400    [0.011239558974799113]\n",
       "7           candj      [0.0192593439885912]\n",
       "8          snatch    [0.022804019439910825]\n",
       "9        deadlift  [-0.0013089836144267398]\n",
       "10         backsq   [0.0012654853330719223]\n",
       "11          coach    [0.008072899246875365]\n",
       "12  certification   [-0.019964363657884555]\n",
       "13       multiple  [-0.0018409673615070862]\n",
       "14            hl2    [0.008265100725925381]\n",
       "15            hl3    [0.009349024242111982]\n",
       "16            hl4   [-0.008490570704242953]\n",
       "17            hl5   [-0.013187784115992394]"
      ]
     },
     "execution_count": 133,
     "metadata": {},
     "output_type": "execute_result"
    }
   ],
   "source": [
    "# Use zip to bring the column names and the np.transpose function to bring together the coefficients from the model\n",
    "coeff_df_w = pd.DataFrame(zip(X_w.columns,np.transpose(log_model_w.coef_)))\n",
    "coeff_df_w"
   ]
  },
  {
   "cell_type": "markdown",
   "id": "770b18da",
   "metadata": {},
   "source": [
    "#### Testing and Training Sets"
   ]
  },
  {
   "cell_type": "code",
   "execution_count": 134,
   "id": "8982ce5d",
   "metadata": {},
   "outputs": [
    {
     "name": "stderr",
     "output_type": "stream",
     "text": [
      "/Applications/anaconda3/lib/python3.9/site-packages/sklearn/linear_model/_logistic.py:763: ConvergenceWarning: lbfgs failed to converge (status=1):\n",
      "STOP: TOTAL NO. of ITERATIONS REACHED LIMIT.\n",
      "\n",
      "Increase the number of iterations (max_iter) or scale the data as shown in:\n",
      "    https://scikit-learn.org/stable/modules/preprocessing.html\n",
      "Please also refer to the documentation for alternative solver options:\n",
      "    https://scikit-learn.org/stable/modules/linear_model.html#logistic-regression\n",
      "  n_iter_i = _check_optimize_result(\n"
     ]
    },
    {
     "data": {
      "text/plain": [
       "LogisticRegression()"
      ]
     },
     "execution_count": 134,
     "metadata": {},
     "output_type": "execute_result"
    }
   ],
   "source": [
    "# Split the data\n",
    "X_w_train, X_w_test, Y_w_train, Y_w_test = train_test_split(X_w,Y_w)\n",
    "\n",
    "# Make a new log_model\n",
    "log_model2_w = LogisticRegression()\n",
    "\n",
    "# Now fit the new model\n",
    "log_model2_w.fit(X_w_train,Y_w_train)"
   ]
  },
  {
   "cell_type": "markdown",
   "id": "481730e0",
   "metadata": {},
   "source": [
    "## Confusion Matrix"
   ]
  },
  {
   "cell_type": "code",
   "execution_count": 135,
   "id": "d85d6022",
   "metadata": {},
   "outputs": [
    {
     "data": {
      "text/plain": [
       "0.875"
      ]
     },
     "execution_count": 135,
     "metadata": {},
     "output_type": "execute_result"
    }
   ],
   "source": [
    "# Predict the classes of the testing data set\n",
    "class_predict_w = log_model2_w.predict(X_w_test)\n",
    "\n",
    "\n",
    "# Compare the predicted classes to the actual test classes\n",
    "metrics.accuracy_score(Y_w_test,class_predict_w)"
   ]
  },
  {
   "cell_type": "code",
   "execution_count": 136,
   "id": "37d44b4d",
   "metadata": {},
   "outputs": [
    {
     "name": "stdout",
     "output_type": "stream",
     "text": [
      "error rate: 0.12\n"
     ]
    },
    {
     "data": {
      "text/html": [
       "<div>\n",
       "<style scoped>\n",
       "    .dataframe tbody tr th:only-of-type {\n",
       "        vertical-align: middle;\n",
       "    }\n",
       "\n",
       "    .dataframe tbody tr th {\n",
       "        vertical-align: top;\n",
       "    }\n",
       "\n",
       "    .dataframe thead th {\n",
       "        text-align: right;\n",
       "    }\n",
       "</style>\n",
       "<table border=\"1\" class=\"dataframe\">\n",
       "  <thead>\n",
       "    <tr style=\"text-align: right;\">\n",
       "      <th>Predicted label</th>\n",
       "      <th>0</th>\n",
       "      <th>1</th>\n",
       "    </tr>\n",
       "    <tr>\n",
       "      <th>True label</th>\n",
       "      <th></th>\n",
       "      <th></th>\n",
       "    </tr>\n",
       "  </thead>\n",
       "  <tbody>\n",
       "    <tr>\n",
       "      <th>0</th>\n",
       "      <td>218</td>\n",
       "      <td>10</td>\n",
       "    </tr>\n",
       "    <tr>\n",
       "      <th>1</th>\n",
       "      <td>26</td>\n",
       "      <td>34</td>\n",
       "    </tr>\n",
       "  </tbody>\n",
       "</table>\n",
       "</div>"
      ],
      "text/plain": [
       "Predicted label    0   1\n",
       "True label              \n",
       "0                218  10\n",
       "1                 26  34"
      ]
     },
     "execution_count": 136,
     "metadata": {},
     "output_type": "execute_result"
    }
   ],
   "source": [
    "from sklearn.metrics import confusion_matrix as sk_confusion_matrix\n",
    "\n",
    "def confusion_matrix(y, y_pred):\n",
    "    cm = sk_confusion_matrix(y, y_pred)\n",
    "    cm = pd.DataFrame(data=cm, columns=[0, 1], index=[0, 1])\n",
    "    cm.columns.name = 'Predicted label'\n",
    "    cm.index.name = 'True label'\n",
    "    error_rate = (y_pred != y).mean()\n",
    "    print('error rate: %.2f' % error_rate)\n",
    "    return cm\n",
    "\n",
    "confusion_matrix(Y_w_test, class_predict_w)"
   ]
  }
 ],
 "metadata": {
  "kernelspec": {
   "display_name": "Python 3 (ipykernel)",
   "language": "python",
   "name": "python3"
  },
  "language_info": {
   "codemirror_mode": {
    "name": "ipython",
    "version": 3
   },
   "file_extension": ".py",
   "mimetype": "text/x-python",
   "name": "python",
   "nbconvert_exporter": "python",
   "pygments_lexer": "ipython3",
   "version": "3.9.7"
  }
 },
 "nbformat": 4,
 "nbformat_minor": 5
}
